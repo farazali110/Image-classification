{
  "nbformat": 4,
  "nbformat_minor": 0,
  "metadata": {
    "colab": {
      "provenance": []
    },
    "kernelspec": {
      "name": "python3",
      "display_name": "Python 3"
    },
    "language_info": {
      "name": "python"
    }
  },
  "cells": [
    {
      "cell_type": "code",
      "source": [
        "!apt-get install unrar\n"
      ],
      "metadata": {
        "colab": {
          "base_uri": "https://localhost:8080/"
        },
        "id": "BWPfjdAwNDFT",
        "outputId": "ef306525-a63f-4c14-c308-f350d2c793e0"
      },
      "execution_count": null,
      "outputs": [
        {
          "output_type": "stream",
          "name": "stdout",
          "text": [
            "Reading package lists... Done\n",
            "Building dependency tree... Done\n",
            "Reading state information... Done\n",
            "unrar is already the newest version (1:6.1.5-1ubuntu0.1).\n",
            "0 upgraded, 0 newly installed, 0 to remove and 30 not upgraded.\n"
          ]
        }
      ]
    },
    {
      "cell_type": "code",
      "source": [
        "!unrar x \"images.rar\" extracted_images/\n"
      ],
      "metadata": {
        "colab": {
          "base_uri": "https://localhost:8080/"
        },
        "collapsed": true,
        "id": "MIpWcE1dNMop",
        "outputId": "0dc97129-6b65-4027-bbef-9eb62643e87d"
      },
      "execution_count": null,
      "outputs": [
        {
          "output_type": "stream",
          "name": "stdout",
          "text": [
            "\n",
            "UNRAR 6.11 beta 1 freeware      Copyright (c) 1993-2022 Alexander Roshal\n",
            "\n",
            "\n",
            "Extracting from images.rar\n",
            "\n",
            "Creating    extracted_images                                          OK\n",
            "Creating    extracted_images/images                                   OK\n",
            "Creating    extracted_images/images/cristiano                         OK\n",
            "Extracting  extracted_images/images/cristiano/woods1.jpg                 \b\b\b\b  0%\b\b\b\b\b  OK \n",
            "Extracting  extracted_images/images/cristiano/woods10.jpg                \b\b\b\b  0%\b\b\b\b\b  OK \n",
            "Extracting  extracted_images/images/cristiano/woods100.jpg               \b\b\b\b  0%\b\b\b\b\b  OK \n",
            "Extracting  extracted_images/images/cristiano/woods101.jpg               \b\b\b\b  0%\b\b\b\b\b  OK \n",
            "Extracting  extracted_images/images/cristiano/woods102.jpg               \b\b\b\b  0%\b\b\b\b\b  OK \n",
            "Extracting  extracted_images/images/cristiano/woods103.jpg               \b\b\b\b  0%\b\b\b\b\b  OK \n",
            "Extracting  extracted_images/images/cristiano/woods104.jpg               \b\b\b\b  0%\b\b\b\b\b  OK \n",
            "Extracting  extracted_images/images/cristiano/woods105.jpg               \b\b\b\b  0%\b\b\b\b\b  OK \n",
            "Extracting  extracted_images/images/cristiano/woods106.jpg               \b\b\b\b  0%\b\b\b\b\b  OK \n",
            "Extracting  extracted_images/images/cristiano/woods107.jpg               \b\b\b\b  0%\b\b\b\b\b  OK \n",
            "Extracting  extracted_images/images/cristiano/woods108.jpg               \b\b\b\b  0%\b\b\b\b\b  OK \n",
            "Extracting  extracted_images/images/cristiano/woods109.jpg               \b\b\b\b  0%\b\b\b\b\b  OK \n",
            "Extracting  extracted_images/images/cristiano/woods11.jpg                \b\b\b\b  1%\b\b\b\b\b  OK \n",
            "Extracting  extracted_images/images/cristiano/woods110.jpg               \b\b\b\b  1%\b\b\b\b\b  OK \n",
            "Extracting  extracted_images/images/cristiano/woods111.jpg               \b\b\b\b  1%\b\b\b\b\b  OK \n",
            "Extracting  extracted_images/images/cristiano/woods112.jpg               \b\b\b\b  1%\b\b\b\b\b  OK \n",
            "Extracting  extracted_images/images/cristiano/woods113.jpg               \b\b\b\b  1%\b\b\b\b\b  OK \n",
            "Extracting  extracted_images/images/cristiano/woods114.jpg               \b\b\b\b  1%\b\b\b\b\b  OK \n",
            "Extracting  extracted_images/images/cristiano/woods115.jpg               \b\b\b\b  1%\b\b\b\b\b  OK \n",
            "Extracting  extracted_images/images/cristiano/woods116.jpg               \b\b\b\b  1%\b\b\b\b\b  OK \n",
            "Extracting  extracted_images/images/cristiano/woods117.jpg               \b\b\b\b  1%\b\b\b\b\b  OK \n",
            "Extracting  extracted_images/images/cristiano/woods118.jpg               \b\b\b\b  1%\b\b\b\b\b  OK \n",
            "Extracting  extracted_images/images/cristiano/woods119.jpg               \b\b\b\b  1%\b\b\b\b\b  OK \n",
            "Extracting  extracted_images/images/cristiano/woods12.jpg                \b\b\b\b  1%\b\b\b\b\b  OK \n",
            "Extracting  extracted_images/images/cristiano/woods120.jpg               \b\b\b\b  1%\b\b\b\b\b  OK \n",
            "Extracting  extracted_images/images/cristiano/woods121.jpg               \b\b\b\b  1%\b\b\b\b\b  OK \n",
            "Extracting  extracted_images/images/cristiano/woods122.jpg               \b\b\b\b  1%\b\b\b\b\b  OK \n",
            "Extracting  extracted_images/images/cristiano/woods123.jpg               \b\b\b\b  1%\b\b\b\b\b  OK \n",
            "Extracting  extracted_images/images/cristiano/woods124.jpg               \b\b\b\b  1%\b\b\b\b\b  OK \n",
            "Extracting  extracted_images/images/cristiano/woods13.jpg                \b\b\b\b  2%\b\b\b\b\b  OK \n",
            "Extracting  extracted_images/images/cristiano/woods14.jpg                \b\b\b\b  2%\b\b\b\b\b  OK \n",
            "Extracting  extracted_images/images/cristiano/woods15.jpg                \b\b\b\b  2%\b\b\b\b\b  OK \n",
            "Extracting  extracted_images/images/cristiano/woods16.jpg                \b\b\b\b  2%\b\b\b\b\b  OK \n",
            "Extracting  extracted_images/images/cristiano/woods17.jpg                \b\b\b\b  2%\b\b\b\b\b  OK \n",
            "Extracting  extracted_images/images/cristiano/woods18.jpg                \b\b\b\b  3%\b\b\b\b\b  OK \n",
            "Extracting  extracted_images/images/cristiano/woods19.jpg                \b\b\b\b  3%\b\b\b\b\b  OK \n",
            "Extracting  extracted_images/images/cristiano/woods2.jpg                 \b\b\b\b  3%\b\b\b\b\b  OK \n",
            "Extracting  extracted_images/images/cristiano/woods20.jpg                \b\b\b\b  3%\b\b\b\b\b  OK \n",
            "Extracting  extracted_images/images/cristiano/woods21.jpg                \b\b\b\b  3%\b\b\b\b\b  OK \n",
            "Extracting  extracted_images/images/cristiano/woods22.jpg                \b\b\b\b  3%\b\b\b\b\b  OK \n",
            "Extracting  extracted_images/images/cristiano/woods23.jpg                \b\b\b\b  3%\b\b\b\b\b  OK \n",
            "Extracting  extracted_images/images/cristiano/woods24.jpg                \b\b\b\b  4%\b\b\b\b\b  OK \n",
            "Extracting  extracted_images/images/cristiano/woods25.jpg                \b\b\b\b  4%\b\b\b\b\b  OK \n",
            "Extracting  extracted_images/images/cristiano/woods26.jpg                \b\b\b\b  4%\b\b\b\b\b  OK \n",
            "Extracting  extracted_images/images/cristiano/woods27.jpg                \b\b\b\b  4%\b\b\b\b\b  OK \n",
            "Extracting  extracted_images/images/cristiano/woods28.jpg                \b\b\b\b  4%\b\b\b\b\b  OK \n",
            "Extracting  extracted_images/images/cristiano/woods29.jpg                \b\b\b\b  4%\b\b\b\b\b  OK \n",
            "Extracting  extracted_images/images/cristiano/woods3.jpg                 \b\b\b\b  4%\b\b\b\b\b  OK \n",
            "Extracting  extracted_images/images/cristiano/woods30.jpg                \b\b\b\b  4%\b\b\b\b\b  OK \n",
            "Extracting  extracted_images/images/cristiano/woods31.jpg                \b\b\b\b  4%\b\b\b\b\b  OK \n",
            "Extracting  extracted_images/images/cristiano/woods32.jpg                \b\b\b\b  5%\b\b\b\b\b  OK \n",
            "Extracting  extracted_images/images/cristiano/woods33.jpg                \b\b\b\b  5%\b\b\b\b\b  OK \n",
            "Extracting  extracted_images/images/cristiano/woods34.jpg                \b\b\b\b  5%\b\b\b\b\b  OK \n",
            "Extracting  extracted_images/images/cristiano/woods35.jpg                \b\b\b\b  5%\b\b\b\b\b  OK \n",
            "Extracting  extracted_images/images/cristiano/woods36.jpg                \b\b\b\b  5%\b\b\b\b\b  OK \n",
            "Extracting  extracted_images/images/cristiano/woods37.jpg                \b\b\b\b  5%\b\b\b\b\b  OK \n",
            "Extracting  extracted_images/images/cristiano/woods38.jpg                \b\b\b\b  6%\b\b\b\b\b  OK \n",
            "Extracting  extracted_images/images/cristiano/woods39.jpg                \b\b\b\b  6%\b\b\b\b\b  OK \n",
            "Extracting  extracted_images/images/cristiano/woods4.jpg                 \b\b\b\b  6%\b\b\b\b\b  OK \n",
            "Extracting  extracted_images/images/cristiano/woods40.jpg                \b\b\b\b  6%\b\b\b\b\b  OK \n",
            "Extracting  extracted_images/images/cristiano/woods41.jpg                \b\b\b\b  6%\b\b\b\b\b  OK \n",
            "Extracting  extracted_images/images/cristiano/woods42.jpg                \b\b\b\b  6%\b\b\b\b\b  OK \n",
            "Extracting  extracted_images/images/cristiano/woods43.jpg                \b\b\b\b  7%\b\b\b\b\b  OK \n",
            "Extracting  extracted_images/images/cristiano/woods44.jpg                \b\b\b\b  7%\b\b\b\b\b  OK \n",
            "Extracting  extracted_images/images/cristiano/woods45.jpg                \b\b\b\b  7%\b\b\b\b\b  OK \n",
            "Extracting  extracted_images/images/cristiano/woods46.jpg                \b\b\b\b  7%\b\b\b\b\b  OK \n",
            "Extracting  extracted_images/images/cristiano/woods47.jpg                \b\b\b\b  7%\b\b\b\b\b  OK \n",
            "Extracting  extracted_images/images/cristiano/woods48.jpg                \b\b\b\b  8%\b\b\b\b\b  OK \n",
            "Extracting  extracted_images/images/cristiano/woods49.jpg                \b\b\b\b  8%\b\b\b\b\b  OK \n",
            "Extracting  extracted_images/images/cristiano/woods5.jpg                 \b\b\b\b  8%\b\b\b\b\b  OK \n",
            "Extracting  extracted_images/images/cristiano/woods50.jpg                \b\b\b\b  8%\b\b\b\b\b  OK \n",
            "Extracting  extracted_images/images/cristiano/woods51.jpg                \b\b\b\b  8%\b\b\b\b\b  OK \n",
            "Extracting  extracted_images/images/cristiano/woods52.jpg                \b\b\b\b  8%\b\b\b\b\b  OK \n",
            "Extracting  extracted_images/images/cristiano/woods53.jpg                \b\b\b\b  8%\b\b\b\b\b  OK \n",
            "Extracting  extracted_images/images/cristiano/woods54.jpg                \b\b\b\b  8%\b\b\b\b\b  OK \n",
            "Extracting  extracted_images/images/cristiano/woods55.jpg                \b\b\b\b  9%\b\b\b\b\b  OK \n",
            "Extracting  extracted_images/images/cristiano/woods56.jpg                \b\b\b\b  9%\b\b\b\b\b  OK \n",
            "Extracting  extracted_images/images/cristiano/woods57.jpg                \b\b\b\b  9%\b\b\b\b\b  OK \n",
            "Extracting  extracted_images/images/cristiano/woods58.jpg                \b\b\b\b  9%\b\b\b\b\b  OK \n",
            "Extracting  extracted_images/images/cristiano/woods59.jpg                \b\b\b\b  9%\b\b\b\b\b  OK \n",
            "Extracting  extracted_images/images/cristiano/woods6.jpg                 \b\b\b\b  9%\b\b\b\b\b  OK \n",
            "Extracting  extracted_images/images/cristiano/woods60.jpg                \b\b\b\b  9%\b\b\b\b\b  OK \n",
            "Extracting  extracted_images/images/cristiano/woods61.jpg                \b\b\b\b  9%\b\b\b\b\b  OK \n",
            "Extracting  extracted_images/images/cristiano/woods62.jpg                \b\b\b\b 10%\b\b\b\b\b  OK \n",
            "Extracting  extracted_images/images/cristiano/woods63.jpg                \b\b\b\b 10%\b\b\b\b\b  OK \n",
            "Extracting  extracted_images/images/cristiano/woods64.jpg                \b\b\b\b 10%\b\b\b\b\b  OK \n",
            "Extracting  extracted_images/images/cristiano/woods65.jpg                \b\b\b\b 10%\b\b\b\b\b  OK \n",
            "Extracting  extracted_images/images/cristiano/woods66.jpg                \b\b\b\b 10%\b\b\b\b\b  OK \n",
            "Extracting  extracted_images/images/cristiano/woods67.jpg                \b\b\b\b 10%\b\b\b\b\b  OK \n",
            "Extracting  extracted_images/images/cristiano/woods68.jpg                \b\b\b\b 11%\b\b\b\b\b  OK \n",
            "Extracting  extracted_images/images/cristiano/woods69.jpg                \b\b\b\b 11%\b\b\b\b\b  OK \n",
            "Extracting  extracted_images/images/cristiano/woods7.jpg                 \b\b\b\b 11%\b\b\b\b\b  OK \n",
            "Extracting  extracted_images/images/cristiano/woods70.jpg                \b\b\b\b 11%\b\b\b\b\b  OK \n",
            "Extracting  extracted_images/images/cristiano/woods71.jpg                \b\b\b\b 11%\b\b\b\b\b  OK \n",
            "Extracting  extracted_images/images/cristiano/woods72.jpg                \b\b\b\b 11%\b\b\b\b\b  OK \n",
            "Extracting  extracted_images/images/cristiano/woods73.jpg                \b\b\b\b 12%\b\b\b\b\b  OK \n",
            "Extracting  extracted_images/images/cristiano/woods74.jpg                \b\b\b\b 12%\b\b\b\b\b  OK \n",
            "Extracting  extracted_images/images/cristiano/woods75.jpg                \b\b\b\b 12%\b\b\b\b\b  OK \n",
            "Extracting  extracted_images/images/cristiano/woods76.jpg                \b\b\b\b 12%\b\b\b\b\b  OK \n",
            "Extracting  extracted_images/images/cristiano/woods77.jpg                \b\b\b\b 12%\b\b\b\b\b  OK \n",
            "Extracting  extracted_images/images/cristiano/woods78.jpg                \b\b\b\b 12%\b\b\b\b\b  OK \n",
            "Extracting  extracted_images/images/cristiano/woods79.jpg                \b\b\b\b 12%\b\b\b\b\b  OK \n",
            "Extracting  extracted_images/images/cristiano/woods8.jpg                 \b\b\b\b 13%\b\b\b\b\b  OK \n",
            "Extracting  extracted_images/images/cristiano/woods80.jpg                \b\b\b\b 13%\b\b\b\b\b  OK \n",
            "Extracting  extracted_images/images/cristiano/woods81.jpg                \b\b\b\b 13%\b\b\b\b\b  OK \n",
            "Extracting  extracted_images/images/cristiano/woods82.jpg                \b\b\b\b 13%\b\b\b\b\b  OK \n",
            "Extracting  extracted_images/images/cristiano/woods83.jpg                \b\b\b\b 13%\b\b\b\b\b  OK \n",
            "Extracting  extracted_images/images/cristiano/woods84.jpg                \b\b\b\b 13%\b\b\b\b\b  OK \n",
            "Extracting  extracted_images/images/cristiano/woods85.jpg                \b\b\b\b 14%\b\b\b\b\b  OK \n",
            "Extracting  extracted_images/images/cristiano/woods86.jpg                \b\b\b\b 14%\b\b\b\b\b  OK \n",
            "Extracting  extracted_images/images/cristiano/woods87.jpg                \b\b\b\b 14%\b\b\b\b\b  OK \n",
            "Extracting  extracted_images/images/cristiano/woods88.jpg                \b\b\b\b 14%\b\b\b\b\b  OK \n",
            "Extracting  extracted_images/images/cristiano/woods89.jpg                \b\b\b\b 14%\b\b\b\b\b  OK \n",
            "Extracting  extracted_images/images/cristiano/woods9.jpg                 \b\b\b\b 14%\b\b\b\b\b  OK \n",
            "Extracting  extracted_images/images/cristiano/woods90.jpg                \b\b\b\b 14%\b\b\b\b\b  OK \n",
            "Extracting  extracted_images/images/cristiano/woods91.jpg                \b\b\b\b 15%\b\b\b\b\b  OK \n",
            "Extracting  extracted_images/images/cristiano/woods92.jpg                \b\b\b\b 15%\b\b\b\b\b  OK \n",
            "Extracting  extracted_images/images/cristiano/woods93.jpg                \b\b\b\b 15%\b\b\b\b\b  OK \n",
            "Extracting  extracted_images/images/cristiano/woods94.jpg                \b\b\b\b 15%\b\b\b\b\b  OK \n",
            "Extracting  extracted_images/images/cristiano/woods95.jpg                \b\b\b\b 15%\b\b\b\b\b  OK \n",
            "Extracting  extracted_images/images/cristiano/woods96.jpg                \b\b\b\b 15%\b\b\b\b\b  OK \n",
            "Extracting  extracted_images/images/cristiano/woods97.jpg                \b\b\b\b 15%\b\b\b\b\b  OK \n",
            "Extracting  extracted_images/images/cristiano/woods98.jpg                \b\b\b\b 15%\b\b\b\b\b  OK \n",
            "Extracting  extracted_images/images/cristiano/woods99.jpg                \b\b\b\b 15%\b\b\b\b\b  OK \n",
            "Creating    extracted_images/images/john cena                         OK\n",
            "Extracting  extracted_images/images/john cena/woods1.jpg                 \b\b\b\b 16%\b\b\b\b\b  OK \n",
            "Extracting  extracted_images/images/john cena/woods10.jpg                \b\b\b\b 16%\b\b\b\b\b  OK \n",
            "Extracting  extracted_images/images/john cena/woods100.jpg               \b\b\b\b 16%\b\b\b\b\b  OK \n",
            "Extracting  extracted_images/images/john cena/woods101.jpg               \b\b\b\b 16%\b\b\b\b\b  OK \n",
            "Extracting  extracted_images/images/john cena/woods102.jpg               \b\b\b\b 16%\b\b\b\b\b  OK \n",
            "Extracting  extracted_images/images/john cena/woods103.jpg               \b\b\b\b 17%\b\b\b\b\b  OK \n",
            "Extracting  extracted_images/images/john cena/woods104.jpg               \b\b\b\b 17%\b\b\b\b\b  OK \n",
            "Extracting  extracted_images/images/john cena/woods105.jpg               \b\b\b\b 17%\b\b\b\b\b  OK \n",
            "Extracting  extracted_images/images/john cena/woods106.jpg               \b\b\b\b 17%\b\b\b\b\b  OK \n",
            "Extracting  extracted_images/images/john cena/woods107.jpg               \b\b\b\b 17%\b\b\b\b\b  OK \n",
            "Extracting  extracted_images/images/john cena/woods11.jpg                \b\b\b\b 17%\b\b\b\b\b  OK \n",
            "Extracting  extracted_images/images/john cena/woods12.jpg                \b\b\b\b 18%\b\b\b\b\b  OK \n",
            "Extracting  extracted_images/images/john cena/woods13.jpg                \b\b\b\b 18%\b\b\b\b\b  OK \n",
            "Extracting  extracted_images/images/john cena/woods14.jpg                \b\b\b\b 18%\b\b\b\b\b  OK \n",
            "Extracting  extracted_images/images/john cena/woods15.jpg                \b\b\b\b 18%\b\b\b\b\b  OK \n",
            "Extracting  extracted_images/images/john cena/woods16.jpg                \b\b\b\b 18%\b\b\b\b\b  OK \n",
            "Extracting  extracted_images/images/john cena/woods17.jpg                \b\b\b\b 18%\b\b\b\b\b  OK \n",
            "Extracting  extracted_images/images/john cena/woods18.jpg                \b\b\b\b 19%\b\b\b\b\b  OK \n",
            "Extracting  extracted_images/images/john cena/woods19.jpg                \b\b\b\b 19%\b\b\b\b\b  OK \n",
            "Extracting  extracted_images/images/john cena/woods2.jpg                 \b\b\b\b 19%\b\b\b\b\b  OK \n",
            "Extracting  extracted_images/images/john cena/woods20.jpg                \b\b\b\b 19%\b\b\b\b\b  OK \n",
            "Extracting  extracted_images/images/john cena/woods21.jpg                \b\b\b\b 19%\b\b\b\b\b  OK \n",
            "Extracting  extracted_images/images/john cena/woods22.jpg                \b\b\b\b 19%\b\b\b\b\b  OK \n",
            "Extracting  extracted_images/images/john cena/woods23.jpg                \b\b\b\b 20%\b\b\b\b\b  OK \n",
            "Extracting  extracted_images/images/john cena/woods24.jpg                \b\b\b\b 20%\b\b\b\b\b  OK \n",
            "Extracting  extracted_images/images/john cena/woods25.jpg                \b\b\b\b 20%\b\b\b\b\b  OK \n",
            "Extracting  extracted_images/images/john cena/woods26.jpg                \b\b\b\b 20%\b\b\b\b\b  OK \n",
            "Extracting  extracted_images/images/john cena/woods27.jpg                \b\b\b\b 20%\b\b\b\b\b  OK \n",
            "Extracting  extracted_images/images/john cena/woods28.jpg                \b\b\b\b 20%\b\b\b\b\b  OK \n",
            "Extracting  extracted_images/images/john cena/woods29.jpg                \b\b\b\b 21%\b\b\b\b\b  OK \n",
            "Extracting  extracted_images/images/john cena/woods3.jpg                 \b\b\b\b 21%\b\b\b\b\b  OK \n",
            "Extracting  extracted_images/images/john cena/woods30.jpg                \b\b\b\b 21%\b\b\b\b\b  OK \n",
            "Extracting  extracted_images/images/john cena/woods31.jpg                \b\b\b\b 21%\b\b\b\b\b  OK \n",
            "Extracting  extracted_images/images/john cena/woods32.jpg                \b\b\b\b 21%\b\b\b\b\b  OK \n",
            "Extracting  extracted_images/images/john cena/woods33.jpg                \b\b\b\b 21%\b\b\b\b\b  OK \n",
            "Extracting  extracted_images/images/john cena/woods34.jpg                \b\b\b\b 22%\b\b\b\b\b  OK \n",
            "Extracting  extracted_images/images/john cena/woods35.jpg                \b\b\b\b 22%\b\b\b\b\b  OK \n",
            "Extracting  extracted_images/images/john cena/woods36.jpg                \b\b\b\b 22%\b\b\b\b\b  OK \n",
            "Extracting  extracted_images/images/john cena/woods37.jpg                \b\b\b\b 22%\b\b\b\b\b  OK \n",
            "Extracting  extracted_images/images/john cena/woods38.jpg                \b\b\b\b 22%\b\b\b\b\b  OK \n",
            "Extracting  extracted_images/images/john cena/woods39.jpg                \b\b\b\b 22%\b\b\b\b\b  OK \n",
            "Extracting  extracted_images/images/john cena/woods4.jpg                 \b\b\b\b 22%\b\b\b\b\b  OK \n",
            "Extracting  extracted_images/images/john cena/woods40.jpg                \b\b\b\b 23%\b\b\b\b\b  OK \n",
            "Extracting  extracted_images/images/john cena/woods41.jpg                \b\b\b\b 23%\b\b\b\b\b  OK \n",
            "Extracting  extracted_images/images/john cena/woods42.jpg                \b\b\b\b 23%\b\b\b\b\b  OK \n",
            "Extracting  extracted_images/images/john cena/woods43.jpg                \b\b\b\b 23%\b\b\b\b\b  OK \n",
            "Extracting  extracted_images/images/john cena/woods44.jpg                \b\b\b\b 23%\b\b\b\b\b  OK \n",
            "Extracting  extracted_images/images/john cena/woods45.jpg                \b\b\b\b 23%\b\b\b\b\b  OK \n",
            "Extracting  extracted_images/images/john cena/woods46.jpg                \b\b\b\b 23%\b\b\b\b\b  OK \n",
            "Extracting  extracted_images/images/john cena/woods47.jpg                \b\b\b\b 24%\b\b\b\b\b  OK \n",
            "Extracting  extracted_images/images/john cena/woods48.jpg                \b\b\b\b 24%\b\b\b\b\b  OK \n",
            "Extracting  extracted_images/images/john cena/woods49.jpg                \b\b\b\b 24%\b\b\b\b\b  OK \n",
            "Extracting  extracted_images/images/john cena/woods5.jpg                 \b\b\b\b 24%\b\b\b\b\b  OK \n",
            "Extracting  extracted_images/images/john cena/woods50.jpg                \b\b\b\b 24%\b\b\b\b\b  OK \n",
            "Extracting  extracted_images/images/john cena/woods51.jpg                \b\b\b\b 24%\b\b\b\b\b  OK \n",
            "Extracting  extracted_images/images/john cena/woods52.jpg                \b\b\b\b 24%\b\b\b\b\b  OK \n",
            "Extracting  extracted_images/images/john cena/woods53.jpg                \b\b\b\b 25%\b\b\b\b\b  OK \n",
            "Extracting  extracted_images/images/john cena/woods54.jpg                \b\b\b\b 25%\b\b\b\b\b  OK \n",
            "Extracting  extracted_images/images/john cena/woods55.jpg                \b\b\b\b 25%\b\b\b\b\b  OK \n",
            "Extracting  extracted_images/images/john cena/woods56.jpg                \b\b\b\b 25%\b\b\b\b\b  OK \n",
            "Extracting  extracted_images/images/john cena/woods57.jpg                \b\b\b\b 25%\b\b\b\b\b  OK \n",
            "Extracting  extracted_images/images/john cena/woods58.jpg                \b\b\b\b 25%\b\b\b\b\b  OK \n",
            "Extracting  extracted_images/images/john cena/woods59.jpg                \b\b\b\b 26%\b\b\b\b\b  OK \n",
            "Extracting  extracted_images/images/john cena/woods6.jpg                 \b\b\b\b 26%\b\b\b\b\b  OK \n",
            "Extracting  extracted_images/images/john cena/woods60.jpg                \b\b\b\b 26%\b\b\b\b\b  OK \n",
            "Extracting  extracted_images/images/john cena/woods61.jpg                \b\b\b\b 26%\b\b\b\b\b  OK \n",
            "Extracting  extracted_images/images/john cena/woods62.jpg                \b\b\b\b 26%\b\b\b\b\b  OK \n",
            "Extracting  extracted_images/images/john cena/woods63.jpg                \b\b\b\b 26%\b\b\b\b\b  OK \n",
            "Extracting  extracted_images/images/john cena/woods64.jpg                \b\b\b\b 27%\b\b\b\b\b  OK \n",
            "Extracting  extracted_images/images/john cena/woods65.jpg                \b\b\b\b 27%\b\b\b\b\b  OK \n",
            "Extracting  extracted_images/images/john cena/woods66.jpg                \b\b\b\b 27%\b\b\b\b\b  OK \n",
            "Extracting  extracted_images/images/john cena/woods67.jpg                \b\b\b\b 27%\b\b\b\b\b  OK \n",
            "Extracting  extracted_images/images/john cena/woods68.jpg                \b\b\b\b 27%\b\b\b\b\b  OK \n",
            "Extracting  extracted_images/images/john cena/woods69.jpg                \b\b\b\b 28%\b\b\b\b\b  OK \n",
            "Extracting  extracted_images/images/john cena/woods7.jpg                 \b\b\b\b 28%\b\b\b\b\b  OK \n",
            "Extracting  extracted_images/images/john cena/woods70.jpg                \b\b\b\b 28%\b\b\b\b\b  OK \n",
            "Extracting  extracted_images/images/john cena/woods71.jpg                \b\b\b\b 28%\b\b\b\b\b  OK \n",
            "Extracting  extracted_images/images/john cena/woods72.jpg                \b\b\b\b 28%\b\b\b\b\b  OK \n",
            "Extracting  extracted_images/images/john cena/woods73.jpg                \b\b\b\b 29%\b\b\b\b\b  OK \n",
            "Extracting  extracted_images/images/john cena/woods74.jpg                \b\b\b\b 29%\b\b\b\b\b  OK \n",
            "Extracting  extracted_images/images/john cena/woods75.jpg                \b\b\b\b 29%\b\b\b\b\b  OK \n",
            "Extracting  extracted_images/images/john cena/woods76.jpg                \b\b\b\b 29%\b\b\b\b\b  OK \n",
            "Extracting  extracted_images/images/john cena/woods77.jpg                \b\b\b\b 29%\b\b\b\b\b  OK \n",
            "Extracting  extracted_images/images/john cena/woods78.jpg                \b\b\b\b 29%\b\b\b\b\b  OK \n",
            "Extracting  extracted_images/images/john cena/woods79.jpg                \b\b\b\b 30%\b\b\b\b\b  OK \n",
            "Extracting  extracted_images/images/john cena/woods8.jpg                 \b\b\b\b 30%\b\b\b\b\b  OK \n",
            "Extracting  extracted_images/images/john cena/woods80.jpg                \b\b\b\b 30%\b\b\b\b\b  OK \n",
            "Extracting  extracted_images/images/john cena/woods81.jpg                \b\b\b\b 30%\b\b\b\b\b  OK \n",
            "Extracting  extracted_images/images/john cena/woods82.jpg                \b\b\b\b 31%\b\b\b\b\b  OK \n",
            "Extracting  extracted_images/images/john cena/woods83.jpg                \b\b\b\b 31%\b\b\b\b\b  OK \n",
            "Extracting  extracted_images/images/john cena/woods84.jpg                \b\b\b\b 31%\b\b\b\b\b  OK \n",
            "Extracting  extracted_images/images/john cena/woods85.jpg                \b\b\b\b 31%\b\b\b\b\b  OK \n",
            "Extracting  extracted_images/images/john cena/woods86.jpg                \b\b\b\b 31%\b\b\b\b\b  OK \n",
            "Extracting  extracted_images/images/john cena/woods87.jpg                \b\b\b\b 32%\b\b\b\b\b  OK \n",
            "Extracting  extracted_images/images/john cena/woods88.jpg                \b\b\b\b 32%\b\b\b\b\b  OK \n",
            "Extracting  extracted_images/images/john cena/woods89.jpg                \b\b\b\b 32%\b\b\b\b\b  OK \n",
            "Extracting  extracted_images/images/john cena/woods9.jpg                 \b\b\b\b 32%\b\b\b\b\b  OK \n",
            "Extracting  extracted_images/images/john cena/woods90.jpg                \b\b\b\b 32%\b\b\b\b\b  OK \n",
            "Extracting  extracted_images/images/john cena/woods91.jpg                \b\b\b\b 32%\b\b\b\b\b  OK \n",
            "Extracting  extracted_images/images/john cena/woods92.jpg                \b\b\b\b 33%\b\b\b\b\b  OK \n",
            "Extracting  extracted_images/images/john cena/woods93.jpg                \b\b\b\b 33%\b\b\b\b\b  OK \n",
            "Extracting  extracted_images/images/john cena/woods94.jpg                \b\b\b\b 33%\b\b\b\b\b  OK \n",
            "Extracting  extracted_images/images/john cena/woods95.jpg                \b\b\b\b 33%\b\b\b\b\b  OK \n",
            "Extracting  extracted_images/images/john cena/woods96.jpg                \b\b\b\b 33%\b\b\b\b\b  OK \n",
            "Extracting  extracted_images/images/john cena/woods97.jpg                \b\b\b\b 33%\b\b\b\b\b  OK \n",
            "Extracting  extracted_images/images/john cena/woods98.jpg                \b\b\b\b 34%\b\b\b\b\b  OK \n",
            "Extracting  extracted_images/images/john cena/woods99.jpg                \b\b\b\b 34%\b\b\b\b\b  OK \n",
            "Creating    extracted_images/images/kobe                              OK\n",
            "Extracting  extracted_images/images/kobe/woods1.jpg                      \b\b\b\b 34%\b\b\b\b\b  OK \n",
            "Extracting  extracted_images/images/kobe/woods10.jpg                     \b\b\b\b 34%\b\b\b\b\b  OK \n",
            "Extracting  extracted_images/images/kobe/woods100.jpg                    \b\b\b\b 34%\b\b\b\b\b  OK \n",
            "Extracting  extracted_images/images/kobe/woods101.jpg                    \b\b\b\b 35%\b\b\b\b\b  OK \n",
            "Extracting  extracted_images/images/kobe/woods102.jpg                    \b\b\b\b 35%\b\b\b\b\b  OK \n",
            "Extracting  extracted_images/images/kobe/woods103.jpg                    \b\b\b\b 35%\b\b\b\b\b  OK \n",
            "Extracting  extracted_images/images/kobe/woods104.jpg                    \b\b\b\b 35%\b\b\b\b\b  OK \n",
            "Extracting  extracted_images/images/kobe/woods105.jpg                    \b\b\b\b 36%\b\b\b\b\b  OK \n",
            "Extracting  extracted_images/images/kobe/woods106.jpg                    \b\b\b\b 36%\b\b\b\b\b  OK \n",
            "Extracting  extracted_images/images/kobe/woods107.jpg                    \b\b\b\b 36%\b\b\b\b\b  OK \n",
            "Extracting  extracted_images/images/kobe/woods108.jpg                    \b\b\b\b 36%\b\b\b\b\b  OK \n",
            "Extracting  extracted_images/images/kobe/woods109.jpg                    \b\b\b\b 36%\b\b\b\b\b  OK \n",
            "Extracting  extracted_images/images/kobe/woods11.jpg                     \b\b\b\b 36%\b\b\b\b\b  OK \n",
            "Extracting  extracted_images/images/kobe/woods110.jpg                    \b\b\b\b 36%\b\b\b\b\b  OK \n",
            "Extracting  extracted_images/images/kobe/woods111.jpg                    \b\b\b\b 36%\b\b\b\b\b  OK \n",
            "Extracting  extracted_images/images/kobe/woods112.jpg                    \b\b\b\b 36%\b\b\b\b\b  OK \n",
            "Extracting  extracted_images/images/kobe/woods113.jpg                    \b\b\b\b 36%\b\b\b\b\b  OK \n",
            "Extracting  extracted_images/images/kobe/woods114.jpg                    \b\b\b\b 37%\b\b\b\b\b  OK \n",
            "Extracting  extracted_images/images/kobe/woods115.jpg                    \b\b\b\b 37%\b\b\b\b\b  OK \n",
            "Extracting  extracted_images/images/kobe/woods116.jpg                    \b\b\b\b 37%\b\b\b\b\b  OK \n",
            "Extracting  extracted_images/images/kobe/woods117.jpg                    \b\b\b\b 37%\b\b\b\b\b  OK \n",
            "Extracting  extracted_images/images/kobe/woods118.jpg                    \b\b\b\b 38%\b\b\b\b\b  OK \n",
            "Extracting  extracted_images/images/kobe/woods119.jpg                    \b\b\b\b 38%\b\b\b\b\b  OK \n",
            "Extracting  extracted_images/images/kobe/woods12.jpg                     \b\b\b\b 38%\b\b\b\b\b  OK \n",
            "Extracting  extracted_images/images/kobe/woods120.jpg                    \b\b\b\b 38%\b\b\b\b\b  OK \n",
            "Extracting  extracted_images/images/kobe/woods121.jpg                    \b\b\b\b 38%\b\b\b\b\b  OK \n",
            "Extracting  extracted_images/images/kobe/woods122.jpg                    \b\b\b\b 38%\b\b\b\b\b  OK \n",
            "Extracting  extracted_images/images/kobe/woods123.jpg                    \b\b\b\b 39%\b\b\b\b\b  OK \n",
            "Extracting  extracted_images/images/kobe/woods124.jpg                    \b\b\b\b 39%\b\b\b\b\b  OK \n",
            "Extracting  extracted_images/images/kobe/woods125.jpg                    \b\b\b\b 39%\b\b\b\b\b  OK \n",
            "Extracting  extracted_images/images/kobe/woods126.jpg                    \b\b\b\b 39%\b\b\b\b\b  OK \n",
            "Extracting  extracted_images/images/kobe/woods127.jpg                    \b\b\b\b 40%\b\b\b\b\b  OK \n",
            "Extracting  extracted_images/images/kobe/woods128.jpg                    \b\b\b\b 40%\b\b\b\b\b  OK \n",
            "Extracting  extracted_images/images/kobe/woods129.jpg                    \b\b\b\b 40%\b\b\b\b\b  OK \n",
            "Extracting  extracted_images/images/kobe/woods13.jpg                     \b\b\b\b 40%\b\b\b\b\b  OK \n",
            "Extracting  extracted_images/images/kobe/woods130.jpg                    \b\b\b\b 40%\b\b\b\b\b  OK \n",
            "Extracting  extracted_images/images/kobe/woods131.jpg                    \b\b\b\b 40%\b\b\b\b\b  OK \n",
            "Extracting  extracted_images/images/kobe/woods132.jpg                    \b\b\b\b 40%\b\b\b\b\b  OK \n",
            "Extracting  extracted_images/images/kobe/woods133.jpg                    \b\b\b\b 41%\b\b\b\b\b  OK \n",
            "Extracting  extracted_images/images/kobe/woods134.jpg                    \b\b\b\b 41%\b\b\b\b\b  OK \n",
            "Extracting  extracted_images/images/kobe/woods135.jpg                    \b\b\b\b 41%\b\b\b\b\b  OK \n",
            "Extracting  extracted_images/images/kobe/woods136.jpg                    \b\b\b\b 41%\b\b\b\b\b  OK \n",
            "Extracting  extracted_images/images/kobe/woods137.jpg                    \b\b\b\b 41%\b\b\b\b\b  OK \n",
            "Extracting  extracted_images/images/kobe/woods138.jpg                    \b\b\b\b 42%\b\b\b\b\b  OK \n",
            "Extracting  extracted_images/images/kobe/woods139.jpg                    \b\b\b\b 42%\b\b\b\b\b  OK \n",
            "Extracting  extracted_images/images/kobe/woods14.jpg                     \b\b\b\b 42%\b\b\b\b\b  OK \n",
            "Extracting  extracted_images/images/kobe/woods140.jpg                    \b\b\b\b 42%\b\b\b\b\b  OK \n",
            "Extracting  extracted_images/images/kobe/woods141.jpg                    \b\b\b\b 42%\b\b\b\b\b  OK \n",
            "Extracting  extracted_images/images/kobe/woods142.jpg                    \b\b\b\b 42%\b\b\b\b\b  OK \n",
            "Extracting  extracted_images/images/kobe/woods143.jpg                    \b\b\b\b 43%\b\b\b\b\b  OK \n",
            "Extracting  extracted_images/images/kobe/woods144.jpg                    \b\b\b\b 43%\b\b\b\b\b  OK \n",
            "Extracting  extracted_images/images/kobe/woods145.jpg                    \b\b\b\b 43%\b\b\b\b\b  OK \n",
            "Extracting  extracted_images/images/kobe/woods146.jpg                    \b\b\b\b 43%\b\b\b\b\b  OK \n",
            "Extracting  extracted_images/images/kobe/woods147.jpg                    \b\b\b\b 44%\b\b\b\b\b  OK \n",
            "Extracting  extracted_images/images/kobe/woods148.jpg                    \b\b\b\b 44%\b\b\b\b\b  OK \n",
            "Extracting  extracted_images/images/kobe/woods149.jpg                    \b\b\b\b 44%\b\b\b\b\b  OK \n",
            "Extracting  extracted_images/images/kobe/woods15.jpg                     \b\b\b\b 44%\b\b\b\b\b  OK \n",
            "Extracting  extracted_images/images/kobe/woods150.jpg                    \b\b\b\b 45%\b\b\b\b\b  OK \n",
            "Extracting  extracted_images/images/kobe/woods151.jpg                    \b\b\b\b 45%\b\b\b\b\b  OK \n",
            "Extracting  extracted_images/images/kobe/woods152.jpg                    \b\b\b\b 45%\b\b\b\b\b  OK \n",
            "Extracting  extracted_images/images/kobe/woods153.jpg                    \b\b\b\b 45%\b\b\b\b\b  OK \n",
            "Extracting  extracted_images/images/kobe/woods154.jpg                    \b\b\b\b 45%\b\b\b\b\b  OK \n",
            "Extracting  extracted_images/images/kobe/woods155.jpg                    \b\b\b\b 45%\b\b\b\b\b  OK \n",
            "Extracting  extracted_images/images/kobe/woods156.jpg                    \b\b\b\b 46%\b\b\b\b\b  OK \n",
            "Extracting  extracted_images/images/kobe/woods157.jpg                    \b\b\b\b 46%\b\b\b\b\b  OK \n",
            "Extracting  extracted_images/images/kobe/woods158.jpg                    \b\b\b\b 46%\b\b\b\b\b  OK \n",
            "Extracting  extracted_images/images/kobe/woods159.jpg                    \b\b\b\b 46%\b\b\b\b\b  OK \n",
            "Extracting  extracted_images/images/kobe/woods16.jpg                     \b\b\b\b 46%\b\b\b\b\b  OK \n",
            "Extracting  extracted_images/images/kobe/woods160.jpg                    \b\b\b\b 46%\b\b\b\b\b  OK \n",
            "Extracting  extracted_images/images/kobe/woods161.jpg                    \b\b\b\b 47%\b\b\b\b\b  OK \n",
            "Extracting  extracted_images/images/kobe/woods162.jpg                    \b\b\b\b 47%\b\b\b\b\b  OK \n",
            "Extracting  extracted_images/images/kobe/woods163.jpg                    \b\b\b\b 47%\b\b\b\b\b  OK \n",
            "Extracting  extracted_images/images/kobe/woods164.jpg                    \b\b\b\b 47%\b\b\b\b\b  OK \n",
            "Extracting  extracted_images/images/kobe/woods165.jpg                    \b\b\b\b 47%\b\b\b\b\b  OK \n",
            "Extracting  extracted_images/images/kobe/woods166.jpg                    \b\b\b\b 48%\b\b\b\b\b  OK \n",
            "Extracting  extracted_images/images/kobe/woods167.jpg                    \b\b\b\b 48%\b\b\b\b\b  OK \n",
            "Extracting  extracted_images/images/kobe/woods168.jpg                    \b\b\b\b 48%\b\b\b\b\b  OK \n",
            "Extracting  extracted_images/images/kobe/woods169.jpg                    \b\b\b\b 48%\b\b\b\b\b  OK \n",
            "Extracting  extracted_images/images/kobe/woods17.jpg                     \b\b\b\b 48%\b\b\b\b\b  OK \n",
            "Extracting  extracted_images/images/kobe/woods170.jpg                    \b\b\b\b 49%\b\b\b\b\b  OK \n",
            "Extracting  extracted_images/images/kobe/woods171.jpg                    \b\b\b\b 49%\b\b\b\b\b  OK \n",
            "Extracting  extracted_images/images/kobe/woods18.jpg                     \b\b\b\b 49%\b\b\b\b\b  OK \n",
            "Extracting  extracted_images/images/kobe/woods19.jpg                     \b\b\b\b 49%\b\b\b\b\b  OK \n",
            "Extracting  extracted_images/images/kobe/woods2.jpg                      \b\b\b\b 49%\b\b\b\b\b  OK \n",
            "Extracting  extracted_images/images/kobe/woods20.jpg                     \b\b\b\b 50%\b\b\b\b\b  OK \n",
            "Extracting  extracted_images/images/kobe/woods21.jpg                     \b\b\b\b 50%\b\b\b\b\b  OK \n",
            "Extracting  extracted_images/images/kobe/woods22.jpg                     \b\b\b\b 50%\b\b\b\b\b  OK \n",
            "Extracting  extracted_images/images/kobe/woods23.jpg                     \b\b\b\b 50%\b\b\b\b\b  OK \n",
            "Extracting  extracted_images/images/kobe/woods24.jpg                     \b\b\b\b 50%\b\b\b\b\b  OK \n",
            "Extracting  extracted_images/images/kobe/woods25.jpg                     \b\b\b\b 50%\b\b\b\b\b  OK \n",
            "Extracting  extracted_images/images/kobe/woods26.jpg                     \b\b\b\b 50%\b\b\b\b\b  OK \n",
            "Extracting  extracted_images/images/kobe/woods27.jpg                     \b\b\b\b 50%\b\b\b\b\b  OK \n",
            "Extracting  extracted_images/images/kobe/woods28.jpg                     \b\b\b\b 51%\b\b\b\b\b  OK \n",
            "Extracting  extracted_images/images/kobe/woods29.jpg                     \b\b\b\b 51%\b\b\b\b\b  OK \n",
            "Extracting  extracted_images/images/kobe/woods3.jpg                      \b\b\b\b 51%\b\b\b\b\b  OK \n",
            "Extracting  extracted_images/images/kobe/woods30.jpg                     \b\b\b\b 51%\b\b\b\b\b  OK \n",
            "Extracting  extracted_images/images/kobe/woods31.jpg                     \b\b\b\b 51%\b\b\b\b\b  OK \n",
            "Extracting  extracted_images/images/kobe/woods32.jpg                     \b\b\b\b 51%\b\b\b\b\b  OK \n",
            "Extracting  extracted_images/images/kobe/woods33.jpg                     \b\b\b\b 52%\b\b\b\b\b  OK \n",
            "Extracting  extracted_images/images/kobe/woods34.jpg                     \b\b\b\b 52%\b\b\b\b\b  OK \n",
            "Extracting  extracted_images/images/kobe/woods35.jpg                     \b\b\b\b 52%\b\b\b\b\b  OK \n",
            "Extracting  extracted_images/images/kobe/woods36.jpg                     \b\b\b\b 52%\b\b\b\b\b  OK \n",
            "Extracting  extracted_images/images/kobe/woods37.jpg                     \b\b\b\b 52%\b\b\b\b\b  OK \n",
            "Extracting  extracted_images/images/kobe/woods38.jpg                     \b\b\b\b 53%\b\b\b\b\b  OK \n",
            "Extracting  extracted_images/images/kobe/woods39.jpg                     \b\b\b\b 53%\b\b\b\b\b  OK \n",
            "Extracting  extracted_images/images/kobe/woods4.jpg                      \b\b\b\b 53%\b\b\b\b\b  OK \n",
            "Extracting  extracted_images/images/kobe/woods40.jpg                     \b\b\b\b 53%\b\b\b\b\b  OK \n",
            "Extracting  extracted_images/images/kobe/woods41.jpg                     \b\b\b\b 53%\b\b\b\b\b  OK \n",
            "Extracting  extracted_images/images/kobe/woods42.jpg                     \b\b\b\b 54%\b\b\b\b\b  OK \n",
            "Extracting  extracted_images/images/kobe/woods43.jpg                     \b\b\b\b 54%\b\b\b\b\b  OK \n",
            "Extracting  extracted_images/images/kobe/woods44.jpg                     \b\b\b\b 54%\b\b\b\b\b  OK \n",
            "Extracting  extracted_images/images/kobe/woods45.jpg                     \b\b\b\b 54%\b\b\b\b\b  OK \n",
            "Extracting  extracted_images/images/kobe/woods46.jpg                     \b\b\b\b 54%\b\b\b\b\b  OK \n",
            "Extracting  extracted_images/images/kobe/woods47.jpg                     \b\b\b\b 54%\b\b\b\b\b  OK \n",
            "Extracting  extracted_images/images/kobe/woods48.jpg                     \b\b\b\b 54%\b\b\b\b\b  OK \n",
            "Extracting  extracted_images/images/kobe/woods49.jpg                     \b\b\b\b 55%\b\b\b\b\b  OK \n",
            "Extracting  extracted_images/images/kobe/woods5.jpg                      \b\b\b\b 55%\b\b\b\b\b  OK \n",
            "Extracting  extracted_images/images/kobe/woods50.jpg                     \b\b\b\b 55%\b\b\b\b\b  OK \n",
            "Extracting  extracted_images/images/kobe/woods51.jpg                     \b\b\b\b 55%\b\b\b\b\b  OK \n",
            "Extracting  extracted_images/images/kobe/woods52.jpg                     \b\b\b\b 56%\b\b\b\b\b  OK \n",
            "Extracting  extracted_images/images/kobe/woods53.jpg                     \b\b\b\b 56%\b\b\b\b\b  OK \n",
            "Extracting  extracted_images/images/kobe/woods54.jpg                     \b\b\b\b 56%\b\b\b\b\b  OK \n",
            "Extracting  extracted_images/images/kobe/woods55.jpg                     \b\b\b\b 56%\b\b\b\b\b  OK \n",
            "Extracting  extracted_images/images/kobe/woods56.jpg                     \b\b\b\b 56%\b\b\b\b\b  OK \n",
            "Extracting  extracted_images/images/kobe/woods57.jpg                     \b\b\b\b 56%\b\b\b\b\b  OK \n",
            "Extracting  extracted_images/images/kobe/woods58.jpg                     \b\b\b\b 56%\b\b\b\b\b  OK \n",
            "Extracting  extracted_images/images/kobe/woods59.jpg                     \b\b\b\b 57%\b\b\b\b\b  OK \n",
            "Extracting  extracted_images/images/kobe/woods6.jpg                      \b\b\b\b 57%\b\b\b\b\b  OK \n",
            "Extracting  extracted_images/images/kobe/woods60.jpg                     \b\b\b\b 57%\b\b\b\b\b  OK \n",
            "Extracting  extracted_images/images/kobe/woods61.jpg                     \b\b\b\b 57%\b\b\b\b\b  OK \n",
            "Extracting  extracted_images/images/kobe/woods62.jpg                     \b\b\b\b 57%\b\b\b\b\b  OK \n",
            "Extracting  extracted_images/images/kobe/woods63.jpg                     \b\b\b\b 58%\b\b\b\b\b  OK \n",
            "Extracting  extracted_images/images/kobe/woods64.jpg                     \b\b\b\b 58%\b\b\b\b\b  OK \n",
            "Extracting  extracted_images/images/kobe/woods65.jpg                     \b\b\b\b 58%\b\b\b\b\b  OK \n",
            "Extracting  extracted_images/images/kobe/woods66.jpg                     \b\b\b\b 58%\b\b\b\b\b  OK \n",
            "Extracting  extracted_images/images/kobe/woods67.jpg                     \b\b\b\b 58%\b\b\b\b\b  OK \n",
            "Extracting  extracted_images/images/kobe/woods68.jpg                     \b\b\b\b 59%\b\b\b\b\b  OK \n",
            "Extracting  extracted_images/images/kobe/woods69.jpg                     \b\b\b\b 59%\b\b\b\b\b  OK \n",
            "Extracting  extracted_images/images/kobe/woods7.jpg                      \b\b\b\b 59%\b\b\b\b\b  OK \n",
            "Extracting  extracted_images/images/kobe/woods70.jpg                     \b\b\b\b 59%\b\b\b\b\b  OK \n",
            "Extracting  extracted_images/images/kobe/woods71.jpg                     \b\b\b\b 59%\b\b\b\b\b  OK \n",
            "Extracting  extracted_images/images/kobe/woods72.jpg                     \b\b\b\b 59%\b\b\b\b\b  OK \n",
            "Extracting  extracted_images/images/kobe/woods73.jpg                     \b\b\b\b 60%\b\b\b\b\b  OK \n",
            "Extracting  extracted_images/images/kobe/woods74.jpg                     \b\b\b\b 60%\b\b\b\b\b  OK \n",
            "Extracting  extracted_images/images/kobe/woods75.jpg                     \b\b\b\b 60%\b\b\b\b\b  OK \n",
            "Extracting  extracted_images/images/kobe/woods76.jpg                     \b\b\b\b 60%\b\b\b\b\b  OK \n",
            "Extracting  extracted_images/images/kobe/woods77.jpg                     \b\b\b\b 60%\b\b\b\b\b  OK \n",
            "Extracting  extracted_images/images/kobe/woods78.jpg                     \b\b\b\b 60%\b\b\b\b\b  OK \n",
            "Extracting  extracted_images/images/kobe/woods79.jpg                     \b\b\b\b 61%\b\b\b\b\b  OK \n",
            "Extracting  extracted_images/images/kobe/woods8.jpg                      \b\b\b\b 61%\b\b\b\b\b  OK \n",
            "Extracting  extracted_images/images/kobe/woods80.jpg                     \b\b\b\b 61%\b\b\b\b\b  OK \n",
            "Extracting  extracted_images/images/kobe/woods81.jpg                     \b\b\b\b 61%\b\b\b\b\b  OK \n",
            "Extracting  extracted_images/images/kobe/woods82.jpg                     \b\b\b\b 61%\b\b\b\b\b  OK \n",
            "Extracting  extracted_images/images/kobe/woods83.jpg                     \b\b\b\b 62%\b\b\b\b\b  OK \n",
            "Extracting  extracted_images/images/kobe/woods84.jpg                     \b\b\b\b 62%\b\b\b\b\b  OK \n",
            "Extracting  extracted_images/images/kobe/woods85.jpg                     \b\b\b\b 62%\b\b\b\b\b  OK \n",
            "Extracting  extracted_images/images/kobe/woods86.jpg                     \b\b\b\b 62%\b\b\b\b\b  OK \n",
            "Extracting  extracted_images/images/kobe/woods87.jpg                     \b\b\b\b 62%\b\b\b\b\b  OK \n",
            "Extracting  extracted_images/images/kobe/woods88.jpg                     \b\b\b\b 62%\b\b\b\b\b  OK \n",
            "Extracting  extracted_images/images/kobe/woods89.jpg                     \b\b\b\b 62%\b\b\b\b\b  OK \n",
            "Extracting  extracted_images/images/kobe/woods9.jpg                      \b\b\b\b 62%\b\b\b\b\b  OK \n",
            "Extracting  extracted_images/images/kobe/woods90.jpg                     \b\b\b\b 63%\b\b\b\b\b  OK \n",
            "Extracting  extracted_images/images/kobe/woods91.jpg                     \b\b\b\b 63%\b\b\b\b\b  OK \n",
            "Extracting  extracted_images/images/kobe/woods92.jpg                     \b\b\b\b 63%\b\b\b\b\b  OK \n",
            "Extracting  extracted_images/images/kobe/woods93.jpg                     \b\b\b\b 63%\b\b\b\b\b  OK \n",
            "Extracting  extracted_images/images/kobe/woods94.jpg                     \b\b\b\b 63%\b\b\b\b\b  OK \n",
            "Extracting  extracted_images/images/kobe/woods95.jpg                     \b\b\b\b 63%\b\b\b\b\b  OK \n",
            "Extracting  extracted_images/images/kobe/woods96.jpg                     \b\b\b\b 63%\b\b\b\b\b  OK \n",
            "Extracting  extracted_images/images/kobe/woods97.jpg                     \b\b\b\b 63%\b\b\b\b\b  OK \n",
            "Extracting  extracted_images/images/kobe/woods98.jpg                     \b\b\b\b 64%\b\b\b\b\b  OK \n",
            "Extracting  extracted_images/images/kobe/woods99.jpg                     \b\b\b\b 64%\b\b\b\b\b  OK \n",
            "Creating    extracted_images/images/kohli                             OK\n",
            "Extracting  extracted_images/images/kohli/woods1.jpg                     \b\b\b\b 64%\b\b\b\b\b  OK \n",
            "Extracting  extracted_images/images/kohli/woods10.jpg                    \b\b\b\b 64%\b\b\b\b\b  OK \n",
            "Extracting  extracted_images/images/kohli/woods100.jpg                   \b\b\b\b 64%\b\b\b\b\b  OK \n",
            "Extracting  extracted_images/images/kohli/woods101.jpg                   \b\b\b\b 65%\b\b\b\b\b  OK \n",
            "Extracting  extracted_images/images/kohli/woods102.jpg                   \b\b\b\b 65%\b\b\b\b\b  OK \n",
            "Extracting  extracted_images/images/kohli/woods103.jpg                   \b\b\b\b 65%\b\b\b\b\b  OK \n",
            "Extracting  extracted_images/images/kohli/woods104.jpg                   \b\b\b\b 65%\b\b\b\b\b  OK \n",
            "Extracting  extracted_images/images/kohli/woods105.jpg                   \b\b\b\b 65%\b\b\b\b\b  OK \n",
            "Extracting  extracted_images/images/kohli/woods106.jpg                   \b\b\b\b 65%\b\b\b\b\b  OK \n",
            "Extracting  extracted_images/images/kohli/woods107.jpg                   \b\b\b\b 66%\b\b\b\b\b  OK \n",
            "Extracting  extracted_images/images/kohli/woods108.jpg                   \b\b\b\b 66%\b\b\b\b\b  OK \n",
            "Extracting  extracted_images/images/kohli/woods109.jpg                   \b\b\b\b 66%\b\b\b\b\b  OK \n",
            "Extracting  extracted_images/images/kohli/woods11.jpg                    \b\b\b\b 66%\b\b\b\b\b  OK \n",
            "Extracting  extracted_images/images/kohli/woods110.jpg                   \b\b\b\b 66%\b\b\b\b\b  OK \n",
            "Extracting  extracted_images/images/kohli/woods111.jpg                   \b\b\b\b 66%\b\b\b\b\b  OK \n",
            "Extracting  extracted_images/images/kohli/woods112.jpg                   \b\b\b\b 66%\b\b\b\b\b  OK \n",
            "Extracting  extracted_images/images/kohli/woods113.jpg                   \b\b\b\b 67%\b\b\b\b\b  OK \n",
            "Extracting  extracted_images/images/kohli/woods114.jpg                   \b\b\b\b 67%\b\b\b\b\b  OK \n",
            "Extracting  extracted_images/images/kohli/woods115.jpg                   \b\b\b\b 67%\b\b\b\b\b  OK \n",
            "Extracting  extracted_images/images/kohli/woods116.jpg                   \b\b\b\b 67%\b\b\b\b\b  OK \n",
            "Extracting  extracted_images/images/kohli/woods117.jpg                   \b\b\b\b 67%\b\b\b\b\b  OK \n",
            "Extracting  extracted_images/images/kohli/woods118.jpg                   \b\b\b\b 67%\b\b\b\b\b  OK \n",
            "Extracting  extracted_images/images/kohli/woods119.jpg                   \b\b\b\b 68%\b\b\b\b\b  OK \n",
            "Extracting  extracted_images/images/kohli/woods12.jpg                    \b\b\b\b 68%\b\b\b\b\b  OK \n",
            "Extracting  extracted_images/images/kohli/woods120.jpg                   \b\b\b\b 68%\b\b\b\b\b  OK \n",
            "Extracting  extracted_images/images/kohli/woods121.jpg                   \b\b\b\b 68%\b\b\b\b\b  OK \n",
            "Extracting  extracted_images/images/kohli/woods13.jpg                    \b\b\b\b 68%\b\b\b\b\b  OK \n",
            "Extracting  extracted_images/images/kohli/woods14.jpg                    \b\b\b\b 69%\b\b\b\b\b  OK \n",
            "Extracting  extracted_images/images/kohli/woods15.jpg                    \b\b\b\b 69%\b\b\b\b\b  OK \n",
            "Extracting  extracted_images/images/kohli/woods16.jpg                    \b\b\b\b 69%\b\b\b\b\b  OK \n",
            "Extracting  extracted_images/images/kohli/woods17.jpg                    \b\b\b\b 69%\b\b\b\b\b  OK \n",
            "Extracting  extracted_images/images/kohli/woods18.jpg                    \b\b\b\b 69%\b\b\b\b\b  OK \n",
            "Extracting  extracted_images/images/kohli/woods19.jpg                    \b\b\b\b 69%\b\b\b\b\b  OK \n",
            "Extracting  extracted_images/images/kohli/woods2.jpg                     \b\b\b\b 70%\b\b\b\b\b  OK \n",
            "Extracting  extracted_images/images/kohli/woods20.jpg                    \b\b\b\b 70%\b\b\b\b\b  OK \n",
            "Extracting  extracted_images/images/kohli/woods21.jpg                    \b\b\b\b 70%\b\b\b\b\b  OK \n",
            "Extracting  extracted_images/images/kohli/woods22.jpg                    \b\b\b\b 70%\b\b\b\b\b  OK \n",
            "Extracting  extracted_images/images/kohli/woods23.jpg                    \b\b\b\b 70%\b\b\b\b\b  OK \n",
            "Extracting  extracted_images/images/kohli/woods24.jpg                    \b\b\b\b 71%\b\b\b\b\b  OK \n",
            "Extracting  extracted_images/images/kohli/woods25.jpg                    \b\b\b\b 71%\b\b\b\b\b  OK \n",
            "Extracting  extracted_images/images/kohli/woods26.jpg                    \b\b\b\b 71%\b\b\b\b\b  OK \n",
            "Extracting  extracted_images/images/kohli/woods27.jpg                    \b\b\b\b 71%\b\b\b\b\b  OK \n",
            "Extracting  extracted_images/images/kohli/woods28.jpg                    \b\b\b\b 71%\b\b\b\b\b  OK \n",
            "Extracting  extracted_images/images/kohli/woods29.jpg                    \b\b\b\b 71%\b\b\b\b\b  OK \n",
            "Extracting  extracted_images/images/kohli/woods3.jpg                     \b\b\b\b 71%\b\b\b\b\b  OK \n",
            "Extracting  extracted_images/images/kohli/woods30.jpg                    \b\b\b\b 72%\b\b\b\b\b  OK \n",
            "Extracting  extracted_images/images/kohli/woods31.jpg                    \b\b\b\b 72%\b\b\b\b\b  OK \n",
            "Extracting  extracted_images/images/kohli/woods32.jpg                    \b\b\b\b 72%\b\b\b\b\b  OK \n",
            "Extracting  extracted_images/images/kohli/woods33.jpg                    \b\b\b\b 72%\b\b\b\b\b  OK \n",
            "Extracting  extracted_images/images/kohli/woods34.jpg                    \b\b\b\b 72%\b\b\b\b\b  OK \n",
            "Extracting  extracted_images/images/kohli/woods35.jpg                    \b\b\b\b 72%\b\b\b\b\b  OK \n",
            "Extracting  extracted_images/images/kohli/woods36.jpg                    \b\b\b\b 73%\b\b\b\b\b  OK \n",
            "Extracting  extracted_images/images/kohli/woods37.jpg                    \b\b\b\b 73%\b\b\b\b\b  OK \n",
            "Extracting  extracted_images/images/kohli/woods38.jpg                    \b\b\b\b 73%\b\b\b\b\b  OK \n",
            "Extracting  extracted_images/images/kohli/woods39.jpg                    \b\b\b\b 73%\b\b\b\b\b  OK \n",
            "Extracting  extracted_images/images/kohli/woods4.jpg                     \b\b\b\b 73%\b\b\b\b\b  OK \n",
            "Extracting  extracted_images/images/kohli/woods40.jpg                    \b\b\b\b 73%\b\b\b\b\b  OK \n",
            "Extracting  extracted_images/images/kohli/woods41.jpg                    \b\b\b\b 74%\b\b\b\b\b  OK \n",
            "Extracting  extracted_images/images/kohli/woods42.jpg                    \b\b\b\b 74%\b\b\b\b\b  OK \n",
            "Extracting  extracted_images/images/kohli/woods43.jpg                    \b\b\b\b 74%\b\b\b\b\b  OK \n",
            "Extracting  extracted_images/images/kohli/woods44.jpg                    \b\b\b\b 74%\b\b\b\b\b  OK \n",
            "Extracting  extracted_images/images/kohli/woods45.jpg                    \b\b\b\b 74%\b\b\b\b\b  OK \n",
            "Extracting  extracted_images/images/kohli/woods46.jpg                    \b\b\b\b 74%\b\b\b\b\b  OK \n",
            "Extracting  extracted_images/images/kohli/woods47.jpg                    \b\b\b\b 74%\b\b\b\b\b  OK \n",
            "Extracting  extracted_images/images/kohli/woods48.jpg                    \b\b\b\b 74%\b\b\b\b\b  OK \n",
            "Extracting  extracted_images/images/kohli/woods49.jpg                    \b\b\b\b 74%\b\b\b\b\b  OK \n",
            "Extracting  extracted_images/images/kohli/woods5.jpg                     \b\b\b\b 74%\b\b\b\b\b  OK \n",
            "Extracting  extracted_images/images/kohli/woods50.jpg                    \b\b\b\b 75%\b\b\b\b\b  OK \n",
            "Extracting  extracted_images/images/kohli/woods51.jpg                    \b\b\b\b 75%\b\b\b\b\b  OK \n",
            "Extracting  extracted_images/images/kohli/woods52.jpg                    \b\b\b\b 75%\b\b\b\b\b  OK \n",
            "Extracting  extracted_images/images/kohli/woods53.jpg                    \b\b\b\b 75%\b\b\b\b\b  OK \n",
            "Extracting  extracted_images/images/kohli/woods54.jpg                    \b\b\b\b 76%\b\b\b\b\b  OK \n",
            "Extracting  extracted_images/images/kohli/woods55.jpg                    \b\b\b\b 76%\b\b\b\b\b  OK \n",
            "Extracting  extracted_images/images/kohli/woods56.jpg                    \b\b\b\b 76%\b\b\b\b\b  OK \n",
            "Extracting  extracted_images/images/kohli/woods57.jpg                    \b\b\b\b 76%\b\b\b\b\b  OK \n",
            "Extracting  extracted_images/images/kohli/woods58.jpg                    \b\b\b\b 76%\b\b\b\b\b  OK \n",
            "Extracting  extracted_images/images/kohli/woods59.jpg                    \b\b\b\b 76%\b\b\b\b\b  OK \n",
            "Extracting  extracted_images/images/kohli/woods6.jpg                     \b\b\b\b 77%\b\b\b\b\b  OK \n",
            "Extracting  extracted_images/images/kohli/woods60.jpg                    \b\b\b\b 77%\b\b\b\b\b  OK \n",
            "Extracting  extracted_images/images/kohli/woods61.jpg                    \b\b\b\b 77%\b\b\b\b\b  OK \n",
            "Extracting  extracted_images/images/kohli/woods62.jpg                    \b\b\b\b 77%\b\b\b\b\b  OK \n",
            "Extracting  extracted_images/images/kohli/woods63.jpg                    \b\b\b\b 77%\b\b\b\b\b  OK \n",
            "Extracting  extracted_images/images/kohli/woods64.jpg                    \b\b\b\b 77%\b\b\b\b\b  OK \n",
            "Extracting  extracted_images/images/kohli/woods65.jpg                    \b\b\b\b 77%\b\b\b\b\b  OK \n",
            "Extracting  extracted_images/images/kohli/woods66.jpg                    \b\b\b\b 77%\b\b\b\b\b  OK \n",
            "Extracting  extracted_images/images/kohli/woods67.jpg                    \b\b\b\b 77%\b\b\b\b\b  OK \n",
            "Extracting  extracted_images/images/kohli/woods68.jpg                    \b\b\b\b 77%\b\b\b\b\b  OK \n",
            "Extracting  extracted_images/images/kohli/woods69.jpg                    \b\b\b\b 78%\b\b\b\b\b  OK \n",
            "Extracting  extracted_images/images/kohli/woods7.jpg                     \b\b\b\b 78%\b\b\b\b\b  OK \n",
            "Extracting  extracted_images/images/kohli/woods70.jpg                    \b\b\b\b 78%\b\b\b\b\b  OK \n",
            "Extracting  extracted_images/images/kohli/woods71.jpg                    \b\b\b\b 78%\b\b\b\b\b  OK \n",
            "Extracting  extracted_images/images/kohli/woods72.jpg                    \b\b\b\b 78%\b\b\b\b\b  OK \n",
            "Extracting  extracted_images/images/kohli/woods73.jpg                    \b\b\b\b 78%\b\b\b\b\b  OK \n",
            "Extracting  extracted_images/images/kohli/woods74.jpg                    \b\b\b\b 78%\b\b\b\b\b  OK \n",
            "Extracting  extracted_images/images/kohli/woods75.jpg                    \b\b\b\b 78%\b\b\b\b\b  OK \n",
            "Extracting  extracted_images/images/kohli/woods76.jpg                    \b\b\b\b 78%\b\b\b\b\b  OK \n",
            "Extracting  extracted_images/images/kohli/woods77.jpg                    \b\b\b\b 79%\b\b\b\b\b  OK \n",
            "Extracting  extracted_images/images/kohli/woods78.jpg                    \b\b\b\b 79%\b\b\b\b\b  OK \n",
            "Extracting  extracted_images/images/kohli/woods79.jpg                    \b\b\b\b 79%\b\b\b\b\b  OK \n",
            "Extracting  extracted_images/images/kohli/woods8.jpg                     \b\b\b\b 79%\b\b\b\b\b  OK \n",
            "Extracting  extracted_images/images/kohli/woods80.jpg                    \b\b\b\b 79%\b\b\b\b\b  OK \n",
            "Extracting  extracted_images/images/kohli/woods81.jpg                    \b\b\b\b 79%\b\b\b\b\b  OK \n",
            "Extracting  extracted_images/images/kohli/woods82.jpg                    \b\b\b\b 80%\b\b\b\b\b  OK \n",
            "Extracting  extracted_images/images/kohli/woods83.jpg                    \b\b\b\b 80%\b\b\b\b\b  OK \n",
            "Extracting  extracted_images/images/kohli/woods84.jpg                    \b\b\b\b 80%\b\b\b\b\b  OK \n",
            "Extracting  extracted_images/images/kohli/woods85.jpg                    \b\b\b\b 80%\b\b\b\b\b  OK \n",
            "Extracting  extracted_images/images/kohli/woods86.jpg                    \b\b\b\b 80%\b\b\b\b\b  OK \n",
            "Extracting  extracted_images/images/kohli/woods87.jpg                    \b\b\b\b 81%\b\b\b\b\b  OK \n",
            "Extracting  extracted_images/images/kohli/woods88.jpg                    \b\b\b\b 81%\b\b\b\b\b  OK \n",
            "Extracting  extracted_images/images/kohli/woods89.jpg                    \b\b\b\b 81%\b\b\b\b\b  OK \n",
            "Extracting  extracted_images/images/kohli/woods9.jpg                     \b\b\b\b 81%\b\b\b\b\b  OK \n",
            "Extracting  extracted_images/images/kohli/woods90.jpg                    \b\b\b\b 81%\b\b\b\b\b  OK \n",
            "Extracting  extracted_images/images/kohli/woods91.jpg                    \b\b\b\b 81%\b\b\b\b\b  OK \n",
            "Extracting  extracted_images/images/kohli/woods92.jpg                    \b\b\b\b 81%\b\b\b\b\b  OK \n",
            "Extracting  extracted_images/images/kohli/woods93.jpg                    \b\b\b\b 81%\b\b\b\b\b  OK \n",
            "Extracting  extracted_images/images/kohli/woods94.jpg                    \b\b\b\b 82%\b\b\b\b\b  OK \n",
            "Extracting  extracted_images/images/kohli/woods95.jpg                    \b\b\b\b 82%\b\b\b\b\b  OK \n",
            "Extracting  extracted_images/images/kohli/woods96.jpg                    \b\b\b\b 82%\b\b\b\b\b  OK \n",
            "Extracting  extracted_images/images/kohli/woods97.jpg                    \b\b\b\b 82%\b\b\b\b\b  OK \n",
            "Extracting  extracted_images/images/kohli/woods98.jpg                    \b\b\b\b 82%\b\b\b\b\b  OK \n",
            "Extracting  extracted_images/images/kohli/woods99.jpg                    \b\b\b\b 83%\b\b\b\b\b  OK \n",
            "Creating    extracted_images/images/maria                             OK\n",
            "Extracting  extracted_images/images/maria/woods1.jpg                     \b\b\b\b 83%\b\b\b\b\b  OK \n",
            "Extracting  extracted_images/images/maria/woods10.jpg                    \b\b\b\b 83%\b\b\b\b\b  OK \n",
            "Extracting  extracted_images/images/maria/woods100.jpg                   \b\b\b\b 83%\b\b\b\b\b  OK \n",
            "Extracting  extracted_images/images/maria/woods101.jpg                   \b\b\b\b 83%\b\b\b\b\b  OK \n",
            "Extracting  extracted_images/images/maria/woods102.jpg                   \b\b\b\b 83%\b\b\b\b\b  OK \n",
            "Extracting  extracted_images/images/maria/woods103.jpg                   \b\b\b\b 84%\b\b\b\b\b  OK \n",
            "Extracting  extracted_images/images/maria/woods104.jpg                   \b\b\b\b 84%\b\b\b\b\b  OK \n",
            "Extracting  extracted_images/images/maria/woods105.jpg                   \b\b\b\b 84%\b\b\b\b\b  OK \n",
            "Extracting  extracted_images/images/maria/woods106.jpg                   \b\b\b\b 84%\b\b\b\b\b  OK \n",
            "Extracting  extracted_images/images/maria/woods107.jpg                   \b\b\b\b 84%\b\b\b\b\b  OK \n",
            "Extracting  extracted_images/images/maria/woods108.jpg                   \b\b\b\b 84%\b\b\b\b\b  OK \n",
            "Extracting  extracted_images/images/maria/woods109.jpg                   \b\b\b\b 84%\b\b\b\b\b  OK \n",
            "Extracting  extracted_images/images/maria/woods11.jpg                    \b\b\b\b 84%\b\b\b\b\b  OK \n",
            "Extracting  extracted_images/images/maria/woods110.jpg                   \b\b\b\b 84%\b\b\b\b\b  OK \n",
            "Extracting  extracted_images/images/maria/woods111.jpg                   \b\b\b\b 84%\b\b\b\b\b  OK \n",
            "Extracting  extracted_images/images/maria/woods112.jpg                   \b\b\b\b 84%\b\b\b\b\b  OK \n",
            "Extracting  extracted_images/images/maria/woods113.jpg                   \b\b\b\b 84%\b\b\b\b\b  OK \n",
            "Extracting  extracted_images/images/maria/woods114.jpg                   \b\b\b\b 84%\b\b\b\b\b  OK \n",
            "Extracting  extracted_images/images/maria/woods115.jpg                   \b\b\b\b 84%\b\b\b\b\b  OK \n",
            "Extracting  extracted_images/images/maria/woods116.jpg                   \b\b\b\b 84%\b\b\b\b\b  OK \n",
            "Extracting  extracted_images/images/maria/woods117.jpg                   \b\b\b\b 84%\b\b\b\b\b  OK \n",
            "Extracting  extracted_images/images/maria/woods118.jpg                   \b\b\b\b 85%\b\b\b\b\b  OK \n",
            "Extracting  extracted_images/images/maria/woods119.jpg                   \b\b\b\b 85%\b\b\b\b\b  OK \n",
            "Extracting  extracted_images/images/maria/woods12.jpg                    \b\b\b\b 85%\b\b\b\b\b  OK \n",
            "Extracting  extracted_images/images/maria/woods120.jpg                   \b\b\b\b 85%\b\b\b\b\b  OK \n",
            "Extracting  extracted_images/images/maria/woods13.jpg                    \b\b\b\b 85%\b\b\b\b\b  OK \n",
            "Extracting  extracted_images/images/maria/woods14.jpg                    \b\b\b\b 85%\b\b\b\b\b  OK \n",
            "Extracting  extracted_images/images/maria/woods15.jpg                    \b\b\b\b 85%\b\b\b\b\b  OK \n",
            "Extracting  extracted_images/images/maria/woods16.jpg                    \b\b\b\b 86%\b\b\b\b\b  OK \n",
            "Extracting  extracted_images/images/maria/woods17.jpg                    \b\b\b\b 86%\b\b\b\b\b  OK \n",
            "Extracting  extracted_images/images/maria/woods18.jpg                    \b\b\b\b 86%\b\b\b\b\b  OK \n",
            "Extracting  extracted_images/images/maria/woods19.jpg                    \b\b\b\b 86%\b\b\b\b\b  OK \n",
            "Extracting  extracted_images/images/maria/woods2.jpg                     \b\b\b\b 86%\b\b\b\b\b  OK \n",
            "Extracting  extracted_images/images/maria/woods20.jpg                    \b\b\b\b 87%\b\b\b\b\b  OK \n",
            "Extracting  extracted_images/images/maria/woods21.jpg                    \b\b\b\b 87%\b\b\b\b\b  OK \n",
            "Extracting  extracted_images/images/maria/woods22.jpg                    \b\b\b\b 87%\b\b\b\b\b  OK \n",
            "Extracting  extracted_images/images/maria/woods23.jpg                    \b\b\b\b 87%\b\b\b\b\b  OK \n",
            "Extracting  extracted_images/images/maria/woods24.jpg                    \b\b\b\b 87%\b\b\b\b\b  OK \n",
            "Extracting  extracted_images/images/maria/woods25.jpg                    \b\b\b\b 87%\b\b\b\b\b  OK \n",
            "Extracting  extracted_images/images/maria/woods26.jpg                    \b\b\b\b 88%\b\b\b\b\b  OK \n",
            "Extracting  extracted_images/images/maria/woods27.jpg                    \b\b\b\b 88%\b\b\b\b\b  OK \n",
            "Extracting  extracted_images/images/maria/woods28.jpg                    \b\b\b\b 88%\b\b\b\b\b  OK \n",
            "Extracting  extracted_images/images/maria/woods29.jpg                    \b\b\b\b 88%\b\b\b\b\b  OK \n",
            "Extracting  extracted_images/images/maria/woods3.jpg                     \b\b\b\b 88%\b\b\b\b\b  OK \n",
            "Extracting  extracted_images/images/maria/woods30.jpg                    \b\b\b\b 88%\b\b\b\b\b  OK \n",
            "Extracting  extracted_images/images/maria/woods31.jpg                    \b\b\b\b 88%\b\b\b\b\b  OK \n",
            "Extracting  extracted_images/images/maria/woods32.jpg                    \b\b\b\b 89%\b\b\b\b\b  OK \n",
            "Extracting  extracted_images/images/maria/woods33.jpg                    \b\b\b\b 89%\b\b\b\b\b  OK \n",
            "Extracting  extracted_images/images/maria/woods34.jpg                    \b\b\b\b 89%\b\b\b\b\b  OK \n",
            "Extracting  extracted_images/images/maria/woods35.jpg                    \b\b\b\b 89%\b\b\b\b\b  OK \n",
            "Extracting  extracted_images/images/maria/woods36.jpg                    \b\b\b\b 89%\b\b\b\b\b  OK \n",
            "Extracting  extracted_images/images/maria/woods37.jpg                    \b\b\b\b 89%\b\b\b\b\b  OK \n",
            "Extracting  extracted_images/images/maria/woods38.jpg                    \b\b\b\b 90%\b\b\b\b\b  OK \n",
            "Extracting  extracted_images/images/maria/woods39.jpg                    \b\b\b\b 90%\b\b\b\b\b  OK \n",
            "Extracting  extracted_images/images/maria/woods4.jpg                     \b\b\b\b 90%\b\b\b\b\b  OK \n",
            "Extracting  extracted_images/images/maria/woods40.jpg                    \b\b\b\b 90%\b\b\b\b\b  OK \n",
            "Extracting  extracted_images/images/maria/woods41.jpg                    \b\b\b\b 90%\b\b\b\b\b  OK \n",
            "Extracting  extracted_images/images/maria/woods42.jpg                    \b\b\b\b 90%\b\b\b\b\b  OK \n",
            "Extracting  extracted_images/images/maria/woods43.jpg                    \b\b\b\b 91%\b\b\b\b\b  OK \n",
            "Extracting  extracted_images/images/maria/woods44.jpg                    \b\b\b\b 91%\b\b\b\b\b  OK \n",
            "Extracting  extracted_images/images/maria/woods45.jpg                    \b\b\b\b 91%\b\b\b\b\b  OK \n",
            "Extracting  extracted_images/images/maria/woods46.jpg                    \b\b\b\b 91%\b\b\b\b\b  OK \n",
            "Extracting  extracted_images/images/maria/woods47.jpg                    \b\b\b\b 91%\b\b\b\b\b  OK \n",
            "Extracting  extracted_images/images/maria/woods48.jpg                    \b\b\b\b 91%\b\b\b\b\b  OK \n",
            "Extracting  extracted_images/images/maria/woods49.jpg                    \b\b\b\b 91%\b\b\b\b\b  OK \n",
            "Extracting  extracted_images/images/maria/woods5.jpg                     \b\b\b\b 92%\b\b\b\b\b  OK \n",
            "Extracting  extracted_images/images/maria/woods50.jpg                    \b\b\b\b 92%\b\b\b\b\b  OK \n",
            "Extracting  extracted_images/images/maria/woods51.jpg                    \b\b\b\b 92%\b\b\b\b\b  OK \n",
            "Extracting  extracted_images/images/maria/woods52.jpg                    \b\b\b\b 92%\b\b\b\b\b  OK \n",
            "Extracting  extracted_images/images/maria/woods53.jpg                    \b\b\b\b 92%\b\b\b\b\b  OK \n",
            "Extracting  extracted_images/images/maria/woods54.jpg                    \b\b\b\b 92%\b\b\b\b\b  OK \n",
            "Extracting  extracted_images/images/maria/woods55.jpg                    \b\b\b\b 92%\b\b\b\b\b  OK \n",
            "Extracting  extracted_images/images/maria/woods56.jpg                    \b\b\b\b 93%\b\b\b\b\b  OK \n",
            "Extracting  extracted_images/images/maria/woods57.jpg                    \b\b\b\b 93%\b\b\b\b\b  OK \n",
            "Extracting  extracted_images/images/maria/woods58.jpg                    \b\b\b\b 93%\b\b\b\b\b  OK \n",
            "Extracting  extracted_images/images/maria/woods59.jpg                    \b\b\b\b 93%\b\b\b\b\b  OK \n",
            "Extracting  extracted_images/images/maria/woods6.jpg                     \b\b\b\b 93%\b\b\b\b\b  OK \n",
            "Extracting  extracted_images/images/maria/woods60.jpg                    \b\b\b\b 93%\b\b\b\b\b  OK \n",
            "Extracting  extracted_images/images/maria/woods61.jpg                    \b\b\b\b 93%\b\b\b\b\b  OK \n",
            "Extracting  extracted_images/images/maria/woods62.jpg                    \b\b\b\b 93%\b\b\b\b\b  OK \n",
            "Extracting  extracted_images/images/maria/woods63.jpg                    \b\b\b\b 94%\b\b\b\b\b  OK \n",
            "Extracting  extracted_images/images/maria/woods64.jpg                    \b\b\b\b 94%\b\b\b\b\b  OK \n",
            "Extracting  extracted_images/images/maria/woods65.jpg                    \b\b\b\b 94%\b\b\b\b\b  OK \n",
            "Extracting  extracted_images/images/maria/woods66.jpg                    \b\b\b\b 94%\b\b\b\b\b  OK \n",
            "Extracting  extracted_images/images/maria/woods67.jpg                    \b\b\b\b 94%\b\b\b\b\b  OK \n",
            "Extracting  extracted_images/images/maria/woods68.jpg                    \b\b\b\b 95%\b\b\b\b\b  OK \n",
            "Extracting  extracted_images/images/maria/woods69.jpg                    \b\b\b\b 95%\b\b\b\b\b  OK \n",
            "Extracting  extracted_images/images/maria/woods7.jpg                     \b\b\b\b 95%\b\b\b\b\b  OK \n",
            "Extracting  extracted_images/images/maria/woods70.jpg                    \b\b\b\b 95%\b\b\b\b\b  OK \n",
            "Extracting  extracted_images/images/maria/woods71.jpg                    \b\b\b\b 95%\b\b\b\b\b  OK \n",
            "Extracting  extracted_images/images/maria/woods72.jpg                    \b\b\b\b 95%\b\b\b\b\b  OK \n",
            "Extracting  extracted_images/images/maria/woods73.jpg                    \b\b\b\b 95%\b\b\b\b\b  OK \n",
            "Extracting  extracted_images/images/maria/woods74.jpg                    \b\b\b\b 95%\b\b\b\b\b  OK \n",
            "Extracting  extracted_images/images/maria/woods75.jpg                    \b\b\b\b 96%\b\b\b\b\b  OK \n",
            "Extracting  extracted_images/images/maria/woods76.jpg                    \b\b\b\b 96%\b\b\b\b\b  OK \n",
            "Extracting  extracted_images/images/maria/woods77.jpg                    \b\b\b\b 96%\b\b\b\b\b  OK \n",
            "Extracting  extracted_images/images/maria/woods78.jpg                    \b\b\b\b 96%\b\b\b\b\b  OK \n",
            "Extracting  extracted_images/images/maria/woods79.jpg                    \b\b\b\b 96%\b\b\b\b\b  OK \n",
            "Extracting  extracted_images/images/maria/woods8.jpg                     \b\b\b\b 96%\b\b\b\b\b  OK \n",
            "Extracting  extracted_images/images/maria/woods80.jpg                    \b\b\b\b 96%\b\b\b\b\b  OK \n",
            "Extracting  extracted_images/images/maria/woods81.jpg                    \b\b\b\b 97%\b\b\b\b\b  OK \n",
            "Extracting  extracted_images/images/maria/woods82.jpg                    \b\b\b\b 97%\b\b\b\b\b  OK \n",
            "Extracting  extracted_images/images/maria/woods83.jpg                    \b\b\b\b 97%\b\b\b\b\b  OK \n",
            "Extracting  extracted_images/images/maria/woods84.jpg                    \b\b\b\b 97%\b\b\b\b\b  OK \n",
            "Extracting  extracted_images/images/maria/woods85.jpg                    \b\b\b\b 97%\b\b\b\b\b  OK \n",
            "Extracting  extracted_images/images/maria/woods86.jpg                    \b\b\b\b 97%\b\b\b\b\b  OK \n",
            "Extracting  extracted_images/images/maria/woods87.jpg                    \b\b\b\b 97%\b\b\b\b\b  OK \n",
            "Extracting  extracted_images/images/maria/woods88.jpg                    \b\b\b\b 98%\b\b\b\b\b  OK \n",
            "Extracting  extracted_images/images/maria/woods89.jpg                    \b\b\b\b 98%\b\b\b\b\b  OK \n",
            "Extracting  extracted_images/images/maria/woods9.jpg                     \b\b\b\b 98%\b\b\b\b\b  OK \n",
            "Extracting  extracted_images/images/maria/woods90.jpg                    \b\b\b\b 98%\b\b\b\b\b  OK \n",
            "Extracting  extracted_images/images/maria/woods91.jpg                    \b\b\b\b 98%\b\b\b\b\b  OK \n",
            "Extracting  extracted_images/images/maria/woods92.jpg                    \b\b\b\b 98%\b\b\b\b\b  OK \n",
            "Extracting  extracted_images/images/maria/woods93.jpg                    \b\b\b\b 98%\b\b\b\b\b  OK \n",
            "Extracting  extracted_images/images/maria/woods94.jpg                    \b\b\b\b 99%\b\b\b\b\b  OK \n",
            "Extracting  extracted_images/images/maria/woods95.jpg                    \b\b\b\b 99%\b\b\b\b\b  OK \n",
            "Extracting  extracted_images/images/maria/woods96.jpg                    \b\b\b\b 99%\b\b\b\b\b  OK \n",
            "Extracting  extracted_images/images/maria/woods97.jpg                    \b\b\b\b 99%\b\b\b\b\b  OK \n",
            "Extracting  extracted_images/images/maria/woods98.jpg                    \b\b\b\b 99%\b\b\b\b\b  OK \n",
            "Extracting  extracted_images/images/maria/woods99.jpg                    \b\b\b\b 99%\b\b\b\b\b  OK \n",
            "All OK\n"
          ]
        }
      ]
    },
    {
      "cell_type": "code",
      "source": [
        "!pip install facenet-pytorch\n"
      ],
      "metadata": {
        "colab": {
          "base_uri": "https://localhost:8080/",
          "height": 1000
        },
        "id": "PM5Oo6SBWnkB",
        "outputId": "0f2e24ec-fe74-40fd-b09e-8500a25865f5"
      },
      "execution_count": null,
      "outputs": [
        {
          "output_type": "stream",
          "name": "stdout",
          "text": [
            "Collecting facenet-pytorch\n",
            "  Downloading facenet_pytorch-2.6.0-py3-none-any.whl.metadata (12 kB)\n",
            "Collecting numpy<2.0.0,>=1.24.0 (from facenet-pytorch)\n",
            "  Downloading numpy-1.26.4-cp311-cp311-manylinux_2_17_x86_64.manylinux2014_x86_64.whl.metadata (61 kB)\n",
            "\u001b[2K     \u001b[90m━━━━━━━━━━━━━━━━━━━━━━━━━━━━━━━━━━━━━━━━\u001b[0m \u001b[32m61.0/61.0 kB\u001b[0m \u001b[31m2.8 MB/s\u001b[0m eta \u001b[36m0:00:00\u001b[0m\n",
            "\u001b[?25hCollecting Pillow<10.3.0,>=10.2.0 (from facenet-pytorch)\n",
            "  Downloading pillow-10.2.0-cp311-cp311-manylinux_2_28_x86_64.whl.metadata (9.7 kB)\n",
            "Requirement already satisfied: requests<3.0.0,>=2.0.0 in /usr/local/lib/python3.11/dist-packages (from facenet-pytorch) (2.32.3)\n",
            "Collecting torch<2.3.0,>=2.2.0 (from facenet-pytorch)\n",
            "  Downloading torch-2.2.2-cp311-cp311-manylinux1_x86_64.whl.metadata (25 kB)\n",
            "Collecting torchvision<0.18.0,>=0.17.0 (from facenet-pytorch)\n",
            "  Downloading torchvision-0.17.2-cp311-cp311-manylinux1_x86_64.whl.metadata (6.6 kB)\n",
            "Requirement already satisfied: tqdm<5.0.0,>=4.0.0 in /usr/local/lib/python3.11/dist-packages (from facenet-pytorch) (4.67.1)\n",
            "Requirement already satisfied: charset-normalizer<4,>=2 in /usr/local/lib/python3.11/dist-packages (from requests<3.0.0,>=2.0.0->facenet-pytorch) (3.4.1)\n",
            "Requirement already satisfied: idna<4,>=2.5 in /usr/local/lib/python3.11/dist-packages (from requests<3.0.0,>=2.0.0->facenet-pytorch) (3.10)\n",
            "Requirement already satisfied: urllib3<3,>=1.21.1 in /usr/local/lib/python3.11/dist-packages (from requests<3.0.0,>=2.0.0->facenet-pytorch) (2.3.0)\n",
            "Requirement already satisfied: certifi>=2017.4.17 in /usr/local/lib/python3.11/dist-packages (from requests<3.0.0,>=2.0.0->facenet-pytorch) (2025.1.31)\n",
            "Requirement already satisfied: filelock in /usr/local/lib/python3.11/dist-packages (from torch<2.3.0,>=2.2.0->facenet-pytorch) (3.18.0)\n",
            "Requirement already satisfied: typing-extensions>=4.8.0 in /usr/local/lib/python3.11/dist-packages (from torch<2.3.0,>=2.2.0->facenet-pytorch) (4.13.1)\n",
            "Requirement already satisfied: sympy in /usr/local/lib/python3.11/dist-packages (from torch<2.3.0,>=2.2.0->facenet-pytorch) (1.13.1)\n",
            "Requirement already satisfied: networkx in /usr/local/lib/python3.11/dist-packages (from torch<2.3.0,>=2.2.0->facenet-pytorch) (3.4.2)\n",
            "Requirement already satisfied: jinja2 in /usr/local/lib/python3.11/dist-packages (from torch<2.3.0,>=2.2.0->facenet-pytorch) (3.1.6)\n",
            "Requirement already satisfied: fsspec in /usr/local/lib/python3.11/dist-packages (from torch<2.3.0,>=2.2.0->facenet-pytorch) (2025.3.2)\n",
            "Collecting nvidia-cuda-nvrtc-cu12==12.1.105 (from torch<2.3.0,>=2.2.0->facenet-pytorch)\n",
            "  Downloading nvidia_cuda_nvrtc_cu12-12.1.105-py3-none-manylinux1_x86_64.whl.metadata (1.5 kB)\n",
            "Collecting nvidia-cuda-runtime-cu12==12.1.105 (from torch<2.3.0,>=2.2.0->facenet-pytorch)\n",
            "  Downloading nvidia_cuda_runtime_cu12-12.1.105-py3-none-manylinux1_x86_64.whl.metadata (1.5 kB)\n",
            "Collecting nvidia-cuda-cupti-cu12==12.1.105 (from torch<2.3.0,>=2.2.0->facenet-pytorch)\n",
            "  Downloading nvidia_cuda_cupti_cu12-12.1.105-py3-none-manylinux1_x86_64.whl.metadata (1.6 kB)\n",
            "Collecting nvidia-cudnn-cu12==8.9.2.26 (from torch<2.3.0,>=2.2.0->facenet-pytorch)\n",
            "  Downloading nvidia_cudnn_cu12-8.9.2.26-py3-none-manylinux1_x86_64.whl.metadata (1.6 kB)\n",
            "Collecting nvidia-cublas-cu12==12.1.3.1 (from torch<2.3.0,>=2.2.0->facenet-pytorch)\n",
            "  Downloading nvidia_cublas_cu12-12.1.3.1-py3-none-manylinux1_x86_64.whl.metadata (1.5 kB)\n",
            "Collecting nvidia-cufft-cu12==11.0.2.54 (from torch<2.3.0,>=2.2.0->facenet-pytorch)\n",
            "  Downloading nvidia_cufft_cu12-11.0.2.54-py3-none-manylinux1_x86_64.whl.metadata (1.5 kB)\n",
            "Collecting nvidia-curand-cu12==10.3.2.106 (from torch<2.3.0,>=2.2.0->facenet-pytorch)\n",
            "  Downloading nvidia_curand_cu12-10.3.2.106-py3-none-manylinux1_x86_64.whl.metadata (1.5 kB)\n",
            "Collecting nvidia-cusolver-cu12==11.4.5.107 (from torch<2.3.0,>=2.2.0->facenet-pytorch)\n",
            "  Downloading nvidia_cusolver_cu12-11.4.5.107-py3-none-manylinux1_x86_64.whl.metadata (1.6 kB)\n",
            "Collecting nvidia-cusparse-cu12==12.1.0.106 (from torch<2.3.0,>=2.2.0->facenet-pytorch)\n",
            "  Downloading nvidia_cusparse_cu12-12.1.0.106-py3-none-manylinux1_x86_64.whl.metadata (1.6 kB)\n",
            "Collecting nvidia-nccl-cu12==2.19.3 (from torch<2.3.0,>=2.2.0->facenet-pytorch)\n",
            "  Downloading nvidia_nccl_cu12-2.19.3-py3-none-manylinux1_x86_64.whl.metadata (1.8 kB)\n",
            "Collecting nvidia-nvtx-cu12==12.1.105 (from torch<2.3.0,>=2.2.0->facenet-pytorch)\n",
            "  Downloading nvidia_nvtx_cu12-12.1.105-py3-none-manylinux1_x86_64.whl.metadata (1.7 kB)\n",
            "Collecting triton==2.2.0 (from torch<2.3.0,>=2.2.0->facenet-pytorch)\n",
            "  Downloading triton-2.2.0-cp311-cp311-manylinux_2_17_x86_64.manylinux2014_x86_64.whl.metadata (1.4 kB)\n",
            "Requirement already satisfied: nvidia-nvjitlink-cu12 in /usr/local/lib/python3.11/dist-packages (from nvidia-cusolver-cu12==11.4.5.107->torch<2.3.0,>=2.2.0->facenet-pytorch) (12.5.82)\n",
            "Requirement already satisfied: MarkupSafe>=2.0 in /usr/local/lib/python3.11/dist-packages (from jinja2->torch<2.3.0,>=2.2.0->facenet-pytorch) (3.0.2)\n",
            "Requirement already satisfied: mpmath<1.4,>=1.1.0 in /usr/local/lib/python3.11/dist-packages (from sympy->torch<2.3.0,>=2.2.0->facenet-pytorch) (1.3.0)\n",
            "Downloading facenet_pytorch-2.6.0-py3-none-any.whl (1.9 MB)\n",
            "\u001b[2K   \u001b[90m━━━━━━━━━━━━━━━━━━━━━━━━━━━━━━━━━━━━━━━━\u001b[0m \u001b[32m1.9/1.9 MB\u001b[0m \u001b[31m25.6 MB/s\u001b[0m eta \u001b[36m0:00:00\u001b[0m\n",
            "\u001b[?25hDownloading numpy-1.26.4-cp311-cp311-manylinux_2_17_x86_64.manylinux2014_x86_64.whl (18.3 MB)\n",
            "\u001b[2K   \u001b[90m━━━━━━━━━━━━━━━━━━━━━━━━━━━━━━━━━━━━━━━━\u001b[0m \u001b[32m18.3/18.3 MB\u001b[0m \u001b[31m37.9 MB/s\u001b[0m eta \u001b[36m0:00:00\u001b[0m\n",
            "\u001b[?25hDownloading pillow-10.2.0-cp311-cp311-manylinux_2_28_x86_64.whl (4.5 MB)\n",
            "\u001b[2K   \u001b[90m━━━━━━━━━━━━━━━━━━━━━━━━━━━━━━━━━━━━━━━━\u001b[0m \u001b[32m4.5/4.5 MB\u001b[0m \u001b[31m46.9 MB/s\u001b[0m eta \u001b[36m0:00:00\u001b[0m\n",
            "\u001b[?25hDownloading torch-2.2.2-cp311-cp311-manylinux1_x86_64.whl (755.6 MB)\n",
            "\u001b[2K   \u001b[90m━━━━━━━━━━━━━━━━━━━━━━━━━━━━━━━━━━━━━━━━\u001b[0m \u001b[32m755.6/755.6 MB\u001b[0m \u001b[31m2.6 MB/s\u001b[0m eta \u001b[36m0:00:00\u001b[0m\n",
            "\u001b[?25hDownloading nvidia_cublas_cu12-12.1.3.1-py3-none-manylinux1_x86_64.whl (410.6 MB)\n",
            "\u001b[2K   \u001b[90m━━━━━━━━━━━━━━━━━━━━━━━━━━━━━━━━━━━━━━━━\u001b[0m \u001b[32m410.6/410.6 MB\u001b[0m \u001b[31m3.4 MB/s\u001b[0m eta \u001b[36m0:00:00\u001b[0m\n",
            "\u001b[?25hDownloading nvidia_cuda_cupti_cu12-12.1.105-py3-none-manylinux1_x86_64.whl (14.1 MB)\n",
            "\u001b[2K   \u001b[90m━━━━━━━━━━━━━━━━━━━━━━━━━━━━━━━━━━━━━━━━\u001b[0m \u001b[32m14.1/14.1 MB\u001b[0m \u001b[31m88.9 MB/s\u001b[0m eta \u001b[36m0:00:00\u001b[0m\n",
            "\u001b[?25hDownloading nvidia_cuda_nvrtc_cu12-12.1.105-py3-none-manylinux1_x86_64.whl (23.7 MB)\n",
            "\u001b[2K   \u001b[90m━━━━━━━━━━━━━━━━━━━━━━━━━━━━━━━━━━━━━━━━\u001b[0m \u001b[32m23.7/23.7 MB\u001b[0m \u001b[31m72.6 MB/s\u001b[0m eta \u001b[36m0:00:00\u001b[0m\n",
            "\u001b[?25hDownloading nvidia_cuda_runtime_cu12-12.1.105-py3-none-manylinux1_x86_64.whl (823 kB)\n",
            "\u001b[2K   \u001b[90m━━━━━━━━━━━━━━━━━━━━━━━━━━━━━━━━━━━━━━━━\u001b[0m \u001b[32m823.6/823.6 kB\u001b[0m \u001b[31m32.8 MB/s\u001b[0m eta \u001b[36m0:00:00\u001b[0m\n",
            "\u001b[?25hDownloading nvidia_cudnn_cu12-8.9.2.26-py3-none-manylinux1_x86_64.whl (731.7 MB)\n",
            "\u001b[2K   \u001b[90m━━━━━━━━━━━━━━━━━━━━━━━━━━━━━━━━━━━━━━━━\u001b[0m \u001b[32m731.7/731.7 MB\u001b[0m \u001b[31m2.6 MB/s\u001b[0m eta \u001b[36m0:00:00\u001b[0m\n",
            "\u001b[?25hDownloading nvidia_cufft_cu12-11.0.2.54-py3-none-manylinux1_x86_64.whl (121.6 MB)\n",
            "\u001b[2K   \u001b[90m━━━━━━━━━━━━━━━━━━━━━━━━━━━━━━━━━━━━━━━━\u001b[0m \u001b[32m121.6/121.6 MB\u001b[0m \u001b[31m7.4 MB/s\u001b[0m eta \u001b[36m0:00:00\u001b[0m\n",
            "\u001b[?25hDownloading nvidia_curand_cu12-10.3.2.106-py3-none-manylinux1_x86_64.whl (56.5 MB)\n",
            "\u001b[2K   \u001b[90m━━━━━━━━━━━━━━━━━━━━━━━━━━━━━━━━━━━━━━━━\u001b[0m \u001b[32m56.5/56.5 MB\u001b[0m \u001b[31m12.2 MB/s\u001b[0m eta \u001b[36m0:00:00\u001b[0m\n",
            "\u001b[?25hDownloading nvidia_cusolver_cu12-11.4.5.107-py3-none-manylinux1_x86_64.whl (124.2 MB)\n",
            "\u001b[2K   \u001b[90m━━━━━━━━━━━━━━━━━━━━━━━━━━━━━━━━━━━━━━━━\u001b[0m \u001b[32m124.2/124.2 MB\u001b[0m \u001b[31m5.5 MB/s\u001b[0m eta \u001b[36m0:00:00\u001b[0m\n",
            "\u001b[?25hDownloading nvidia_cusparse_cu12-12.1.0.106-py3-none-manylinux1_x86_64.whl (196.0 MB)\n",
            "\u001b[2K   \u001b[90m━━━━━━━━━━━━━━━━━━━━━━━━━━━━━━━━━━━━━━━━\u001b[0m \u001b[32m196.0/196.0 MB\u001b[0m \u001b[31m6.4 MB/s\u001b[0m eta \u001b[36m0:00:00\u001b[0m\n",
            "\u001b[?25hDownloading nvidia_nccl_cu12-2.19.3-py3-none-manylinux1_x86_64.whl (166.0 MB)\n",
            "\u001b[2K   \u001b[90m━━━━━━━━━━━━━━━━━━━━━━━━━━━━━━━━━━━━━━━━\u001b[0m \u001b[32m166.0/166.0 MB\u001b[0m \u001b[31m7.4 MB/s\u001b[0m eta \u001b[36m0:00:00\u001b[0m\n",
            "\u001b[?25hDownloading nvidia_nvtx_cu12-12.1.105-py3-none-manylinux1_x86_64.whl (99 kB)\n",
            "\u001b[2K   \u001b[90m━━━━━━━━━━━━━━━━━━━━━━━━━━━━━━━━━━━━━━━━\u001b[0m \u001b[32m99.1/99.1 kB\u001b[0m \u001b[31m7.8 MB/s\u001b[0m eta \u001b[36m0:00:00\u001b[0m\n",
            "\u001b[?25hDownloading triton-2.2.0-cp311-cp311-manylinux_2_17_x86_64.manylinux2014_x86_64.whl (167.9 MB)\n",
            "\u001b[2K   \u001b[90m━━━━━━━━━━━━━━━━━━━━━━━━━━━━━━━━━━━━━━━━\u001b[0m \u001b[32m167.9/167.9 MB\u001b[0m \u001b[31m5.8 MB/s\u001b[0m eta \u001b[36m0:00:00\u001b[0m\n",
            "\u001b[?25hDownloading torchvision-0.17.2-cp311-cp311-manylinux1_x86_64.whl (6.9 MB)\n",
            "\u001b[2K   \u001b[90m━━━━━━━━━━━━━━━━━━━━━━━━━━━━━━━━━━━━━━━━\u001b[0m \u001b[32m6.9/6.9 MB\u001b[0m \u001b[31m75.6 MB/s\u001b[0m eta \u001b[36m0:00:00\u001b[0m\n",
            "\u001b[?25hInstalling collected packages: triton, Pillow, nvidia-nvtx-cu12, nvidia-nccl-cu12, nvidia-cusparse-cu12, nvidia-curand-cu12, nvidia-cufft-cu12, nvidia-cuda-runtime-cu12, nvidia-cuda-nvrtc-cu12, nvidia-cuda-cupti-cu12, nvidia-cublas-cu12, numpy, nvidia-cusolver-cu12, nvidia-cudnn-cu12, torch, torchvision, facenet-pytorch\n",
            "  Attempting uninstall: triton\n",
            "    Found existing installation: triton 3.2.0\n",
            "    Uninstalling triton-3.2.0:\n",
            "      Successfully uninstalled triton-3.2.0\n",
            "  Attempting uninstall: Pillow\n",
            "    Found existing installation: pillow 11.1.0\n",
            "    Uninstalling pillow-11.1.0:\n",
            "      Successfully uninstalled pillow-11.1.0\n",
            "  Attempting uninstall: nvidia-nvtx-cu12\n",
            "    Found existing installation: nvidia-nvtx-cu12 12.4.127\n",
            "    Uninstalling nvidia-nvtx-cu12-12.4.127:\n",
            "      Successfully uninstalled nvidia-nvtx-cu12-12.4.127\n",
            "  Attempting uninstall: nvidia-nccl-cu12\n",
            "    Found existing installation: nvidia-nccl-cu12 2.21.5\n",
            "    Uninstalling nvidia-nccl-cu12-2.21.5:\n",
            "      Successfully uninstalled nvidia-nccl-cu12-2.21.5\n",
            "  Attempting uninstall: nvidia-cusparse-cu12\n",
            "    Found existing installation: nvidia-cusparse-cu12 12.5.1.3\n",
            "    Uninstalling nvidia-cusparse-cu12-12.5.1.3:\n",
            "      Successfully uninstalled nvidia-cusparse-cu12-12.5.1.3\n",
            "  Attempting uninstall: nvidia-curand-cu12\n",
            "    Found existing installation: nvidia-curand-cu12 10.3.6.82\n",
            "    Uninstalling nvidia-curand-cu12-10.3.6.82:\n",
            "      Successfully uninstalled nvidia-curand-cu12-10.3.6.82\n",
            "  Attempting uninstall: nvidia-cufft-cu12\n",
            "    Found existing installation: nvidia-cufft-cu12 11.2.3.61\n",
            "    Uninstalling nvidia-cufft-cu12-11.2.3.61:\n",
            "      Successfully uninstalled nvidia-cufft-cu12-11.2.3.61\n",
            "  Attempting uninstall: nvidia-cuda-runtime-cu12\n",
            "    Found existing installation: nvidia-cuda-runtime-cu12 12.5.82\n",
            "    Uninstalling nvidia-cuda-runtime-cu12-12.5.82:\n",
            "      Successfully uninstalled nvidia-cuda-runtime-cu12-12.5.82\n",
            "  Attempting uninstall: nvidia-cuda-nvrtc-cu12\n",
            "    Found existing installation: nvidia-cuda-nvrtc-cu12 12.5.82\n",
            "    Uninstalling nvidia-cuda-nvrtc-cu12-12.5.82:\n",
            "      Successfully uninstalled nvidia-cuda-nvrtc-cu12-12.5.82\n",
            "  Attempting uninstall: nvidia-cuda-cupti-cu12\n",
            "    Found existing installation: nvidia-cuda-cupti-cu12 12.5.82\n",
            "    Uninstalling nvidia-cuda-cupti-cu12-12.5.82:\n",
            "      Successfully uninstalled nvidia-cuda-cupti-cu12-12.5.82\n",
            "  Attempting uninstall: nvidia-cublas-cu12\n",
            "    Found existing installation: nvidia-cublas-cu12 12.5.3.2\n",
            "    Uninstalling nvidia-cublas-cu12-12.5.3.2:\n",
            "      Successfully uninstalled nvidia-cublas-cu12-12.5.3.2\n",
            "  Attempting uninstall: numpy\n",
            "    Found existing installation: numpy 2.0.2\n",
            "    Uninstalling numpy-2.0.2:\n",
            "      Successfully uninstalled numpy-2.0.2\n",
            "  Attempting uninstall: nvidia-cusolver-cu12\n",
            "    Found existing installation: nvidia-cusolver-cu12 11.6.3.83\n",
            "    Uninstalling nvidia-cusolver-cu12-11.6.3.83:\n",
            "      Successfully uninstalled nvidia-cusolver-cu12-11.6.3.83\n",
            "  Attempting uninstall: nvidia-cudnn-cu12\n",
            "    Found existing installation: nvidia-cudnn-cu12 9.3.0.75\n",
            "    Uninstalling nvidia-cudnn-cu12-9.3.0.75:\n",
            "      Successfully uninstalled nvidia-cudnn-cu12-9.3.0.75\n",
            "  Attempting uninstall: torch\n",
            "    Found existing installation: torch 2.6.0+cu124\n",
            "    Uninstalling torch-2.6.0+cu124:\n",
            "      Successfully uninstalled torch-2.6.0+cu124\n",
            "  Attempting uninstall: torchvision\n",
            "    Found existing installation: torchvision 0.21.0+cu124\n",
            "    Uninstalling torchvision-0.21.0+cu124:\n",
            "      Successfully uninstalled torchvision-0.21.0+cu124\n",
            "\u001b[31mERROR: pip's dependency resolver does not currently take into account all the packages that are installed. This behaviour is the source of the following dependency conflicts.\n",
            "torchaudio 2.6.0+cu124 requires torch==2.6.0, but you have torch 2.2.2 which is incompatible.\u001b[0m\u001b[31m\n",
            "\u001b[0mSuccessfully installed Pillow-10.2.0 facenet-pytorch-2.6.0 numpy-1.26.4 nvidia-cublas-cu12-12.1.3.1 nvidia-cuda-cupti-cu12-12.1.105 nvidia-cuda-nvrtc-cu12-12.1.105 nvidia-cuda-runtime-cu12-12.1.105 nvidia-cudnn-cu12-8.9.2.26 nvidia-cufft-cu12-11.0.2.54 nvidia-curand-cu12-10.3.2.106 nvidia-cusolver-cu12-11.4.5.107 nvidia-cusparse-cu12-12.1.0.106 nvidia-nccl-cu12-2.19.3 nvidia-nvtx-cu12-12.1.105 torch-2.2.2 torchvision-0.17.2 triton-2.2.0\n"
          ]
        },
        {
          "output_type": "display_data",
          "data": {
            "application/vnd.colab-display-data+json": {
              "pip_warning": {
                "packages": [
                  "PIL",
                  "torch",
                  "torchgen"
                ]
              },
              "id": "9ae63ead4c0948058442d92954fab668"
            }
          },
          "metadata": {}
        }
      ]
    },
    {
      "cell_type": "code",
      "source": [
        "import os\n",
        "import torch\n",
        "from PIL import Image\n",
        "from facenet_pytorch import MTCNN, InceptionResnetV1\n",
        "import numpy as np\n",
        "\n",
        "# ------------------------\n",
        "# Step 1: Set up MTCNN (for face detection) and ResNet (for embeddings)\n",
        "# ------------------------\n",
        "\n",
        "# Initialize MTCNN for face detection\n",
        "mtcnn = MTCNN(image_size=160, margin=20, keep_all=False, post_process=True)\n",
        "\n",
        "# Initialize the InceptionResnetV1 model (pre-trained for generating face embeddings)\n",
        "resnet = InceptionResnetV1(pretrained='vggface2').eval()\n",
        "\n",
        "# ------------------------\n",
        "# Step 2: Define paths\n",
        "# ------------------------\n",
        "\n",
        "# Define the path where the images are stored\n",
        "dataset_path = '/content/extracted_images/images'\n",
        "\n",
        "# Lists to store embeddings and labels\n",
        "embedding_list = []    # This will store the 512D embeddings for each image\n",
        "name_list = []         # This will store the names of the people corresponding to the images\n",
        "\n",
        "# ------------------------\n",
        "# Step 3: List subfolders (people) in the 'images' folder\n",
        "# ------------------------\n",
        "\n",
        "# List all the subfolders inside the 'images' folder\n",
        "people_folders = os.listdir(dataset_path)\n",
        "\n",
        "# Filter out any non-folder entries (e.g., if there are any files in the 'images' folder)\n",
        "people_folders = [folder for folder in people_folders if os.path.isdir(os.path.join(dataset_path, folder))]\n",
        "\n",
        "# Print the names of the subfolders (people)\n",
        "print(f\"People in dataset: {people_folders}\")\n",
        "\n",
        "# ------------------------\n",
        "# Debugging: Show the structure of the dataset\n",
        "# ------------------------\n",
        "\n",
        "for person_name in people_folders:\n",
        "    person_folder = os.path.join(dataset_path, person_name)\n",
        "\n",
        "    # List image files for each person\n",
        "    image_files = os.listdir(person_folder)\n",
        "    print(f\"\\nImages for {person_name}: {image_files}\")\n"
      ],
      "metadata": {
        "colab": {
          "base_uri": "https://localhost:8080/"
        },
        "id": "a80YFILobvEV",
        "outputId": "4325350c-c63d-45e3-d78f-f8f1be0aae38"
      },
      "execution_count": null,
      "outputs": [
        {
          "output_type": "stream",
          "name": "stdout",
          "text": [
            "People in dataset: ['john cena', 'kobe', 'maria', 'kohli', 'cristiano']\n",
            "\n",
            "Images for john cena: ['woods29.jpg', 'woods100.jpg', 'woods20.jpg', 'woods34.jpg', 'woods14.jpg', 'woods74.jpg', 'woods61.jpg', 'woods70.jpg', 'woods69.jpg', 'woods4.jpg', 'woods9.jpg', 'woods13.jpg', 'woods63.jpg', 'woods24.jpg', 'woods85.jpg', 'woods49.jpg', 'woods32.jpg', 'woods47.jpg', 'woods91.jpg', 'woods67.jpg', 'woods107.jpg', 'woods25.jpg', 'woods92.jpg', 'woods73.jpg', 'woods23.jpg', 'woods89.jpg', 'woods96.jpg', 'woods46.jpg', 'woods27.jpg', 'woods93.jpg', 'woods53.jpg', 'woods54.jpg', 'woods87.jpg', 'woods39.jpg', 'woods106.jpg', 'woods77.jpg', 'woods16.jpg', 'woods75.jpg', 'woods65.jpg', 'woods64.jpg', 'woods71.jpg', 'woods68.jpg', 'woods55.jpg', 'woods62.jpg', 'woods95.jpg', 'woods19.jpg', 'woods66.jpg', 'woods48.jpg', 'woods12.jpg', 'woods15.jpg', 'woods102.jpg', 'woods103.jpg', 'woods78.jpg', 'woods31.jpg', 'woods60.jpg', 'woods58.jpg', 'woods3.jpg', 'woods1.jpg', 'woods76.jpg', 'woods52.jpg', 'woods90.jpg', 'woods99.jpg', 'woods98.jpg', 'woods35.jpg', 'woods82.jpg', 'woods8.jpg', 'woods105.jpg', 'woods83.jpg', 'woods6.jpg', 'woods18.jpg', 'woods21.jpg', 'woods38.jpg', 'woods5.jpg', 'woods10.jpg', 'woods17.jpg', 'woods104.jpg', 'woods97.jpg', 'woods86.jpg', 'woods22.jpg', 'woods41.jpg', 'woods56.jpg', 'woods45.jpg', 'woods40.jpg', 'woods84.jpg', 'woods7.jpg', 'woods79.jpg', 'woods51.jpg', 'woods28.jpg', 'woods80.jpg', 'woods50.jpg', 'woods94.jpg', 'woods88.jpg', 'woods57.jpg', 'woods33.jpg', 'woods11.jpg', 'woods36.jpg', 'woods72.jpg', 'woods37.jpg', 'woods44.jpg', 'woods30.jpg', 'woods2.jpg', 'woods59.jpg', 'woods101.jpg', 'woods43.jpg', 'woods42.jpg', 'woods81.jpg', 'woods26.jpg']\n",
            "\n",
            "Images for kobe: ['woods129.jpg', 'woods29.jpg', 'woods100.jpg', 'woods131.jpg', 'woods20.jpg', 'woods34.jpg', 'woods126.jpg', 'woods136.jpg', 'woods14.jpg', 'woods74.jpg', 'woods61.jpg', 'woods145.jpg', 'woods70.jpg', 'woods69.jpg', 'woods168.jpg', 'woods4.jpg', 'woods9.jpg', 'woods13.jpg', 'woods63.jpg', 'woods24.jpg', 'woods85.jpg', 'woods49.jpg', 'woods112.jpg', 'woods32.jpg', 'woods47.jpg', 'woods91.jpg', 'woods135.jpg', 'woods108.jpg', 'woods67.jpg', 'woods107.jpg', 'woods25.jpg', 'woods114.jpg', 'woods92.jpg', 'woods157.jpg', 'woods73.jpg', 'woods127.jpg', 'woods143.jpg', 'woods23.jpg', 'woods134.jpg', 'woods89.jpg', 'woods96.jpg', 'woods46.jpg', 'woods27.jpg', 'woods154.jpg', 'woods93.jpg', 'woods53.jpg', 'woods54.jpg', 'woods128.jpg', 'woods144.jpg', 'woods87.jpg', 'woods119.jpg', 'woods140.jpg', 'woods39.jpg', 'woods158.jpg', 'woods106.jpg', 'woods110.jpg', 'woods77.jpg', 'woods115.jpg', 'woods16.jpg', 'woods75.jpg', 'woods65.jpg', 'woods64.jpg', 'woods71.jpg', 'woods68.jpg', 'woods156.jpg', 'woods125.jpg', 'woods55.jpg', 'woods62.jpg', 'woods95.jpg', 'woods19.jpg', 'woods66.jpg', 'woods48.jpg', 'woods12.jpg', 'woods150.jpg', 'woods15.jpg', 'woods102.jpg', 'woods103.jpg', 'woods78.jpg', 'woods31.jpg', 'woods155.jpg', 'woods124.jpg', 'woods60.jpg', 'woods169.jpg', 'woods58.jpg', 'woods3.jpg', 'woods1.jpg', 'woods76.jpg', 'woods52.jpg', 'woods90.jpg', 'woods99.jpg', 'woods121.jpg', 'woods98.jpg', 'woods35.jpg', 'woods82.jpg', 'woods146.jpg', 'woods123.jpg', 'woods160.jpg', 'woods8.jpg', 'woods105.jpg', 'woods130.jpg', 'woods83.jpg', 'woods6.jpg', 'woods18.jpg', 'woods159.jpg', 'woods120.jpg', 'woods153.jpg', 'woods21.jpg', 'woods170.jpg', 'woods166.jpg', 'woods122.jpg', 'woods165.jpg', 'woods38.jpg', 'woods5.jpg', 'woods118.jpg', 'woods10.jpg', 'woods17.jpg', 'woods104.jpg', 'woods141.jpg', 'woods97.jpg', 'woods86.jpg', 'woods22.jpg', 'woods41.jpg', 'woods132.jpg', 'woods56.jpg', 'woods45.jpg', 'woods117.jpg', 'woods164.jpg', 'woods147.jpg', 'woods40.jpg', 'woods84.jpg', 'woods142.jpg', 'woods138.jpg', 'woods7.jpg', 'woods149.jpg', 'woods137.jpg', 'woods162.jpg', 'woods116.jpg', 'woods79.jpg', 'woods51.jpg', 'woods151.jpg', 'woods28.jpg', 'woods80.jpg', 'woods50.jpg', 'woods94.jpg', 'woods88.jpg', 'woods57.jpg', 'woods33.jpg', 'woods163.jpg', 'woods161.jpg', 'woods133.jpg', 'woods11.jpg', 'woods36.jpg', 'woods72.jpg', 'woods37.jpg', 'woods171.jpg', 'woods44.jpg', 'woods109.jpg', 'woods30.jpg', 'woods111.jpg', 'woods139.jpg', 'woods148.jpg', 'woods152.jpg', 'woods113.jpg', 'woods2.jpg', 'woods59.jpg', 'woods101.jpg', 'woods43.jpg', 'woods167.jpg', 'woods42.jpg', 'woods81.jpg', 'woods26.jpg']\n",
            "\n",
            "Images for maria: ['woods29.jpg', 'woods100.jpg', 'woods20.jpg', 'woods34.jpg', 'woods14.jpg', 'woods74.jpg', 'woods61.jpg', 'woods70.jpg', 'woods69.jpg', 'woods4.jpg', 'woods9.jpg', 'woods13.jpg', 'woods63.jpg', 'woods24.jpg', 'woods85.jpg', 'woods49.jpg', 'woods112.jpg', 'woods32.jpg', 'woods47.jpg', 'woods91.jpg', 'woods108.jpg', 'woods67.jpg', 'woods107.jpg', 'woods25.jpg', 'woods114.jpg', 'woods92.jpg', 'woods73.jpg', 'woods23.jpg', 'woods89.jpg', 'woods96.jpg', 'woods46.jpg', 'woods27.jpg', 'woods93.jpg', 'woods53.jpg', 'woods54.jpg', 'woods87.jpg', 'woods119.jpg', 'woods39.jpg', 'woods106.jpg', 'woods110.jpg', 'woods77.jpg', 'woods115.jpg', 'woods16.jpg', 'woods75.jpg', 'woods65.jpg', 'woods64.jpg', 'woods71.jpg', 'woods68.jpg', 'woods55.jpg', 'woods62.jpg', 'woods95.jpg', 'woods19.jpg', 'woods66.jpg', 'woods48.jpg', 'woods12.jpg', 'woods15.jpg', 'woods102.jpg', 'woods103.jpg', 'woods78.jpg', 'woods31.jpg', 'woods60.jpg', 'woods58.jpg', 'woods3.jpg', 'woods1.jpg', 'woods76.jpg', 'woods52.jpg', 'woods90.jpg', 'woods99.jpg', 'woods98.jpg', 'woods35.jpg', 'woods82.jpg', 'woods8.jpg', 'woods105.jpg', 'woods83.jpg', 'woods6.jpg', 'woods18.jpg', 'woods120.jpg', 'woods21.jpg', 'woods38.jpg', 'woods5.jpg', 'woods118.jpg', 'woods10.jpg', 'woods17.jpg', 'woods104.jpg', 'woods97.jpg', 'woods86.jpg', 'woods22.jpg', 'woods41.jpg', 'woods56.jpg', 'woods45.jpg', 'woods117.jpg', 'woods40.jpg', 'woods84.jpg', 'woods7.jpg', 'woods116.jpg', 'woods79.jpg', 'woods51.jpg', 'woods28.jpg', 'woods80.jpg', 'woods50.jpg', 'woods94.jpg', 'woods88.jpg', 'woods57.jpg', 'woods33.jpg', 'woods11.jpg', 'woods36.jpg', 'woods72.jpg', 'woods37.jpg', 'woods44.jpg', 'woods109.jpg', 'woods30.jpg', 'woods111.jpg', 'woods113.jpg', 'woods2.jpg', 'woods59.jpg', 'woods101.jpg', 'woods43.jpg', 'woods42.jpg', 'woods81.jpg', 'woods26.jpg']\n",
            "\n",
            "Images for kohli: ['woods29.jpg', 'woods100.jpg', 'woods20.jpg', 'woods34.jpg', 'woods14.jpg', 'woods74.jpg', 'woods61.jpg', 'woods70.jpg', 'woods69.jpg', 'woods4.jpg', 'woods9.jpg', 'woods13.jpg', 'woods63.jpg', 'woods24.jpg', 'woods85.jpg', 'woods49.jpg', 'woods112.jpg', 'woods32.jpg', 'woods47.jpg', 'woods91.jpg', 'woods108.jpg', 'woods67.jpg', 'woods107.jpg', 'woods25.jpg', 'woods114.jpg', 'woods92.jpg', 'woods73.jpg', 'woods23.jpg', 'woods89.jpg', 'woods96.jpg', 'woods46.jpg', 'woods27.jpg', 'woods93.jpg', 'woods53.jpg', 'woods54.jpg', 'woods87.jpg', 'woods119.jpg', 'woods39.jpg', 'woods106.jpg', 'woods110.jpg', 'woods77.jpg', 'woods115.jpg', 'woods16.jpg', 'woods75.jpg', 'woods65.jpg', 'woods64.jpg', 'woods71.jpg', 'woods68.jpg', 'woods55.jpg', 'woods62.jpg', 'woods95.jpg', 'woods19.jpg', 'woods66.jpg', 'woods48.jpg', 'woods12.jpg', 'woods15.jpg', 'woods102.jpg', 'woods103.jpg', 'woods78.jpg', 'woods31.jpg', 'woods60.jpg', 'woods58.jpg', 'woods3.jpg', 'woods1.jpg', 'woods76.jpg', 'woods52.jpg', 'woods90.jpg', 'woods99.jpg', 'woods121.jpg', 'woods98.jpg', 'woods35.jpg', 'woods82.jpg', 'woods8.jpg', 'woods105.jpg', 'woods83.jpg', 'woods6.jpg', 'woods18.jpg', 'woods120.jpg', 'woods21.jpg', 'woods38.jpg', 'woods5.jpg', 'woods118.jpg', 'woods10.jpg', 'woods17.jpg', 'woods104.jpg', 'woods97.jpg', 'woods86.jpg', 'woods22.jpg', 'woods41.jpg', 'woods56.jpg', 'woods45.jpg', 'woods117.jpg', 'woods40.jpg', 'woods84.jpg', 'woods7.jpg', 'woods116.jpg', 'woods79.jpg', 'woods51.jpg', 'woods28.jpg', 'woods80.jpg', 'woods50.jpg', 'woods94.jpg', 'woods88.jpg', 'woods57.jpg', 'woods33.jpg', 'woods11.jpg', 'woods36.jpg', 'woods72.jpg', 'woods37.jpg', 'woods44.jpg', 'woods109.jpg', 'woods30.jpg', 'woods111.jpg', 'woods113.jpg', 'woods2.jpg', 'woods59.jpg', 'woods101.jpg', 'woods43.jpg', 'woods42.jpg', 'woods81.jpg', 'woods26.jpg']\n",
            "\n",
            "Images for cristiano: ['woods29.jpg', 'woods100.jpg', 'woods20.jpg', 'woods34.jpg', 'woods14.jpg', 'woods74.jpg', 'woods61.jpg', 'woods70.jpg', 'woods69.jpg', 'woods4.jpg', 'woods9.jpg', 'woods13.jpg', 'woods63.jpg', 'woods24.jpg', 'woods85.jpg', 'woods49.jpg', 'woods112.jpg', 'woods32.jpg', 'woods47.jpg', 'woods91.jpg', 'woods108.jpg', 'woods67.jpg', 'woods107.jpg', 'woods25.jpg', 'woods114.jpg', 'woods92.jpg', 'woods73.jpg', 'woods23.jpg', 'woods89.jpg', 'woods96.jpg', 'woods46.jpg', 'woods27.jpg', 'woods93.jpg', 'woods53.jpg', 'woods54.jpg', 'woods87.jpg', 'woods119.jpg', 'woods39.jpg', 'woods106.jpg', 'woods110.jpg', 'woods77.jpg', 'woods115.jpg', 'woods16.jpg', 'woods75.jpg', 'woods65.jpg', 'woods64.jpg', 'woods71.jpg', 'woods68.jpg', 'woods55.jpg', 'woods62.jpg', 'woods95.jpg', 'woods19.jpg', 'woods66.jpg', 'woods48.jpg', 'woods12.jpg', 'woods15.jpg', 'woods102.jpg', 'woods103.jpg', 'woods78.jpg', 'woods31.jpg', 'woods124.jpg', 'woods60.jpg', 'woods58.jpg', 'woods3.jpg', 'woods1.jpg', 'woods76.jpg', 'woods52.jpg', 'woods90.jpg', 'woods99.jpg', 'woods121.jpg', 'woods98.jpg', 'woods35.jpg', 'woods82.jpg', 'woods123.jpg', 'woods8.jpg', 'woods105.jpg', 'woods83.jpg', 'woods6.jpg', 'woods18.jpg', 'woods120.jpg', 'woods21.jpg', 'woods122.jpg', 'woods38.jpg', 'woods5.jpg', 'woods118.jpg', 'woods10.jpg', 'woods17.jpg', 'woods104.jpg', 'woods97.jpg', 'woods86.jpg', 'woods22.jpg', 'woods41.jpg', 'woods56.jpg', 'woods45.jpg', 'woods117.jpg', 'woods40.jpg', 'woods84.jpg', 'woods7.jpg', 'woods116.jpg', 'woods79.jpg', 'woods51.jpg', 'woods28.jpg', 'woods80.jpg', 'woods50.jpg', 'woods94.jpg', 'woods88.jpg', 'woods57.jpg', 'woods33.jpg', 'woods11.jpg', 'woods36.jpg', 'woods72.jpg', 'woods37.jpg', 'woods44.jpg', 'woods109.jpg', 'woods30.jpg', 'woods111.jpg', 'woods113.jpg', 'woods2.jpg', 'woods59.jpg', 'woods101.jpg', 'woods43.jpg', 'woods42.jpg', 'woods81.jpg', 'woods26.jpg']\n"
          ]
        }
      ]
    },
    {
      "cell_type": "code",
      "source": [
        "# ------------------------\n",
        "# Step 3: Loop through each person's folder\n",
        "# ------------------------\n",
        "from tqdm import tqdm\n",
        "import os\n",
        "\n",
        "\n",
        "for person_name in os.listdir(dataset_path):\n",
        "    person_folder = os.path.join(dataset_path, person_name)\n",
        "\n",
        "    # Skip non-directory files (Ensure we process only directories)\n",
        "    if not os.path.isdir(person_folder):\n",
        "        continue\n",
        "\n",
        "    print(f\"\\nProcessing: {person_name}\")\n",
        "\n",
        "    # Loop through each image in the folder\n",
        "    for image_name in tqdm(os.listdir(person_folder)):\n",
        "        image_path = os.path.join(person_folder, image_name)\n",
        "\n",
        "        if not os.path.isfile(image_path):\n",
        "            continue\n",
        "\n",
        "        print(f\"Processing image: {image_name}\")\n",
        "        try:\n",
        "            # Open image\n",
        "            img = Image.open(image_path).convert('RGB')\n",
        "\n",
        "            # Detect and crop face using MTCNN\n",
        "            face = mtcnn(img)\n",
        "\n",
        "            if face is not None:\n",
        "                # Generate 512D face embedding\n",
        "                with torch.no_grad():\n",
        "                    embedding = resnet(face.unsqueeze(0))  # Add batch dim\n",
        "\n",
        "                # Save embedding and label\n",
        "                embedding_list.append(embedding.squeeze(0).numpy())\n",
        "                name_list.append(person_name)\n",
        "            else:\n",
        "                print(f\"Face not detected in {image_name}\")  # Debug: face not detected\n",
        "        except Exception as e:\n",
        "            print(f\"Error processing {image_name}: {e}\")  # Debug: any processing error\n"
      ],
      "metadata": {
        "id": "JG9t6f3YdIig",
        "colab": {
          "base_uri": "https://localhost:8080/"
        },
        "outputId": "673745f2-250f-45b0-c756-c40798c8d843"
      },
      "execution_count": null,
      "outputs": [
        {
          "output_type": "stream",
          "name": "stdout",
          "text": [
            "\n",
            "Processing: john cena\n"
          ]
        },
        {
          "output_type": "stream",
          "name": "stderr",
          "text": [
            "\r  0%|          | 0/107 [00:00<?, ?it/s]"
          ]
        },
        {
          "output_type": "stream",
          "name": "stdout",
          "text": [
            "Processing image: woods29.jpg\n"
          ]
        },
        {
          "output_type": "stream",
          "name": "stderr",
          "text": [
            "  2%|▏         | 2/107 [00:00<00:21,  4.92it/s]"
          ]
        },
        {
          "output_type": "stream",
          "name": "stdout",
          "text": [
            "Processing image: woods100.jpg\n",
            "Processing image: woods20.jpg\n"
          ]
        },
        {
          "output_type": "stream",
          "name": "stderr",
          "text": [
            "  4%|▎         | 4/107 [00:00<00:20,  5.01it/s]"
          ]
        },
        {
          "output_type": "stream",
          "name": "stdout",
          "text": [
            "Processing image: woods34.jpg\n",
            "Processing image: woods14.jpg\n"
          ]
        },
        {
          "output_type": "stream",
          "name": "stderr",
          "text": [
            "  6%|▌         | 6/107 [00:01<00:19,  5.20it/s]"
          ]
        },
        {
          "output_type": "stream",
          "name": "stdout",
          "text": [
            "Processing image: woods74.jpg\n",
            "Processing image: woods61.jpg\n"
          ]
        },
        {
          "output_type": "stream",
          "name": "stderr",
          "text": [
            "\r  7%|▋         | 7/107 [00:01<00:19,  5.03it/s]"
          ]
        },
        {
          "output_type": "stream",
          "name": "stdout",
          "text": [
            "Processing image: woods70.jpg\n"
          ]
        },
        {
          "output_type": "stream",
          "name": "stderr",
          "text": [
            "  8%|▊         | 9/107 [00:01<00:18,  5.20it/s]"
          ]
        },
        {
          "output_type": "stream",
          "name": "stdout",
          "text": [
            "Processing image: woods69.jpg\n",
            "Processing image: woods4.jpg\n"
          ]
        },
        {
          "output_type": "stream",
          "name": "stderr",
          "text": [
            " 10%|█         | 11/107 [00:02<00:17,  5.45it/s]"
          ]
        },
        {
          "output_type": "stream",
          "name": "stdout",
          "text": [
            "Processing image: woods9.jpg\n",
            "Processing image: woods13.jpg\n"
          ]
        },
        {
          "output_type": "stream",
          "name": "stderr",
          "text": [
            "\r 11%|█         | 12/107 [00:02<00:17,  5.58it/s]"
          ]
        },
        {
          "output_type": "stream",
          "name": "stdout",
          "text": [
            "Processing image: woods63.jpg\n"
          ]
        },
        {
          "output_type": "stream",
          "name": "stderr",
          "text": [
            " 13%|█▎        | 14/107 [00:02<00:19,  4.86it/s]"
          ]
        },
        {
          "output_type": "stream",
          "name": "stdout",
          "text": [
            "Processing image: woods24.jpg\n",
            "Processing image: woods85.jpg\n"
          ]
        },
        {
          "output_type": "stream",
          "name": "stderr",
          "text": [
            " 15%|█▍        | 16/107 [00:03<00:16,  5.41it/s]"
          ]
        },
        {
          "output_type": "stream",
          "name": "stdout",
          "text": [
            "Processing image: woods49.jpg\n",
            "Processing image: woods32.jpg\n"
          ]
        },
        {
          "output_type": "stream",
          "name": "stderr",
          "text": [
            " 17%|█▋        | 18/107 [00:03<00:16,  5.38it/s]"
          ]
        },
        {
          "output_type": "stream",
          "name": "stdout",
          "text": [
            "Processing image: woods47.jpg\n",
            "Processing image: woods91.jpg\n"
          ]
        },
        {
          "output_type": "stream",
          "name": "stderr",
          "text": [
            " 19%|█▊        | 20/107 [00:03<00:16,  5.23it/s]"
          ]
        },
        {
          "output_type": "stream",
          "name": "stdout",
          "text": [
            "Processing image: woods67.jpg\n",
            "Processing image: woods107.jpg\n"
          ]
        },
        {
          "output_type": "stream",
          "name": "stderr",
          "text": [
            " 21%|██        | 22/107 [00:04<00:15,  5.52it/s]"
          ]
        },
        {
          "output_type": "stream",
          "name": "stdout",
          "text": [
            "Processing image: woods25.jpg\n",
            "Processing image: woods92.jpg\n"
          ]
        },
        {
          "output_type": "stream",
          "name": "stderr",
          "text": [
            " 22%|██▏       | 24/107 [00:04<00:14,  5.84it/s]"
          ]
        },
        {
          "output_type": "stream",
          "name": "stdout",
          "text": [
            "Processing image: woods73.jpg\n",
            "Processing image: woods23.jpg\n"
          ]
        },
        {
          "output_type": "stream",
          "name": "stderr",
          "text": [
            " 24%|██▍       | 26/107 [00:04<00:15,  5.37it/s]"
          ]
        },
        {
          "output_type": "stream",
          "name": "stdout",
          "text": [
            "Processing image: woods89.jpg\n",
            "Processing image: woods96.jpg\n"
          ]
        },
        {
          "output_type": "stream",
          "name": "stderr",
          "text": [
            " 26%|██▌       | 28/107 [00:05<00:14,  5.62it/s]"
          ]
        },
        {
          "output_type": "stream",
          "name": "stdout",
          "text": [
            "Processing image: woods46.jpg\n",
            "Processing image: woods27.jpg\n"
          ]
        },
        {
          "output_type": "stream",
          "name": "stderr",
          "text": [
            " 28%|██▊       | 30/107 [00:05<00:13,  5.70it/s]"
          ]
        },
        {
          "output_type": "stream",
          "name": "stdout",
          "text": [
            "Processing image: woods93.jpg\n",
            "Processing image: woods53.jpg\n"
          ]
        },
        {
          "output_type": "stream",
          "name": "stderr",
          "text": [
            " 30%|██▉       | 32/107 [00:05<00:12,  6.08it/s]"
          ]
        },
        {
          "output_type": "stream",
          "name": "stdout",
          "text": [
            "Processing image: woods54.jpg\n",
            "Processing image: woods87.jpg\n"
          ]
        },
        {
          "output_type": "stream",
          "name": "stderr",
          "text": [
            " 32%|███▏      | 34/107 [00:06<00:12,  5.88it/s]"
          ]
        },
        {
          "output_type": "stream",
          "name": "stdout",
          "text": [
            "Processing image: woods39.jpg\n",
            "Processing image: woods106.jpg\n"
          ]
        },
        {
          "output_type": "stream",
          "name": "stderr",
          "text": [
            "\r 33%|███▎      | 35/107 [00:06<00:12,  5.77it/s]"
          ]
        },
        {
          "output_type": "stream",
          "name": "stdout",
          "text": [
            "Processing image: woods77.jpg\n"
          ]
        },
        {
          "output_type": "stream",
          "name": "stderr",
          "text": [
            " 35%|███▍      | 37/107 [00:06<00:13,  5.24it/s]"
          ]
        },
        {
          "output_type": "stream",
          "name": "stdout",
          "text": [
            "Processing image: woods16.jpg\n",
            "Processing image: woods75.jpg\n"
          ]
        },
        {
          "output_type": "stream",
          "name": "stderr",
          "text": [
            "\r 36%|███▌      | 38/107 [00:07<00:15,  4.55it/s]"
          ]
        },
        {
          "output_type": "stream",
          "name": "stdout",
          "text": [
            "Processing image: woods65.jpg\n"
          ]
        },
        {
          "output_type": "stream",
          "name": "stderr",
          "text": [
            "\r 36%|███▋      | 39/107 [00:07<00:16,  4.21it/s]"
          ]
        },
        {
          "output_type": "stream",
          "name": "stdout",
          "text": [
            "Processing image: woods64.jpg\n"
          ]
        },
        {
          "output_type": "stream",
          "name": "stderr",
          "text": [
            "\r 37%|███▋      | 40/107 [00:08<00:26,  2.54it/s]"
          ]
        },
        {
          "output_type": "stream",
          "name": "stdout",
          "text": [
            "Processing image: woods71.jpg\n"
          ]
        },
        {
          "output_type": "stream",
          "name": "stderr",
          "text": [
            "\r 38%|███▊      | 41/107 [00:08<00:23,  2.84it/s]"
          ]
        },
        {
          "output_type": "stream",
          "name": "stdout",
          "text": [
            "Processing image: woods68.jpg\n"
          ]
        },
        {
          "output_type": "stream",
          "name": "stderr",
          "text": [
            "\r 39%|███▉      | 42/107 [00:08<00:20,  3.21it/s]"
          ]
        },
        {
          "output_type": "stream",
          "name": "stdout",
          "text": [
            "Processing image: woods55.jpg\n"
          ]
        },
        {
          "output_type": "stream",
          "name": "stderr",
          "text": [
            "\r 40%|████      | 43/107 [00:08<00:19,  3.34it/s]"
          ]
        },
        {
          "output_type": "stream",
          "name": "stdout",
          "text": [
            "Processing image: woods62.jpg\n"
          ]
        },
        {
          "output_type": "stream",
          "name": "stderr",
          "text": [
            "\r 41%|████      | 44/107 [00:09<00:17,  3.54it/s]"
          ]
        },
        {
          "output_type": "stream",
          "name": "stdout",
          "text": [
            "Processing image: woods95.jpg\n"
          ]
        },
        {
          "output_type": "stream",
          "name": "stderr",
          "text": [
            "\r 42%|████▏     | 45/107 [00:09<00:17,  3.59it/s]"
          ]
        },
        {
          "output_type": "stream",
          "name": "stdout",
          "text": [
            "Processing image: woods19.jpg\n"
          ]
        },
        {
          "output_type": "stream",
          "name": "stderr",
          "text": [
            " 44%|████▍     | 47/107 [00:09<00:14,  4.00it/s]"
          ]
        },
        {
          "output_type": "stream",
          "name": "stdout",
          "text": [
            "Processing image: woods66.jpg\n",
            "Processing image: woods48.jpg\n"
          ]
        },
        {
          "output_type": "stream",
          "name": "stderr",
          "text": [
            "\r 45%|████▍     | 48/107 [00:10<00:13,  4.43it/s]"
          ]
        },
        {
          "output_type": "stream",
          "name": "stdout",
          "text": [
            "Processing image: woods12.jpg\n"
          ]
        },
        {
          "output_type": "stream",
          "name": "stderr",
          "text": [
            " 47%|████▋     | 50/107 [00:10<00:12,  4.64it/s]"
          ]
        },
        {
          "output_type": "stream",
          "name": "stdout",
          "text": [
            "Processing image: woods15.jpg\n",
            "Processing image: woods102.jpg\n"
          ]
        },
        {
          "output_type": "stream",
          "name": "stderr",
          "text": [
            " 49%|████▊     | 52/107 [00:10<00:10,  5.41it/s]"
          ]
        },
        {
          "output_type": "stream",
          "name": "stdout",
          "text": [
            "Processing image: woods103.jpg\n",
            "Processing image: woods78.jpg\n"
          ]
        },
        {
          "output_type": "stream",
          "name": "stderr",
          "text": [
            " 50%|█████     | 54/107 [00:11<00:09,  5.63it/s]"
          ]
        },
        {
          "output_type": "stream",
          "name": "stdout",
          "text": [
            "Processing image: woods31.jpg\n",
            "Processing image: woods60.jpg\n"
          ]
        },
        {
          "output_type": "stream",
          "name": "stderr",
          "text": [
            "\r 51%|█████▏    | 55/107 [00:11<00:09,  5.72it/s]"
          ]
        },
        {
          "output_type": "stream",
          "name": "stdout",
          "text": [
            "Processing image: woods58.jpg\n"
          ]
        },
        {
          "output_type": "stream",
          "name": "stderr",
          "text": [
            "\r 52%|█████▏    | 56/107 [00:11<00:10,  4.91it/s]"
          ]
        },
        {
          "output_type": "stream",
          "name": "stdout",
          "text": [
            "Processing image: woods3.jpg\n"
          ]
        },
        {
          "output_type": "stream",
          "name": "stderr",
          "text": [
            " 53%|█████▎    | 57/107 [00:11<00:10,  4.72it/s]/usr/local/lib/python3.11/dist-packages/PIL/Image.py:981: UserWarning: Palette images with Transparency expressed in bytes should be converted to RGBA images\n",
            "  warnings.warn(\n",
            " 54%|█████▍    | 58/107 [00:12<00:09,  5.19it/s]"
          ]
        },
        {
          "output_type": "stream",
          "name": "stdout",
          "text": [
            "Processing image: woods1.jpg\n",
            "Face not detected in woods1.jpg\n",
            "Processing image: woods76.jpg\n"
          ]
        },
        {
          "output_type": "stream",
          "name": "stderr",
          "text": [
            " 56%|█████▌    | 60/107 [00:12<00:09,  4.78it/s]"
          ]
        },
        {
          "output_type": "stream",
          "name": "stdout",
          "text": [
            "Processing image: woods52.jpg\n",
            "Processing image: woods90.jpg\n"
          ]
        },
        {
          "output_type": "stream",
          "name": "stderr",
          "text": [
            " 58%|█████▊    | 62/107 [00:12<00:08,  5.03it/s]"
          ]
        },
        {
          "output_type": "stream",
          "name": "stdout",
          "text": [
            "Processing image: woods99.jpg\n",
            "Processing image: woods98.jpg\n"
          ]
        },
        {
          "output_type": "stream",
          "name": "stderr",
          "text": [
            "\r 59%|█████▉    | 63/107 [00:13<00:09,  4.41it/s]"
          ]
        },
        {
          "output_type": "stream",
          "name": "stdout",
          "text": [
            "Processing image: woods35.jpg\n"
          ]
        },
        {
          "output_type": "stream",
          "name": "stderr",
          "text": [
            " 61%|██████    | 65/107 [00:13<00:08,  4.81it/s]"
          ]
        },
        {
          "output_type": "stream",
          "name": "stdout",
          "text": [
            "Processing image: woods82.jpg\n",
            "Processing image: woods8.jpg\n"
          ]
        },
        {
          "output_type": "stream",
          "name": "stderr",
          "text": [
            " 63%|██████▎   | 67/107 [00:13<00:07,  5.26it/s]"
          ]
        },
        {
          "output_type": "stream",
          "name": "stdout",
          "text": [
            "Processing image: woods105.jpg\n",
            "Processing image: woods83.jpg\n"
          ]
        },
        {
          "output_type": "stream",
          "name": "stderr",
          "text": [
            "\r 64%|██████▎   | 68/107 [00:14<00:07,  5.43it/s]"
          ]
        },
        {
          "output_type": "stream",
          "name": "stdout",
          "text": [
            "Processing image: woods6.jpg\n"
          ]
        },
        {
          "output_type": "stream",
          "name": "stderr",
          "text": [
            "\r 64%|██████▍   | 69/107 [00:14<00:07,  4.98it/s]"
          ]
        },
        {
          "output_type": "stream",
          "name": "stdout",
          "text": [
            "Processing image: woods18.jpg\n"
          ]
        },
        {
          "output_type": "stream",
          "name": "stderr",
          "text": [
            "\r 65%|██████▌   | 70/107 [00:14<00:08,  4.50it/s]"
          ]
        },
        {
          "output_type": "stream",
          "name": "stdout",
          "text": [
            "Processing image: woods21.jpg\n"
          ]
        },
        {
          "output_type": "stream",
          "name": "stderr",
          "text": [
            " 67%|██████▋   | 72/107 [00:14<00:06,  5.05it/s]"
          ]
        },
        {
          "output_type": "stream",
          "name": "stdout",
          "text": [
            "Processing image: woods38.jpg\n",
            "Processing image: woods5.jpg\n"
          ]
        },
        {
          "output_type": "stream",
          "name": "stderr",
          "text": [
            " 69%|██████▉   | 74/107 [00:15<00:05,  5.70it/s]"
          ]
        },
        {
          "output_type": "stream",
          "name": "stdout",
          "text": [
            "Processing image: woods10.jpg\n",
            "Processing image: woods17.jpg\n"
          ]
        },
        {
          "output_type": "stream",
          "name": "stderr",
          "text": [
            "\r 70%|███████   | 75/107 [00:15<00:05,  5.37it/s]"
          ]
        },
        {
          "output_type": "stream",
          "name": "stdout",
          "text": [
            "Processing image: woods104.jpg\n"
          ]
        },
        {
          "output_type": "stream",
          "name": "stderr",
          "text": [
            "\r 71%|███████   | 76/107 [00:15<00:06,  4.98it/s]"
          ]
        },
        {
          "output_type": "stream",
          "name": "stdout",
          "text": [
            "Processing image: woods97.jpg\n"
          ]
        },
        {
          "output_type": "stream",
          "name": "stderr",
          "text": [
            " 73%|███████▎  | 78/107 [00:16<00:05,  5.12it/s]"
          ]
        },
        {
          "output_type": "stream",
          "name": "stdout",
          "text": [
            "Processing image: woods86.jpg\n",
            "Processing image: woods22.jpg\n"
          ]
        },
        {
          "output_type": "stream",
          "name": "stderr",
          "text": [
            " 75%|███████▍  | 80/107 [00:16<00:05,  5.23it/s]"
          ]
        },
        {
          "output_type": "stream",
          "name": "stdout",
          "text": [
            "Processing image: woods41.jpg\n",
            "Processing image: woods56.jpg\n"
          ]
        },
        {
          "output_type": "stream",
          "name": "stderr",
          "text": [
            " 77%|███████▋  | 82/107 [00:16<00:04,  5.60it/s]"
          ]
        },
        {
          "output_type": "stream",
          "name": "stdout",
          "text": [
            "Processing image: woods45.jpg\n",
            "Processing image: woods40.jpg\n"
          ]
        },
        {
          "output_type": "stream",
          "name": "stderr",
          "text": [
            " 79%|███████▊  | 84/107 [00:17<00:03,  5.76it/s]"
          ]
        },
        {
          "output_type": "stream",
          "name": "stdout",
          "text": [
            "Processing image: woods84.jpg\n",
            "Processing image: woods7.jpg\n"
          ]
        },
        {
          "output_type": "stream",
          "name": "stderr",
          "text": [
            " 80%|████████  | 86/107 [00:17<00:03,  5.76it/s]"
          ]
        },
        {
          "output_type": "stream",
          "name": "stdout",
          "text": [
            "Processing image: woods79.jpg\n",
            "Processing image: woods51.jpg\n"
          ]
        },
        {
          "output_type": "stream",
          "name": "stderr",
          "text": [
            "\r 81%|████████▏ | 87/107 [00:17<00:03,  5.97it/s]"
          ]
        },
        {
          "output_type": "stream",
          "name": "stdout",
          "text": [
            "Processing image: woods28.jpg\n"
          ]
        },
        {
          "output_type": "stream",
          "name": "stderr",
          "text": [
            "\r 82%|████████▏ | 88/107 [00:17<00:03,  5.41it/s]"
          ]
        },
        {
          "output_type": "stream",
          "name": "stdout",
          "text": [
            "Processing image: woods80.jpg\n"
          ]
        },
        {
          "output_type": "stream",
          "name": "stderr",
          "text": [
            " 84%|████████▍ | 90/107 [00:18<00:03,  5.42it/s]"
          ]
        },
        {
          "output_type": "stream",
          "name": "stdout",
          "text": [
            "Processing image: woods50.jpg\n",
            "Processing image: woods94.jpg\n"
          ]
        },
        {
          "output_type": "stream",
          "name": "stderr",
          "text": [
            " 86%|████████▌ | 92/107 [00:18<00:02,  5.72it/s]"
          ]
        },
        {
          "output_type": "stream",
          "name": "stdout",
          "text": [
            "Processing image: woods88.jpg\n",
            "Processing image: woods57.jpg\n"
          ]
        },
        {
          "output_type": "stream",
          "name": "stderr",
          "text": [
            " 88%|████████▊ | 94/107 [00:18<00:02,  5.78it/s]"
          ]
        },
        {
          "output_type": "stream",
          "name": "stdout",
          "text": [
            "Processing image: woods33.jpg\n",
            "Processing image: woods11.jpg\n"
          ]
        },
        {
          "output_type": "stream",
          "name": "stderr",
          "text": [
            " 90%|████████▉ | 96/107 [00:19<00:01,  5.97it/s]"
          ]
        },
        {
          "output_type": "stream",
          "name": "stdout",
          "text": [
            "Processing image: woods36.jpg\n",
            "Processing image: woods72.jpg\n"
          ]
        },
        {
          "output_type": "stream",
          "name": "stderr",
          "text": [
            " 92%|█████████▏| 98/107 [00:19<00:01,  4.93it/s]"
          ]
        },
        {
          "output_type": "stream",
          "name": "stdout",
          "text": [
            "Processing image: woods37.jpg\n",
            "Processing image: woods44.jpg\n"
          ]
        },
        {
          "output_type": "stream",
          "name": "stderr",
          "text": [
            "\r 93%|█████████▎| 99/107 [00:19<00:01,  4.38it/s]"
          ]
        },
        {
          "output_type": "stream",
          "name": "stdout",
          "text": [
            "Processing image: woods30.jpg\n"
          ]
        },
        {
          "output_type": "stream",
          "name": "stderr",
          "text": [
            "\r 93%|█████████▎| 100/107 [00:20<00:01,  3.64it/s]"
          ]
        },
        {
          "output_type": "stream",
          "name": "stdout",
          "text": [
            "Processing image: woods2.jpg\n"
          ]
        },
        {
          "output_type": "stream",
          "name": "stderr",
          "text": [
            "\r 94%|█████████▍| 101/107 [00:20<00:01,  3.84it/s]"
          ]
        },
        {
          "output_type": "stream",
          "name": "stdout",
          "text": [
            "Processing image: woods59.jpg\n"
          ]
        },
        {
          "output_type": "stream",
          "name": "stderr",
          "text": [
            "\r 95%|█████████▌| 102/107 [00:20<00:01,  3.71it/s]"
          ]
        },
        {
          "output_type": "stream",
          "name": "stdout",
          "text": [
            "Processing image: woods101.jpg\n"
          ]
        },
        {
          "output_type": "stream",
          "name": "stderr",
          "text": [
            "\r 96%|█████████▋| 103/107 [00:21<00:01,  3.42it/s]"
          ]
        },
        {
          "output_type": "stream",
          "name": "stdout",
          "text": [
            "Processing image: woods43.jpg\n"
          ]
        },
        {
          "output_type": "stream",
          "name": "stderr",
          "text": [
            "\r 97%|█████████▋| 104/107 [00:21<00:00,  3.55it/s]"
          ]
        },
        {
          "output_type": "stream",
          "name": "stdout",
          "text": [
            "Processing image: woods42.jpg\n"
          ]
        },
        {
          "output_type": "stream",
          "name": "stderr",
          "text": [
            "\r 98%|█████████▊| 105/107 [00:21<00:00,  3.54it/s]"
          ]
        },
        {
          "output_type": "stream",
          "name": "stdout",
          "text": [
            "Processing image: woods81.jpg\n"
          ]
        },
        {
          "output_type": "stream",
          "name": "stderr",
          "text": [
            "\r 99%|█████████▉| 106/107 [00:22<00:00,  3.20it/s]"
          ]
        },
        {
          "output_type": "stream",
          "name": "stdout",
          "text": [
            "Processing image: woods26.jpg\n"
          ]
        },
        {
          "output_type": "stream",
          "name": "stderr",
          "text": [
            "100%|██████████| 107/107 [00:22<00:00,  4.78it/s]\n"
          ]
        },
        {
          "output_type": "stream",
          "name": "stdout",
          "text": [
            "\n",
            "Processing: kobe\n"
          ]
        },
        {
          "output_type": "stream",
          "name": "stderr",
          "text": [
            "\r  0%|          | 0/171 [00:00<?, ?it/s]"
          ]
        },
        {
          "output_type": "stream",
          "name": "stdout",
          "text": [
            "Processing image: woods129.jpg\n"
          ]
        },
        {
          "output_type": "stream",
          "name": "stderr",
          "text": [
            "  1%|          | 2/171 [00:00<00:41,  4.12it/s]"
          ]
        },
        {
          "output_type": "stream",
          "name": "stdout",
          "text": [
            "Processing image: woods29.jpg\n",
            "Processing image: woods100.jpg\n"
          ]
        },
        {
          "output_type": "stream",
          "name": "stderr",
          "text": [
            "\r  2%|▏         | 3/171 [00:00<00:32,  5.10it/s]"
          ]
        },
        {
          "output_type": "stream",
          "name": "stdout",
          "text": [
            "Processing image: woods131.jpg\n"
          ]
        },
        {
          "output_type": "stream",
          "name": "stderr",
          "text": [
            "  3%|▎         | 5/171 [00:01<00:33,  5.02it/s]"
          ]
        },
        {
          "output_type": "stream",
          "name": "stdout",
          "text": [
            "Processing image: woods20.jpg\n",
            "Processing image: woods34.jpg\n"
          ]
        },
        {
          "output_type": "stream",
          "name": "stderr",
          "text": [
            "\r  4%|▎         | 6/171 [00:01<00:32,  5.13it/s]"
          ]
        },
        {
          "output_type": "stream",
          "name": "stdout",
          "text": [
            "Processing image: woods126.jpg\n"
          ]
        },
        {
          "output_type": "stream",
          "name": "stderr",
          "text": [
            "\r  4%|▍         | 7/171 [00:01<00:42,  3.82it/s]"
          ]
        },
        {
          "output_type": "stream",
          "name": "stdout",
          "text": [
            "Processing image: woods136.jpg\n"
          ]
        },
        {
          "output_type": "stream",
          "name": "stderr",
          "text": [
            "  5%|▌         | 9/171 [00:02<00:39,  4.05it/s]"
          ]
        },
        {
          "output_type": "stream",
          "name": "stdout",
          "text": [
            "Processing image: woods14.jpg\n",
            "Processing image: woods74.jpg\n"
          ]
        },
        {
          "output_type": "stream",
          "name": "stderr",
          "text": [
            "  6%|▋         | 11/171 [00:02<00:36,  4.44it/s]"
          ]
        },
        {
          "output_type": "stream",
          "name": "stdout",
          "text": [
            "Processing image: woods61.jpg\n",
            "Processing image: woods145.jpg\n"
          ]
        },
        {
          "output_type": "stream",
          "name": "stderr",
          "text": [
            "\r  7%|▋         | 12/171 [00:02<00:41,  3.80it/s]"
          ]
        },
        {
          "output_type": "stream",
          "name": "stdout",
          "text": [
            "Processing image: woods70.jpg\n"
          ]
        },
        {
          "output_type": "stream",
          "name": "stderr",
          "text": [
            "\r  8%|▊         | 13/171 [00:03<00:39,  4.04it/s]"
          ]
        },
        {
          "output_type": "stream",
          "name": "stdout",
          "text": [
            "Processing image: woods69.jpg\n",
            "Face not detected in woods69.jpg\n",
            "Processing image: woods168.jpg\n"
          ]
        },
        {
          "output_type": "stream",
          "name": "stderr",
          "text": [
            "  9%|▉         | 16/171 [00:03<00:29,  5.25it/s]"
          ]
        },
        {
          "output_type": "stream",
          "name": "stdout",
          "text": [
            "Processing image: woods4.jpg\n"
          ]
        },
        {
          "output_type": "stream",
          "name": "stderr",
          "text": [
            "\r 10%|▉         | 17/171 [00:03<00:28,  5.38it/s]"
          ]
        },
        {
          "output_type": "stream",
          "name": "stdout",
          "text": [
            "Processing image: woods9.jpg\n",
            "Processing image: woods13.jpg\n"
          ]
        },
        {
          "output_type": "stream",
          "name": "stderr",
          "text": [
            "\r 11%|█         | 18/171 [00:03<00:28,  5.42it/s]"
          ]
        },
        {
          "output_type": "stream",
          "name": "stdout",
          "text": [
            "Processing image: woods63.jpg\n"
          ]
        },
        {
          "output_type": "stream",
          "name": "stderr",
          "text": [
            "\r 11%|█         | 19/171 [00:04<00:29,  5.12it/s]"
          ]
        },
        {
          "output_type": "stream",
          "name": "stdout",
          "text": [
            "Processing image: woods24.jpg\n"
          ]
        },
        {
          "output_type": "stream",
          "name": "stderr",
          "text": [
            " 12%|█▏        | 21/171 [00:04<00:30,  4.92it/s]"
          ]
        },
        {
          "output_type": "stream",
          "name": "stdout",
          "text": [
            "Processing image: woods85.jpg\n",
            "Processing image: woods49.jpg\n"
          ]
        },
        {
          "output_type": "stream",
          "name": "stderr",
          "text": [
            " 13%|█▎        | 23/171 [00:04<00:27,  5.42it/s]"
          ]
        },
        {
          "output_type": "stream",
          "name": "stdout",
          "text": [
            "Processing image: woods112.jpg\n",
            "Processing image: woods32.jpg\n"
          ]
        },
        {
          "output_type": "stream",
          "name": "stderr",
          "text": [
            "\r 14%|█▍        | 24/171 [00:05<00:48,  3.05it/s]"
          ]
        },
        {
          "output_type": "stream",
          "name": "stdout",
          "text": [
            "Processing image: woods47.jpg\n"
          ]
        },
        {
          "output_type": "stream",
          "name": "stderr",
          "text": [
            " 15%|█▌        | 26/171 [00:05<00:35,  4.08it/s]"
          ]
        },
        {
          "output_type": "stream",
          "name": "stdout",
          "text": [
            "Processing image: woods91.jpg\n",
            "Processing image: woods135.jpg\n"
          ]
        },
        {
          "output_type": "stream",
          "name": "stderr",
          "text": [
            "\r 16%|█▌        | 27/171 [00:06<00:47,  3.04it/s]"
          ]
        },
        {
          "output_type": "stream",
          "name": "stdout",
          "text": [
            "Processing image: woods108.jpg\n"
          ]
        },
        {
          "output_type": "stream",
          "name": "stderr",
          "text": [
            " 17%|█▋        | 29/171 [00:06<00:37,  3.81it/s]"
          ]
        },
        {
          "output_type": "stream",
          "name": "stdout",
          "text": [
            "Processing image: woods67.jpg\n",
            "Processing image: woods107.jpg\n"
          ]
        },
        {
          "output_type": "stream",
          "name": "stderr",
          "text": [
            "\r 18%|█▊        | 30/171 [00:07<00:32,  4.38it/s]"
          ]
        },
        {
          "output_type": "stream",
          "name": "stdout",
          "text": [
            "Processing image: woods25.jpg\n"
          ]
        },
        {
          "output_type": "stream",
          "name": "stderr",
          "text": [
            "\r 18%|█▊        | 31/171 [00:07<00:35,  3.91it/s]"
          ]
        },
        {
          "output_type": "stream",
          "name": "stdout",
          "text": [
            "Processing image: woods114.jpg\n"
          ]
        },
        {
          "output_type": "stream",
          "name": "stderr",
          "text": [
            " 19%|█▉        | 33/171 [00:07<00:36,  3.81it/s]"
          ]
        },
        {
          "output_type": "stream",
          "name": "stdout",
          "text": [
            "Processing image: woods92.jpg\n",
            "Processing image: woods157.jpg\n"
          ]
        },
        {
          "output_type": "stream",
          "name": "stderr",
          "text": [
            "\r 20%|█▉        | 34/171 [00:08<00:33,  4.03it/s]"
          ]
        },
        {
          "output_type": "stream",
          "name": "stdout",
          "text": [
            "Processing image: woods73.jpg\n"
          ]
        },
        {
          "output_type": "stream",
          "name": "stderr",
          "text": [
            " 21%|██        | 36/171 [00:08<00:30,  4.50it/s]"
          ]
        },
        {
          "output_type": "stream",
          "name": "stdout",
          "text": [
            "Processing image: woods127.jpg\n",
            "Processing image: woods143.jpg\n"
          ]
        },
        {
          "output_type": "stream",
          "name": "stderr",
          "text": [
            " 22%|██▏       | 38/171 [00:08<00:28,  4.60it/s]"
          ]
        },
        {
          "output_type": "stream",
          "name": "stdout",
          "text": [
            "Processing image: woods23.jpg\n",
            "Processing image: woods134.jpg\n"
          ]
        },
        {
          "output_type": "stream",
          "name": "stderr",
          "text": [
            "\r 23%|██▎       | 39/171 [00:09<00:27,  4.82it/s]"
          ]
        },
        {
          "output_type": "stream",
          "name": "stdout",
          "text": [
            "Processing image: woods89.jpg\n",
            "Face not detected in woods89.jpg\n",
            "Processing image: woods96.jpg\n"
          ]
        },
        {
          "output_type": "stream",
          "name": "stderr",
          "text": [
            " 25%|██▍       | 42/171 [00:09<00:21,  6.14it/s]"
          ]
        },
        {
          "output_type": "stream",
          "name": "stdout",
          "text": [
            "Processing image: woods46.jpg\n",
            "Processing image: woods27.jpg\n"
          ]
        },
        {
          "output_type": "stream",
          "name": "stderr",
          "text": [
            "\r 25%|██▌       | 43/171 [00:09<00:21,  5.88it/s]"
          ]
        },
        {
          "output_type": "stream",
          "name": "stdout",
          "text": [
            "Processing image: woods154.jpg\n"
          ]
        },
        {
          "output_type": "stream",
          "name": "stderr",
          "text": [
            " 26%|██▋       | 45/171 [00:10<00:21,  5.76it/s]"
          ]
        },
        {
          "output_type": "stream",
          "name": "stdout",
          "text": [
            "Processing image: woods93.jpg\n",
            "Processing image: woods53.jpg\n"
          ]
        },
        {
          "output_type": "stream",
          "name": "stderr",
          "text": [
            "\r 27%|██▋       | 46/171 [00:10<00:24,  5.03it/s]"
          ]
        },
        {
          "output_type": "stream",
          "name": "stdout",
          "text": [
            "Processing image: woods54.jpg\n"
          ]
        },
        {
          "output_type": "stream",
          "name": "stderr",
          "text": [
            "\r 27%|██▋       | 47/171 [00:10<00:28,  4.31it/s]"
          ]
        },
        {
          "output_type": "stream",
          "name": "stdout",
          "text": [
            "Processing image: woods128.jpg\n"
          ]
        },
        {
          "output_type": "stream",
          "name": "stderr",
          "text": [
            "\r 28%|██▊       | 48/171 [00:10<00:30,  4.02it/s]"
          ]
        },
        {
          "output_type": "stream",
          "name": "stdout",
          "text": [
            "Processing image: woods144.jpg\n"
          ]
        },
        {
          "output_type": "stream",
          "name": "stderr",
          "text": [
            "\r 29%|██▊       | 49/171 [00:11<00:32,  3.78it/s]"
          ]
        },
        {
          "output_type": "stream",
          "name": "stdout",
          "text": [
            "Processing image: woods87.jpg\n"
          ]
        },
        {
          "output_type": "stream",
          "name": "stderr",
          "text": [
            "\r 29%|██▉       | 50/171 [00:11<00:30,  3.93it/s]"
          ]
        },
        {
          "output_type": "stream",
          "name": "stdout",
          "text": [
            "Processing image: woods119.jpg\n"
          ]
        },
        {
          "output_type": "stream",
          "name": "stderr",
          "text": [
            "\r 30%|██▉       | 51/171 [00:11<00:36,  3.25it/s]"
          ]
        },
        {
          "output_type": "stream",
          "name": "stdout",
          "text": [
            "Processing image: woods140.jpg\n"
          ]
        },
        {
          "output_type": "stream",
          "name": "stderr",
          "text": [
            "\r 30%|███       | 52/171 [00:12<00:36,  3.26it/s]"
          ]
        },
        {
          "output_type": "stream",
          "name": "stdout",
          "text": [
            "Processing image: woods39.jpg\n"
          ]
        },
        {
          "output_type": "stream",
          "name": "stderr",
          "text": [
            "\r 31%|███       | 53/171 [00:12<00:35,  3.33it/s]"
          ]
        },
        {
          "output_type": "stream",
          "name": "stdout",
          "text": [
            "Processing image: woods158.jpg\n"
          ]
        },
        {
          "output_type": "stream",
          "name": "stderr",
          "text": [
            "\r 32%|███▏      | 54/171 [00:12<00:36,  3.24it/s]"
          ]
        },
        {
          "output_type": "stream",
          "name": "stdout",
          "text": [
            "Processing image: woods106.jpg\n"
          ]
        },
        {
          "output_type": "stream",
          "name": "stderr",
          "text": [
            "\r 32%|███▏      | 55/171 [00:13<00:32,  3.58it/s]"
          ]
        },
        {
          "output_type": "stream",
          "name": "stdout",
          "text": [
            "Processing image: woods110.jpg\n"
          ]
        },
        {
          "output_type": "stream",
          "name": "stderr",
          "text": [
            "\r 33%|███▎      | 56/171 [00:13<00:30,  3.73it/s]"
          ]
        },
        {
          "output_type": "stream",
          "name": "stdout",
          "text": [
            "Processing image: woods77.jpg\n",
            "Face not detected in woods77.jpg\n",
            "Processing image: woods115.jpg\n"
          ]
        },
        {
          "output_type": "stream",
          "name": "stderr",
          "text": [
            " 35%|███▍      | 59/171 [00:14<00:28,  3.89it/s]"
          ]
        },
        {
          "output_type": "stream",
          "name": "stdout",
          "text": [
            "Processing image: woods16.jpg\n",
            "Processing image: woods75.jpg\n"
          ]
        },
        {
          "output_type": "stream",
          "name": "stderr",
          "text": [
            "\r 35%|███▌      | 60/171 [00:14<00:26,  4.26it/s]"
          ]
        },
        {
          "output_type": "stream",
          "name": "stdout",
          "text": [
            "Processing image: woods65.jpg\n"
          ]
        },
        {
          "output_type": "stream",
          "name": "stderr",
          "text": [
            "\r 36%|███▌      | 61/171 [00:14<00:25,  4.38it/s]"
          ]
        },
        {
          "output_type": "stream",
          "name": "stdout",
          "text": [
            "Processing image: woods64.jpg\n",
            "Face not detected in woods64.jpg\n",
            "Processing image: woods71.jpg\n"
          ]
        },
        {
          "output_type": "stream",
          "name": "stderr",
          "text": [
            " 37%|███▋      | 64/171 [00:14<00:21,  5.05it/s]"
          ]
        },
        {
          "output_type": "stream",
          "name": "stdout",
          "text": [
            "Processing image: woods68.jpg\n",
            "Processing image: woods156.jpg\n"
          ]
        },
        {
          "output_type": "stream",
          "name": "stderr",
          "text": [
            " 39%|███▊      | 66/171 [00:15<00:21,  4.97it/s]"
          ]
        },
        {
          "output_type": "stream",
          "name": "stdout",
          "text": [
            "Processing image: woods125.jpg\n",
            "Processing image: woods55.jpg\n"
          ]
        },
        {
          "output_type": "stream",
          "name": "stderr",
          "text": [
            "\r 39%|███▉      | 67/171 [00:15<00:20,  5.19it/s]"
          ]
        },
        {
          "output_type": "stream",
          "name": "stdout",
          "text": [
            "Processing image: woods62.jpg\n"
          ]
        },
        {
          "output_type": "stream",
          "name": "stderr",
          "text": [
            " 41%|████      | 70/171 [00:15<00:15,  6.56it/s]"
          ]
        },
        {
          "output_type": "stream",
          "name": "stdout",
          "text": [
            "Processing image: woods95.jpg\n",
            "Face not detected in woods95.jpg\n",
            "Processing image: woods19.jpg\n",
            "Processing image: woods66.jpg\n"
          ]
        },
        {
          "output_type": "stream",
          "name": "stderr",
          "text": [
            "\r 42%|████▏     | 72/171 [00:16<00:13,  7.41it/s]"
          ]
        },
        {
          "output_type": "stream",
          "name": "stdout",
          "text": [
            "Face not detected in woods66.jpg\n",
            "Processing image: woods48.jpg\n",
            "Processing image: woods12.jpg\n"
          ]
        },
        {
          "output_type": "stream",
          "name": "stderr",
          "text": [
            " 43%|████▎     | 74/171 [00:16<00:15,  6.37it/s]"
          ]
        },
        {
          "output_type": "stream",
          "name": "stdout",
          "text": [
            "Processing image: woods150.jpg\n",
            "Processing image: woods15.jpg\n"
          ]
        },
        {
          "output_type": "stream",
          "name": "stderr",
          "text": [
            "\r 44%|████▍     | 75/171 [00:16<00:15,  6.34it/s]"
          ]
        },
        {
          "output_type": "stream",
          "name": "stdout",
          "text": [
            "Processing image: woods102.jpg\n",
            "Face not detected in woods102.jpg\n",
            "Processing image: woods103.jpg\n"
          ]
        },
        {
          "output_type": "stream",
          "name": "stderr",
          "text": [
            " 46%|████▌     | 78/171 [00:17<00:14,  6.24it/s]"
          ]
        },
        {
          "output_type": "stream",
          "name": "stdout",
          "text": [
            "Processing image: woods78.jpg\n",
            "Processing image: woods31.jpg\n"
          ]
        },
        {
          "output_type": "stream",
          "name": "stderr",
          "text": [
            "\r 46%|████▌     | 79/171 [00:17<00:15,  5.99it/s]"
          ]
        },
        {
          "output_type": "stream",
          "name": "stdout",
          "text": [
            "Processing image: woods155.jpg\n",
            "Face not detected in woods155.jpg\n",
            "Processing image: woods124.jpg\n"
          ]
        },
        {
          "output_type": "stream",
          "name": "stderr",
          "text": [
            "\r 47%|████▋     | 81/171 [00:17<00:13,  6.74it/s]"
          ]
        },
        {
          "output_type": "stream",
          "name": "stdout",
          "text": [
            "Processing image: woods60.jpg\n"
          ]
        },
        {
          "output_type": "stream",
          "name": "stderr",
          "text": [
            "\r 48%|████▊     | 82/171 [00:17<00:14,  6.07it/s]"
          ]
        },
        {
          "output_type": "stream",
          "name": "stdout",
          "text": [
            "Processing image: woods169.jpg\n"
          ]
        },
        {
          "output_type": "stream",
          "name": "stderr",
          "text": [
            " 49%|████▉     | 84/171 [00:18<00:15,  5.60it/s]"
          ]
        },
        {
          "output_type": "stream",
          "name": "stdout",
          "text": [
            "Processing image: woods58.jpg\n",
            "Processing image: woods3.jpg\n"
          ]
        },
        {
          "output_type": "stream",
          "name": "stderr",
          "text": [
            " 50%|█████     | 86/171 [00:18<00:14,  5.75it/s]"
          ]
        },
        {
          "output_type": "stream",
          "name": "stdout",
          "text": [
            "Processing image: woods1.jpg\n",
            "Face not detected in woods1.jpg\n",
            "Processing image: woods76.jpg\n"
          ]
        },
        {
          "output_type": "stream",
          "name": "stderr",
          "text": [
            "\r 51%|█████     | 87/171 [00:18<00:15,  5.49it/s]"
          ]
        },
        {
          "output_type": "stream",
          "name": "stdout",
          "text": [
            "Processing image: woods52.jpg\n"
          ]
        },
        {
          "output_type": "stream",
          "name": "stderr",
          "text": [
            "\r 51%|█████▏    | 88/171 [00:19<00:19,  4.34it/s]"
          ]
        },
        {
          "output_type": "stream",
          "name": "stdout",
          "text": [
            "Processing image: woods90.jpg\n",
            "Face not detected in woods90.jpg\n",
            "Processing image: woods99.jpg\n"
          ]
        },
        {
          "output_type": "stream",
          "name": "stderr",
          "text": [
            "\r 53%|█████▎    | 90/171 [00:19<00:15,  5.15it/s]"
          ]
        },
        {
          "output_type": "stream",
          "name": "stdout",
          "text": [
            "Processing image: woods121.jpg\n"
          ]
        },
        {
          "output_type": "stream",
          "name": "stderr",
          "text": [
            "\r 53%|█████▎    | 91/171 [00:19<00:16,  4.83it/s]"
          ]
        },
        {
          "output_type": "stream",
          "name": "stdout",
          "text": [
            "Processing image: woods98.jpg\n"
          ]
        },
        {
          "output_type": "stream",
          "name": "stderr",
          "text": [
            "\r 54%|█████▍    | 92/171 [00:20<00:18,  4.21it/s]"
          ]
        },
        {
          "output_type": "stream",
          "name": "stdout",
          "text": [
            "Processing image: woods35.jpg\n"
          ]
        },
        {
          "output_type": "stream",
          "name": "stderr",
          "text": [
            "\r 54%|█████▍    | 93/171 [00:20<00:18,  4.29it/s]"
          ]
        },
        {
          "output_type": "stream",
          "name": "stdout",
          "text": [
            "Processing image: woods82.jpg\n"
          ]
        },
        {
          "output_type": "stream",
          "name": "stderr",
          "text": [
            " 56%|█████▌    | 95/171 [00:20<00:17,  4.44it/s]"
          ]
        },
        {
          "output_type": "stream",
          "name": "stdout",
          "text": [
            "Processing image: woods146.jpg\n",
            "Processing image: woods123.jpg\n"
          ]
        },
        {
          "output_type": "stream",
          "name": "stderr",
          "text": [
            "\r 56%|█████▌    | 96/171 [00:20<00:17,  4.28it/s]"
          ]
        },
        {
          "output_type": "stream",
          "name": "stdout",
          "text": [
            "Processing image: woods160.jpg\n",
            "Face not detected in woods160.jpg\n",
            "Processing image: woods8.jpg\n"
          ]
        },
        {
          "output_type": "stream",
          "name": "stderr",
          "text": [
            " 58%|█████▊    | 99/171 [00:21<00:13,  5.20it/s]"
          ]
        },
        {
          "output_type": "stream",
          "name": "stdout",
          "text": [
            "Processing image: woods105.jpg\n",
            "Processing image: woods130.jpg\n"
          ]
        },
        {
          "output_type": "stream",
          "name": "stderr",
          "text": [
            " 59%|█████▉    | 101/171 [00:21<00:13,  5.38it/s]"
          ]
        },
        {
          "output_type": "stream",
          "name": "stdout",
          "text": [
            "Processing image: woods83.jpg\n",
            "Processing image: woods6.jpg\n"
          ]
        },
        {
          "output_type": "stream",
          "name": "stderr",
          "text": [
            "\r 60%|█████▉    | 102/171 [00:21<00:12,  5.48it/s]"
          ]
        },
        {
          "output_type": "stream",
          "name": "stdout",
          "text": [
            "Processing image: woods18.jpg\n"
          ]
        },
        {
          "output_type": "stream",
          "name": "stderr",
          "text": [
            "\r 60%|██████    | 103/171 [00:22<00:13,  4.95it/s]"
          ]
        },
        {
          "output_type": "stream",
          "name": "stdout",
          "text": [
            "Processing image: woods159.jpg\n"
          ]
        },
        {
          "output_type": "stream",
          "name": "stderr",
          "text": [
            "\r 61%|██████    | 104/171 [00:22<00:14,  4.66it/s]"
          ]
        },
        {
          "output_type": "stream",
          "name": "stdout",
          "text": [
            "Processing image: woods120.jpg\n"
          ]
        },
        {
          "output_type": "stream",
          "name": "stderr",
          "text": [
            " 62%|██████▏   | 106/171 [00:22<00:13,  4.87it/s]"
          ]
        },
        {
          "output_type": "stream",
          "name": "stdout",
          "text": [
            "Processing image: woods153.jpg\n",
            "Processing image: woods21.jpg\n"
          ]
        },
        {
          "output_type": "stream",
          "name": "stderr",
          "text": [
            "\r 63%|██████▎   | 107/171 [00:23<00:12,  5.04it/s]"
          ]
        },
        {
          "output_type": "stream",
          "name": "stdout",
          "text": [
            "Processing image: woods170.jpg\n"
          ]
        },
        {
          "output_type": "stream",
          "name": "stderr",
          "text": [
            "\r 63%|██████▎   | 108/171 [00:23<00:15,  4.00it/s]"
          ]
        },
        {
          "output_type": "stream",
          "name": "stdout",
          "text": [
            "Processing image: woods166.jpg\n"
          ]
        },
        {
          "output_type": "stream",
          "name": "stderr",
          "text": [
            "\r 64%|██████▎   | 109/171 [00:23<00:19,  3.20it/s]"
          ]
        },
        {
          "output_type": "stream",
          "name": "stdout",
          "text": [
            "Processing image: woods122.jpg\n"
          ]
        },
        {
          "output_type": "stream",
          "name": "stderr",
          "text": [
            "\r 64%|██████▍   | 110/171 [00:24<00:18,  3.32it/s]"
          ]
        },
        {
          "output_type": "stream",
          "name": "stdout",
          "text": [
            "Processing image: woods165.jpg\n"
          ]
        },
        {
          "output_type": "stream",
          "name": "stderr",
          "text": [
            "\r 65%|██████▍   | 111/171 [00:24<00:17,  3.40it/s]"
          ]
        },
        {
          "output_type": "stream",
          "name": "stdout",
          "text": [
            "Processing image: woods38.jpg\n"
          ]
        },
        {
          "output_type": "stream",
          "name": "stderr",
          "text": [
            "\r 65%|██████▌   | 112/171 [00:24<00:20,  2.93it/s]"
          ]
        },
        {
          "output_type": "stream",
          "name": "stdout",
          "text": [
            "Processing image: woods5.jpg\n"
          ]
        },
        {
          "output_type": "stream",
          "name": "stderr",
          "text": [
            "\r 66%|██████▌   | 113/171 [00:25<00:20,  2.82it/s]"
          ]
        },
        {
          "output_type": "stream",
          "name": "stdout",
          "text": [
            "Processing image: woods118.jpg\n",
            "Face not detected in woods118.jpg\n",
            "Processing image: woods10.jpg\n"
          ]
        },
        {
          "output_type": "stream",
          "name": "stderr",
          "text": [
            "\r 67%|██████▋   | 115/171 [00:25<00:15,  3.66it/s]"
          ]
        },
        {
          "output_type": "stream",
          "name": "stdout",
          "text": [
            "Processing image: woods17.jpg\n"
          ]
        },
        {
          "output_type": "stream",
          "name": "stderr",
          "text": [
            "\r 68%|██████▊   | 116/171 [00:25<00:15,  3.66it/s]"
          ]
        },
        {
          "output_type": "stream",
          "name": "stdout",
          "text": [
            "Processing image: woods104.jpg\n"
          ]
        },
        {
          "output_type": "stream",
          "name": "stderr",
          "text": [
            " 69%|██████▉   | 118/171 [00:26<00:13,  3.91it/s]"
          ]
        },
        {
          "output_type": "stream",
          "name": "stdout",
          "text": [
            "Processing image: woods141.jpg\n",
            "Processing image: woods97.jpg\n"
          ]
        },
        {
          "output_type": "stream",
          "name": "stderr",
          "text": [
            " 71%|███████   | 121/171 [00:26<00:08,  5.61it/s]"
          ]
        },
        {
          "output_type": "stream",
          "name": "stdout",
          "text": [
            "Processing image: woods86.jpg\n",
            "Face not detected in woods86.jpg\n",
            "Processing image: woods22.jpg\n"
          ]
        },
        {
          "output_type": "stream",
          "name": "stderr",
          "text": [
            "\r 71%|███████▏  | 122/171 [00:26<00:08,  5.50it/s]"
          ]
        },
        {
          "output_type": "stream",
          "name": "stdout",
          "text": [
            "Processing image: woods41.jpg\n",
            "Processing image: woods132.jpg\n"
          ]
        },
        {
          "output_type": "stream",
          "name": "stderr",
          "text": [
            " 73%|███████▎  | 124/171 [00:27<00:08,  5.55it/s]"
          ]
        },
        {
          "output_type": "stream",
          "name": "stdout",
          "text": [
            "Processing image: woods56.jpg\n",
            "Processing image: woods45.jpg\n"
          ]
        },
        {
          "output_type": "stream",
          "name": "stderr",
          "text": [
            " 74%|███████▎  | 126/171 [00:27<00:07,  5.69it/s]"
          ]
        },
        {
          "output_type": "stream",
          "name": "stdout",
          "text": [
            "Processing image: woods117.jpg\n",
            "Processing image: woods164.jpg\n"
          ]
        },
        {
          "output_type": "stream",
          "name": "stderr",
          "text": [
            "\r 74%|███████▍  | 127/171 [00:27<00:08,  5.27it/s]"
          ]
        },
        {
          "output_type": "stream",
          "name": "stdout",
          "text": [
            "Processing image: woods147.jpg\n"
          ]
        },
        {
          "output_type": "stream",
          "name": "stderr",
          "text": [
            "\r 75%|███████▍  | 128/171 [00:28<00:10,  4.12it/s]"
          ]
        },
        {
          "output_type": "stream",
          "name": "stdout",
          "text": [
            "Processing image: woods40.jpg\n"
          ]
        },
        {
          "output_type": "stream",
          "name": "stderr",
          "text": [
            "\r 75%|███████▌  | 129/171 [00:28<00:09,  4.27it/s]"
          ]
        },
        {
          "output_type": "stream",
          "name": "stdout",
          "text": [
            "Processing image: woods84.jpg\n"
          ]
        },
        {
          "output_type": "stream",
          "name": "stderr",
          "text": [
            " 77%|███████▋  | 131/171 [00:28<00:08,  4.73it/s]"
          ]
        },
        {
          "output_type": "stream",
          "name": "stdout",
          "text": [
            "Processing image: woods142.jpg\n",
            "Processing image: woods138.jpg\n"
          ]
        },
        {
          "output_type": "stream",
          "name": "stderr",
          "text": [
            "\r 77%|███████▋  | 132/171 [00:29<00:08,  4.56it/s]"
          ]
        },
        {
          "output_type": "stream",
          "name": "stdout",
          "text": [
            "Processing image: woods7.jpg\n"
          ]
        },
        {
          "output_type": "stream",
          "name": "stderr",
          "text": [
            "\r 78%|███████▊  | 133/171 [00:29<00:08,  4.65it/s]"
          ]
        },
        {
          "output_type": "stream",
          "name": "stdout",
          "text": [
            "Processing image: woods149.jpg\n"
          ]
        },
        {
          "output_type": "stream",
          "name": "stderr",
          "text": [
            "\r 78%|███████▊  | 134/171 [00:29<00:08,  4.51it/s]"
          ]
        },
        {
          "output_type": "stream",
          "name": "stdout",
          "text": [
            "Processing image: woods137.jpg\n"
          ]
        },
        {
          "output_type": "stream",
          "name": "stderr",
          "text": [
            "\r 79%|███████▉  | 135/171 [00:29<00:08,  4.47it/s]"
          ]
        },
        {
          "output_type": "stream",
          "name": "stdout",
          "text": [
            "Processing image: woods162.jpg\n"
          ]
        },
        {
          "output_type": "stream",
          "name": "stderr",
          "text": [
            "\r 80%|███████▉  | 136/171 [00:29<00:07,  4.59it/s]"
          ]
        },
        {
          "output_type": "stream",
          "name": "stdout",
          "text": [
            "Processing image: woods116.jpg\n"
          ]
        },
        {
          "output_type": "stream",
          "name": "stderr",
          "text": [
            " 81%|████████  | 138/171 [00:30<00:06,  4.85it/s]"
          ]
        },
        {
          "output_type": "stream",
          "name": "stdout",
          "text": [
            "Processing image: woods79.jpg\n",
            "Processing image: woods51.jpg\n"
          ]
        },
        {
          "output_type": "stream",
          "name": "stderr",
          "text": [
            "\r 81%|████████▏ | 139/171 [00:30<00:06,  4.74it/s]"
          ]
        },
        {
          "output_type": "stream",
          "name": "stdout",
          "text": [
            "Processing image: woods151.jpg\n"
          ]
        },
        {
          "output_type": "stream",
          "name": "stderr",
          "text": [
            " 82%|████████▏ | 141/171 [00:31<00:06,  4.61it/s]"
          ]
        },
        {
          "output_type": "stream",
          "name": "stdout",
          "text": [
            "Processing image: woods28.jpg\n",
            "Processing image: woods80.jpg\n"
          ]
        },
        {
          "output_type": "stream",
          "name": "stderr",
          "text": [
            "\r 83%|████████▎ | 142/171 [00:31<00:05,  5.02it/s]"
          ]
        },
        {
          "output_type": "stream",
          "name": "stdout",
          "text": [
            "Processing image: woods50.jpg\n"
          ]
        },
        {
          "output_type": "stream",
          "name": "stderr",
          "text": [
            " 85%|████████▍ | 145/171 [00:31<00:03,  6.73it/s]"
          ]
        },
        {
          "output_type": "stream",
          "name": "stdout",
          "text": [
            "Processing image: woods94.jpg\n",
            "Face not detected in woods94.jpg\n",
            "Processing image: woods88.jpg\n",
            "Processing image: woods57.jpg\n"
          ]
        },
        {
          "output_type": "stream",
          "name": "stderr",
          "text": [
            "\r 85%|████████▌ | 146/171 [00:31<00:03,  6.30it/s]"
          ]
        },
        {
          "output_type": "stream",
          "name": "stdout",
          "text": [
            "Processing image: woods33.jpg\n"
          ]
        },
        {
          "output_type": "stream",
          "name": "stderr",
          "text": [
            " 87%|████████▋ | 148/171 [00:32<00:03,  5.78it/s]"
          ]
        },
        {
          "output_type": "stream",
          "name": "stdout",
          "text": [
            "Processing image: woods163.jpg\n",
            "Processing image: woods161.jpg\n"
          ]
        },
        {
          "output_type": "stream",
          "name": "stderr",
          "text": [
            "\r 87%|████████▋ | 149/171 [00:32<00:03,  5.94it/s]"
          ]
        },
        {
          "output_type": "stream",
          "name": "stdout",
          "text": [
            "Processing image: woods133.jpg\n",
            "Face not detected in woods133.jpg\n",
            "Processing image: woods11.jpg\n"
          ]
        },
        {
          "output_type": "stream",
          "name": "stderr",
          "text": [
            "\r 88%|████████▊ | 151/171 [00:32<00:03,  6.52it/s]"
          ]
        },
        {
          "output_type": "stream",
          "name": "stdout",
          "text": [
            "Processing image: woods36.jpg\n"
          ]
        },
        {
          "output_type": "stream",
          "name": "stderr",
          "text": [
            "\r 89%|████████▉ | 152/171 [00:32<00:03,  5.92it/s]"
          ]
        },
        {
          "output_type": "stream",
          "name": "stdout",
          "text": [
            "Processing image: woods72.jpg\n"
          ]
        },
        {
          "output_type": "stream",
          "name": "stderr",
          "text": [
            "\r 89%|████████▉ | 153/171 [00:33<00:03,  5.62it/s]"
          ]
        },
        {
          "output_type": "stream",
          "name": "stdout",
          "text": [
            "Processing image: woods37.jpg\n"
          ]
        },
        {
          "output_type": "stream",
          "name": "stderr",
          "text": [
            "\r 90%|█████████ | 154/171 [00:33<00:03,  5.37it/s]"
          ]
        },
        {
          "output_type": "stream",
          "name": "stdout",
          "text": [
            "Processing image: woods171.jpg\n"
          ]
        },
        {
          "output_type": "stream",
          "name": "stderr",
          "text": [
            "\r 91%|█████████ | 155/171 [00:33<00:03,  5.06it/s]"
          ]
        },
        {
          "output_type": "stream",
          "name": "stdout",
          "text": [
            "Processing image: woods44.jpg\n"
          ]
        },
        {
          "output_type": "stream",
          "name": "stderr",
          "text": [
            " 92%|█████████▏| 157/171 [00:33<00:02,  5.33it/s]"
          ]
        },
        {
          "output_type": "stream",
          "name": "stdout",
          "text": [
            "Processing image: woods109.jpg\n",
            "Processing image: woods30.jpg\n"
          ]
        },
        {
          "output_type": "stream",
          "name": "stderr",
          "text": [
            " 93%|█████████▎| 159/171 [00:34<00:02,  5.70it/s]"
          ]
        },
        {
          "output_type": "stream",
          "name": "stdout",
          "text": [
            "Processing image: woods111.jpg\n",
            "Processing image: woods139.jpg\n"
          ]
        },
        {
          "output_type": "stream",
          "name": "stderr",
          "text": [
            "\r 94%|█████████▎| 160/171 [00:34<00:01,  5.74it/s]"
          ]
        },
        {
          "output_type": "stream",
          "name": "stdout",
          "text": [
            "Processing image: woods148.jpg\n"
          ]
        },
        {
          "output_type": "stream",
          "name": "stderr",
          "text": [
            " 95%|█████████▍| 162/171 [00:34<00:01,  5.65it/s]"
          ]
        },
        {
          "output_type": "stream",
          "name": "stdout",
          "text": [
            "Processing image: woods152.jpg\n",
            "Processing image: woods113.jpg\n"
          ]
        },
        {
          "output_type": "stream",
          "name": "stderr",
          "text": [
            "\r 95%|█████████▌| 163/171 [00:34<00:01,  5.83it/s]"
          ]
        },
        {
          "output_type": "stream",
          "name": "stdout",
          "text": [
            "Processing image: woods2.jpg\n",
            "Face not detected in woods2.jpg\n",
            "Processing image: woods59.jpg\n"
          ]
        },
        {
          "output_type": "stream",
          "name": "stderr",
          "text": [
            "\r 96%|█████████▋| 165/171 [00:35<00:00,  6.19it/s]"
          ]
        },
        {
          "output_type": "stream",
          "name": "stdout",
          "text": [
            "Processing image: woods101.jpg\n",
            "Face not detected in woods101.jpg\n",
            "Processing image: woods43.jpg\n"
          ]
        },
        {
          "output_type": "stream",
          "name": "stderr",
          "text": [
            "\r 98%|█████████▊| 167/171 [00:35<00:00,  6.48it/s]"
          ]
        },
        {
          "output_type": "stream",
          "name": "stdout",
          "text": [
            "Processing image: woods167.jpg\n"
          ]
        },
        {
          "output_type": "stream",
          "name": "stderr",
          "text": [
            "\r 98%|█████████▊| 168/171 [00:35<00:00,  5.93it/s]"
          ]
        },
        {
          "output_type": "stream",
          "name": "stdout",
          "text": [
            "Processing image: woods42.jpg\n"
          ]
        },
        {
          "output_type": "stream",
          "name": "stderr",
          "text": [
            "\r 99%|█████████▉| 169/171 [00:35<00:00,  5.31it/s]"
          ]
        },
        {
          "output_type": "stream",
          "name": "stdout",
          "text": [
            "Processing image: woods81.jpg\n"
          ]
        },
        {
          "output_type": "stream",
          "name": "stderr",
          "text": [
            "\r 99%|█████████▉| 170/171 [00:36<00:00,  4.87it/s]"
          ]
        },
        {
          "output_type": "stream",
          "name": "stdout",
          "text": [
            "Processing image: woods26.jpg\n"
          ]
        },
        {
          "output_type": "stream",
          "name": "stderr",
          "text": [
            "100%|██████████| 171/171 [00:36<00:00,  4.68it/s]\n"
          ]
        },
        {
          "output_type": "stream",
          "name": "stdout",
          "text": [
            "\n",
            "Processing: maria\n"
          ]
        },
        {
          "output_type": "stream",
          "name": "stderr",
          "text": [
            "\r  0%|          | 0/120 [00:00<?, ?it/s]"
          ]
        },
        {
          "output_type": "stream",
          "name": "stdout",
          "text": [
            "Processing image: woods29.jpg\n"
          ]
        },
        {
          "output_type": "stream",
          "name": "stderr",
          "text": [
            "\r  1%|          | 1/120 [00:00<00:31,  3.78it/s]"
          ]
        },
        {
          "output_type": "stream",
          "name": "stdout",
          "text": [
            "Processing image: woods100.jpg\n"
          ]
        },
        {
          "output_type": "stream",
          "name": "stderr",
          "text": [
            "\r  2%|▏         | 2/120 [00:00<00:29,  3.97it/s]"
          ]
        },
        {
          "output_type": "stream",
          "name": "stdout",
          "text": [
            "Processing image: woods20.jpg\n"
          ]
        },
        {
          "output_type": "stream",
          "name": "stderr",
          "text": [
            "\r  2%|▎         | 3/120 [00:00<00:29,  3.91it/s]"
          ]
        },
        {
          "output_type": "stream",
          "name": "stdout",
          "text": [
            "Processing image: woods34.jpg\n"
          ]
        },
        {
          "output_type": "stream",
          "name": "stderr",
          "text": [
            "\r  3%|▎         | 4/120 [00:01<00:29,  3.90it/s]"
          ]
        },
        {
          "output_type": "stream",
          "name": "stdout",
          "text": [
            "Processing image: woods14.jpg\n"
          ]
        },
        {
          "output_type": "stream",
          "name": "stderr",
          "text": [
            "\r  4%|▍         | 5/120 [00:01<00:27,  4.11it/s]"
          ]
        },
        {
          "output_type": "stream",
          "name": "stdout",
          "text": [
            "Processing image: woods74.jpg\n"
          ]
        },
        {
          "output_type": "stream",
          "name": "stderr",
          "text": [
            "\r  5%|▌         | 6/120 [00:01<00:29,  3.84it/s]"
          ]
        },
        {
          "output_type": "stream",
          "name": "stdout",
          "text": [
            "Processing image: woods61.jpg\n"
          ]
        },
        {
          "output_type": "stream",
          "name": "stderr",
          "text": [
            "\r  6%|▌         | 7/120 [00:01<00:28,  3.99it/s]"
          ]
        },
        {
          "output_type": "stream",
          "name": "stdout",
          "text": [
            "Processing image: woods70.jpg\n"
          ]
        },
        {
          "output_type": "stream",
          "name": "stderr",
          "text": [
            "  8%|▊         | 9/120 [00:02<00:23,  4.77it/s]"
          ]
        },
        {
          "output_type": "stream",
          "name": "stdout",
          "text": [
            "Processing image: woods69.jpg\n",
            "Face not detected in woods69.jpg\n",
            "Processing image: woods4.jpg\n"
          ]
        },
        {
          "output_type": "stream",
          "name": "stderr",
          "text": [
            "  9%|▉         | 11/120 [00:02<00:22,  4.83it/s]"
          ]
        },
        {
          "output_type": "stream",
          "name": "stdout",
          "text": [
            "Processing image: woods9.jpg\n",
            "Processing image: woods13.jpg\n"
          ]
        },
        {
          "output_type": "stream",
          "name": "stderr",
          "text": [
            " 11%|█         | 13/120 [00:02<00:20,  5.27it/s]"
          ]
        },
        {
          "output_type": "stream",
          "name": "stdout",
          "text": [
            "Processing image: woods63.jpg\n",
            "Processing image: woods24.jpg\n"
          ]
        },
        {
          "output_type": "stream",
          "name": "stderr",
          "text": [
            " 12%|█▎        | 15/120 [00:03<00:18,  5.77it/s]"
          ]
        },
        {
          "output_type": "stream",
          "name": "stdout",
          "text": [
            "Processing image: woods85.jpg\n",
            "Processing image: woods49.jpg\n"
          ]
        },
        {
          "output_type": "stream",
          "name": "stderr",
          "text": [
            " 15%|█▌        | 18/120 [00:03<00:14,  7.28it/s]"
          ]
        },
        {
          "output_type": "stream",
          "name": "stdout",
          "text": [
            "Processing image: woods112.jpg\n",
            "Face not detected in woods112.jpg\n",
            "Processing image: woods32.jpg\n",
            "Processing image: woods47.jpg\n"
          ]
        },
        {
          "output_type": "stream",
          "name": "stderr",
          "text": [
            " 17%|█▋        | 20/120 [00:03<00:15,  6.66it/s]"
          ]
        },
        {
          "output_type": "stream",
          "name": "stdout",
          "text": [
            "Processing image: woods91.jpg\n",
            "Processing image: woods108.jpg\n"
          ]
        },
        {
          "output_type": "stream",
          "name": "stderr",
          "text": [
            " 18%|█▊        | 22/120 [00:04<00:15,  6.49it/s]"
          ]
        },
        {
          "output_type": "stream",
          "name": "stdout",
          "text": [
            "Processing image: woods67.jpg\n",
            "Processing image: woods107.jpg\n"
          ]
        },
        {
          "output_type": "stream",
          "name": "stderr",
          "text": [
            " 20%|██        | 24/120 [00:04<00:14,  6.44it/s]"
          ]
        },
        {
          "output_type": "stream",
          "name": "stdout",
          "text": [
            "Processing image: woods25.jpg\n",
            "Processing image: woods114.jpg\n",
            "Face not detected in woods114.jpg\n",
            "Processing image: woods92.jpg\n"
          ]
        },
        {
          "output_type": "stream",
          "name": "stderr",
          "text": [
            " 22%|██▎       | 27/120 [00:04<00:12,  7.36it/s]"
          ]
        },
        {
          "output_type": "stream",
          "name": "stdout",
          "text": [
            "Processing image: woods73.jpg\n",
            "Processing image: woods23.jpg\n"
          ]
        },
        {
          "output_type": "stream",
          "name": "stderr",
          "text": [
            " 24%|██▍       | 29/120 [00:05<00:13,  6.97it/s]"
          ]
        },
        {
          "output_type": "stream",
          "name": "stdout",
          "text": [
            "Processing image: woods89.jpg\n",
            "Processing image: woods96.jpg\n"
          ]
        },
        {
          "output_type": "stream",
          "name": "stderr",
          "text": [
            " 26%|██▌       | 31/120 [00:05<00:14,  6.27it/s]"
          ]
        },
        {
          "output_type": "stream",
          "name": "stdout",
          "text": [
            "Processing image: woods46.jpg\n",
            "Processing image: woods27.jpg\n"
          ]
        },
        {
          "output_type": "stream",
          "name": "stderr",
          "text": [
            " 28%|██▊       | 33/120 [00:05<00:14,  5.91it/s]"
          ]
        },
        {
          "output_type": "stream",
          "name": "stdout",
          "text": [
            "Processing image: woods93.jpg\n",
            "Processing image: woods53.jpg\n"
          ]
        },
        {
          "output_type": "stream",
          "name": "stderr",
          "text": [
            " 29%|██▉       | 35/120 [00:06<00:14,  5.95it/s]"
          ]
        },
        {
          "output_type": "stream",
          "name": "stdout",
          "text": [
            "Processing image: woods54.jpg\n",
            "Processing image: woods87.jpg\n"
          ]
        },
        {
          "output_type": "stream",
          "name": "stderr",
          "text": [
            " 31%|███       | 37/120 [00:06<00:16,  4.99it/s]"
          ]
        },
        {
          "output_type": "stream",
          "name": "stdout",
          "text": [
            "Processing image: woods119.jpg\n",
            "Processing image: woods39.jpg\n"
          ]
        },
        {
          "output_type": "stream",
          "name": "stderr",
          "text": [
            " 32%|███▎      | 39/120 [00:07<00:14,  5.61it/s]"
          ]
        },
        {
          "output_type": "stream",
          "name": "stdout",
          "text": [
            "Processing image: woods106.jpg\n",
            "Processing image: woods110.jpg\n",
            "Face not detected in woods110.jpg\n",
            "Processing image: woods77.jpg\n"
          ]
        },
        {
          "output_type": "stream",
          "name": "stderr",
          "text": [
            "\r 34%|███▍      | 41/120 [00:07<00:10,  7.21it/s]"
          ]
        },
        {
          "output_type": "stream",
          "name": "stdout",
          "text": [
            "Processing image: woods115.jpg\n",
            "Face not detected in woods115.jpg\n",
            "Processing image: woods16.jpg\n"
          ]
        },
        {
          "output_type": "stream",
          "name": "stderr",
          "text": [
            " 37%|███▋      | 44/120 [00:07<00:10,  7.55it/s]"
          ]
        },
        {
          "output_type": "stream",
          "name": "stdout",
          "text": [
            "Processing image: woods75.jpg\n",
            "Processing image: woods65.jpg\n"
          ]
        },
        {
          "output_type": "stream",
          "name": "stderr",
          "text": [
            " 38%|███▊      | 46/120 [00:07<00:10,  6.96it/s]"
          ]
        },
        {
          "output_type": "stream",
          "name": "stdout",
          "text": [
            "Processing image: woods64.jpg\n",
            "Processing image: woods71.jpg\n"
          ]
        },
        {
          "output_type": "stream",
          "name": "stderr",
          "text": [
            " 40%|████      | 48/120 [00:08<00:11,  6.47it/s]"
          ]
        },
        {
          "output_type": "stream",
          "name": "stdout",
          "text": [
            "Processing image: woods68.jpg\n",
            "Processing image: woods55.jpg\n"
          ]
        },
        {
          "output_type": "stream",
          "name": "stderr",
          "text": [
            " 42%|████▏     | 50/120 [00:08<00:11,  6.30it/s]"
          ]
        },
        {
          "output_type": "stream",
          "name": "stdout",
          "text": [
            "Processing image: woods62.jpg\n",
            "Processing image: woods95.jpg\n"
          ]
        },
        {
          "output_type": "stream",
          "name": "stderr",
          "text": [
            " 43%|████▎     | 52/120 [00:08<00:10,  6.26it/s]"
          ]
        },
        {
          "output_type": "stream",
          "name": "stdout",
          "text": [
            "Processing image: woods19.jpg\n",
            "Processing image: woods66.jpg\n"
          ]
        },
        {
          "output_type": "stream",
          "name": "stderr",
          "text": [
            " 45%|████▌     | 54/120 [00:09<00:12,  5.49it/s]"
          ]
        },
        {
          "output_type": "stream",
          "name": "stdout",
          "text": [
            "Processing image: woods48.jpg\n",
            "Processing image: woods12.jpg\n"
          ]
        },
        {
          "output_type": "stream",
          "name": "stderr",
          "text": [
            " 47%|████▋     | 56/120 [00:09<00:11,  5.64it/s]"
          ]
        },
        {
          "output_type": "stream",
          "name": "stdout",
          "text": [
            "Processing image: woods15.jpg\n",
            "Processing image: woods102.jpg\n"
          ]
        },
        {
          "output_type": "stream",
          "name": "stderr",
          "text": [
            " 48%|████▊     | 58/120 [00:10<00:10,  5.75it/s]"
          ]
        },
        {
          "output_type": "stream",
          "name": "stdout",
          "text": [
            "Processing image: woods103.jpg\n",
            "Processing image: woods78.jpg\n"
          ]
        },
        {
          "output_type": "stream",
          "name": "stderr",
          "text": [
            " 50%|█████     | 60/120 [00:10<00:10,  5.95it/s]"
          ]
        },
        {
          "output_type": "stream",
          "name": "stdout",
          "text": [
            "Processing image: woods31.jpg\n",
            "Processing image: woods60.jpg\n"
          ]
        },
        {
          "output_type": "stream",
          "name": "stderr",
          "text": [
            " 52%|█████▏    | 62/120 [00:10<00:10,  5.68it/s]"
          ]
        },
        {
          "output_type": "stream",
          "name": "stdout",
          "text": [
            "Processing image: woods58.jpg\n",
            "Processing image: woods3.jpg\n"
          ]
        },
        {
          "output_type": "stream",
          "name": "stderr",
          "text": [
            " 53%|█████▎    | 64/120 [00:11<00:09,  5.90it/s]"
          ]
        },
        {
          "output_type": "stream",
          "name": "stdout",
          "text": [
            "Processing image: woods1.jpg\n",
            "Face not detected in woods1.jpg\n",
            "Processing image: woods76.jpg\n"
          ]
        },
        {
          "output_type": "stream",
          "name": "stderr",
          "text": [
            " 55%|█████▌    | 66/120 [00:11<00:08,  6.01it/s]"
          ]
        },
        {
          "output_type": "stream",
          "name": "stdout",
          "text": [
            "Processing image: woods52.jpg\n",
            "Processing image: woods90.jpg\n"
          ]
        },
        {
          "output_type": "stream",
          "name": "stderr",
          "text": [
            " 57%|█████▋    | 68/120 [00:11<00:09,  5.67it/s]"
          ]
        },
        {
          "output_type": "stream",
          "name": "stdout",
          "text": [
            "Processing image: woods99.jpg\n"
          ]
        },
        {
          "output_type": "stream",
          "name": "stderr",
          "text": [
            "\r 57%|█████▊    | 69/120 [00:11<00:08,  5.74it/s]"
          ]
        },
        {
          "output_type": "stream",
          "name": "stdout",
          "text": [
            "Processing image: woods98.jpg\n",
            "Processing image: woods35.jpg\n"
          ]
        },
        {
          "output_type": "stream",
          "name": "stderr",
          "text": [
            " 59%|█████▉    | 71/120 [00:12<00:08,  5.77it/s]"
          ]
        },
        {
          "output_type": "stream",
          "name": "stdout",
          "text": [
            "Processing image: woods82.jpg\n",
            "Processing image: woods8.jpg\n"
          ]
        },
        {
          "output_type": "stream",
          "name": "stderr",
          "text": [
            "\r 60%|██████    | 72/120 [00:12<00:08,  5.84it/s]"
          ]
        },
        {
          "output_type": "stream",
          "name": "stdout",
          "text": [
            "Processing image: woods105.jpg\n",
            "Face not detected in woods105.jpg\n",
            "Processing image: woods83.jpg\n"
          ]
        },
        {
          "output_type": "stream",
          "name": "stderr",
          "text": [
            "\r 62%|██████▏   | 74/120 [00:12<00:07,  6.44it/s]"
          ]
        },
        {
          "output_type": "stream",
          "name": "stdout",
          "text": [
            "Processing image: woods6.jpg\n"
          ]
        },
        {
          "output_type": "stream",
          "name": "stderr",
          "text": [
            "\r 62%|██████▎   | 75/120 [00:12<00:07,  5.65it/s]"
          ]
        },
        {
          "output_type": "stream",
          "name": "stdout",
          "text": [
            "Processing image: woods18.jpg\n"
          ]
        },
        {
          "output_type": "stream",
          "name": "stderr",
          "text": [
            "\r 63%|██████▎   | 76/120 [00:13<00:08,  5.16it/s]"
          ]
        },
        {
          "output_type": "stream",
          "name": "stdout",
          "text": [
            "Processing image: woods120.jpg\n"
          ]
        },
        {
          "output_type": "stream",
          "name": "stderr",
          "text": [
            "\r 64%|██████▍   | 77/120 [00:13<00:09,  4.71it/s]"
          ]
        },
        {
          "output_type": "stream",
          "name": "stdout",
          "text": [
            "Processing image: woods21.jpg\n"
          ]
        },
        {
          "output_type": "stream",
          "name": "stderr",
          "text": [
            "\r 65%|██████▌   | 78/120 [00:13<00:09,  4.40it/s]"
          ]
        },
        {
          "output_type": "stream",
          "name": "stdout",
          "text": [
            "Processing image: woods38.jpg\n"
          ]
        },
        {
          "output_type": "stream",
          "name": "stderr",
          "text": [
            "\r 66%|██████▌   | 79/120 [00:13<00:09,  4.17it/s]"
          ]
        },
        {
          "output_type": "stream",
          "name": "stdout",
          "text": [
            "Processing image: woods5.jpg\n"
          ]
        },
        {
          "output_type": "stream",
          "name": "stderr",
          "text": [
            "\r 67%|██████▋   | 80/120 [00:14<00:09,  4.04it/s]"
          ]
        },
        {
          "output_type": "stream",
          "name": "stdout",
          "text": [
            "Processing image: woods118.jpg\n"
          ]
        },
        {
          "output_type": "stream",
          "name": "stderr",
          "text": [
            "\r 68%|██████▊   | 81/120 [00:14<00:09,  4.25it/s]"
          ]
        },
        {
          "output_type": "stream",
          "name": "stdout",
          "text": [
            "Processing image: woods10.jpg\n"
          ]
        },
        {
          "output_type": "stream",
          "name": "stderr",
          "text": [
            "\r 68%|██████▊   | 82/120 [00:14<00:09,  4.14it/s]"
          ]
        },
        {
          "output_type": "stream",
          "name": "stdout",
          "text": [
            "Processing image: woods17.jpg\n"
          ]
        },
        {
          "output_type": "stream",
          "name": "stderr",
          "text": [
            " 70%|███████   | 84/120 [00:15<00:08,  4.14it/s]"
          ]
        },
        {
          "output_type": "stream",
          "name": "stdout",
          "text": [
            "Processing image: woods104.jpg\n",
            "Processing image: woods97.jpg\n"
          ]
        },
        {
          "output_type": "stream",
          "name": "stderr",
          "text": [
            " 72%|███████▏  | 86/120 [00:15<00:07,  4.78it/s]"
          ]
        },
        {
          "output_type": "stream",
          "name": "stdout",
          "text": [
            "Processing image: woods86.jpg\n",
            "Processing image: woods22.jpg\n"
          ]
        },
        {
          "output_type": "stream",
          "name": "stderr",
          "text": [
            " 73%|███████▎  | 88/120 [00:15<00:06,  5.31it/s]"
          ]
        },
        {
          "output_type": "stream",
          "name": "stdout",
          "text": [
            "Processing image: woods41.jpg\n",
            "Processing image: woods56.jpg\n"
          ]
        },
        {
          "output_type": "stream",
          "name": "stderr",
          "text": [
            " 75%|███████▌  | 90/120 [00:16<00:05,  5.45it/s]"
          ]
        },
        {
          "output_type": "stream",
          "name": "stdout",
          "text": [
            "Processing image: woods45.jpg\n",
            "Processing image: woods117.jpg\n"
          ]
        },
        {
          "output_type": "stream",
          "name": "stderr",
          "text": [
            "\r 77%|███████▋  | 92/120 [00:16<00:03,  7.18it/s]"
          ]
        },
        {
          "output_type": "stream",
          "name": "stdout",
          "text": [
            "Face not detected in woods117.jpg\n",
            "Processing image: woods40.jpg\n",
            "Processing image: woods84.jpg\n"
          ]
        },
        {
          "output_type": "stream",
          "name": "stderr",
          "text": [
            " 78%|███████▊  | 94/120 [00:16<00:03,  6.72it/s]"
          ]
        },
        {
          "output_type": "stream",
          "name": "stdout",
          "text": [
            "Processing image: woods7.jpg\n",
            "Processing image: woods116.jpg\n",
            "Face not detected in woods116.jpg\n",
            "Processing image: woods79.jpg\n"
          ]
        },
        {
          "output_type": "stream",
          "name": "stderr",
          "text": [
            " 81%|████████  | 97/120 [00:17<00:03,  7.31it/s]"
          ]
        },
        {
          "output_type": "stream",
          "name": "stdout",
          "text": [
            "Processing image: woods51.jpg\n",
            "Processing image: woods28.jpg\n"
          ]
        },
        {
          "output_type": "stream",
          "name": "stderr",
          "text": [
            "\r 82%|████████▏ | 98/120 [00:17<00:03,  6.30it/s]"
          ]
        },
        {
          "output_type": "stream",
          "name": "stdout",
          "text": [
            "Processing image: woods80.jpg\n"
          ]
        },
        {
          "output_type": "stream",
          "name": "stderr",
          "text": [
            " 83%|████████▎ | 100/120 [00:17<00:03,  5.76it/s]"
          ]
        },
        {
          "output_type": "stream",
          "name": "stdout",
          "text": [
            "Processing image: woods50.jpg\n",
            "Processing image: woods94.jpg\n"
          ]
        },
        {
          "output_type": "stream",
          "name": "stderr",
          "text": [
            " 85%|████████▌ | 102/120 [00:18<00:03,  5.65it/s]"
          ]
        },
        {
          "output_type": "stream",
          "name": "stdout",
          "text": [
            "Processing image: woods88.jpg\n",
            "Processing image: woods57.jpg\n"
          ]
        },
        {
          "output_type": "stream",
          "name": "stderr",
          "text": [
            " 87%|████████▋ | 104/120 [00:18<00:02,  6.00it/s]"
          ]
        },
        {
          "output_type": "stream",
          "name": "stdout",
          "text": [
            "Processing image: woods33.jpg\n",
            "Processing image: woods11.jpg\n"
          ]
        },
        {
          "output_type": "stream",
          "name": "stderr",
          "text": [
            " 88%|████████▊ | 106/120 [00:18<00:02,  5.82it/s]"
          ]
        },
        {
          "output_type": "stream",
          "name": "stdout",
          "text": [
            "Processing image: woods36.jpg\n",
            "Processing image: woods72.jpg\n"
          ]
        },
        {
          "output_type": "stream",
          "name": "stderr",
          "text": [
            " 90%|█████████ | 108/120 [00:19<00:02,  5.63it/s]"
          ]
        },
        {
          "output_type": "stream",
          "name": "stdout",
          "text": [
            "Processing image: woods37.jpg\n",
            "Processing image: woods44.jpg\n"
          ]
        },
        {
          "output_type": "stream",
          "name": "stderr",
          "text": [
            " 92%|█████████▎| 111/120 [00:19<00:01,  7.43it/s]"
          ]
        },
        {
          "output_type": "stream",
          "name": "stdout",
          "text": [
            "Processing image: woods109.jpg\n",
            "Face not detected in woods109.jpg\n",
            "Processing image: woods30.jpg\n",
            "Processing image: woods111.jpg\n"
          ]
        },
        {
          "output_type": "stream",
          "name": "stderr",
          "text": [
            " 94%|█████████▍| 113/120 [00:19<00:00,  7.49it/s]"
          ]
        },
        {
          "output_type": "stream",
          "name": "stdout",
          "text": [
            "Processing image: woods113.jpg\n",
            "Processing image: woods2.jpg\n"
          ]
        },
        {
          "output_type": "stream",
          "name": "stderr",
          "text": [
            " 96%|█████████▌| 115/120 [00:20<00:00,  6.59it/s]"
          ]
        },
        {
          "output_type": "stream",
          "name": "stdout",
          "text": [
            "Processing image: woods59.jpg\n",
            "Processing image: woods101.jpg\n"
          ]
        },
        {
          "output_type": "stream",
          "name": "stderr",
          "text": [
            " 98%|█████████▊| 117/120 [00:20<00:00,  6.47it/s]"
          ]
        },
        {
          "output_type": "stream",
          "name": "stdout",
          "text": [
            "Processing image: woods43.jpg\n",
            "Processing image: woods42.jpg\n"
          ]
        },
        {
          "output_type": "stream",
          "name": "stderr",
          "text": [
            " 99%|█████████▉| 119/120 [00:20<00:00,  5.96it/s]"
          ]
        },
        {
          "output_type": "stream",
          "name": "stdout",
          "text": [
            "Processing image: woods81.jpg\n",
            "Processing image: woods26.jpg\n"
          ]
        },
        {
          "output_type": "stream",
          "name": "stderr",
          "text": [
            "100%|██████████| 120/120 [00:20<00:00,  5.72it/s]\n"
          ]
        },
        {
          "output_type": "stream",
          "name": "stdout",
          "text": [
            "\n",
            "Processing: kohli\n"
          ]
        },
        {
          "output_type": "stream",
          "name": "stderr",
          "text": [
            "\r  0%|          | 0/121 [00:00<?, ?it/s]"
          ]
        },
        {
          "output_type": "stream",
          "name": "stdout",
          "text": [
            "Processing image: woods29.jpg\n"
          ]
        },
        {
          "output_type": "stream",
          "name": "stderr",
          "text": [
            "\r  1%|          | 1/121 [00:00<00:26,  4.51it/s]"
          ]
        },
        {
          "output_type": "stream",
          "name": "stdout",
          "text": [
            "Processing image: woods100.jpg\n"
          ]
        },
        {
          "output_type": "stream",
          "name": "stderr",
          "text": [
            "  2%|▏         | 3/121 [00:00<00:24,  4.92it/s]"
          ]
        },
        {
          "output_type": "stream",
          "name": "stdout",
          "text": [
            "Processing image: woods20.jpg\n",
            "Processing image: woods34.jpg\n"
          ]
        },
        {
          "output_type": "stream",
          "name": "stderr",
          "text": [
            "\r  3%|▎         | 4/121 [00:00<00:23,  5.03it/s]"
          ]
        },
        {
          "output_type": "stream",
          "name": "stdout",
          "text": [
            "Processing image: woods14.jpg\n"
          ]
        },
        {
          "output_type": "stream",
          "name": "stderr",
          "text": [
            "  5%|▍         | 6/121 [00:01<00:22,  5.08it/s]"
          ]
        },
        {
          "output_type": "stream",
          "name": "stdout",
          "text": [
            "Processing image: woods74.jpg\n",
            "Processing image: woods61.jpg\n"
          ]
        },
        {
          "output_type": "stream",
          "name": "stderr",
          "text": [
            "  7%|▋         | 8/121 [00:01<00:19,  5.93it/s]"
          ]
        },
        {
          "output_type": "stream",
          "name": "stdout",
          "text": [
            "Processing image: woods70.jpg\n",
            "Processing image: woods69.jpg\n"
          ]
        },
        {
          "output_type": "stream",
          "name": "stderr",
          "text": [
            "\r  7%|▋         | 9/121 [00:01<00:18,  6.19it/s]"
          ]
        },
        {
          "output_type": "stream",
          "name": "stdout",
          "text": [
            "Processing image: woods4.jpg\n"
          ]
        },
        {
          "output_type": "stream",
          "name": "stderr",
          "text": [
            "  9%|▉         | 11/121 [00:02<00:20,  5.47it/s]"
          ]
        },
        {
          "output_type": "stream",
          "name": "stdout",
          "text": [
            "Processing image: woods9.jpg\n",
            "Processing image: woods13.jpg\n"
          ]
        },
        {
          "output_type": "stream",
          "name": "stderr",
          "text": [
            " 11%|█         | 13/121 [00:02<00:17,  6.18it/s]"
          ]
        },
        {
          "output_type": "stream",
          "name": "stdout",
          "text": [
            "Processing image: woods63.jpg\n",
            "Processing image: woods24.jpg\n"
          ]
        },
        {
          "output_type": "stream",
          "name": "stderr",
          "text": [
            " 12%|█▏        | 15/121 [00:02<00:16,  6.26it/s]"
          ]
        },
        {
          "output_type": "stream",
          "name": "stdout",
          "text": [
            "Processing image: woods85.jpg\n",
            "Processing image: woods49.jpg\n"
          ]
        },
        {
          "output_type": "stream",
          "name": "stderr",
          "text": [
            " 14%|█▍        | 17/121 [00:03<00:17,  5.99it/s]"
          ]
        },
        {
          "output_type": "stream",
          "name": "stdout",
          "text": [
            "Face not detected in woods49.jpg\n",
            "Processing image: woods112.jpg\n",
            "Processing image: woods32.jpg\n"
          ]
        },
        {
          "output_type": "stream",
          "name": "stderr",
          "text": [
            " 16%|█▌        | 19/121 [00:03<00:19,  5.31it/s]"
          ]
        },
        {
          "output_type": "stream",
          "name": "stdout",
          "text": [
            "Processing image: woods47.jpg\n",
            "Processing image: woods91.jpg\n"
          ]
        },
        {
          "output_type": "stream",
          "name": "stderr",
          "text": [
            " 17%|█▋        | 21/121 [00:03<00:19,  5.22it/s]"
          ]
        },
        {
          "output_type": "stream",
          "name": "stdout",
          "text": [
            "Processing image: woods108.jpg\n",
            "Processing image: woods67.jpg\n"
          ]
        },
        {
          "output_type": "stream",
          "name": "stderr",
          "text": [
            "\r 18%|█▊        | 22/121 [00:03<00:17,  5.55it/s]"
          ]
        },
        {
          "output_type": "stream",
          "name": "stdout",
          "text": [
            "Processing image: woods107.jpg\n"
          ]
        },
        {
          "output_type": "stream",
          "name": "stderr",
          "text": [
            "\r 19%|█▉        | 23/121 [00:04<00:19,  5.13it/s]"
          ]
        },
        {
          "output_type": "stream",
          "name": "stdout",
          "text": [
            "Processing image: woods25.jpg\n"
          ]
        },
        {
          "output_type": "stream",
          "name": "stderr",
          "text": [
            "\r 20%|█▉        | 24/121 [00:04<00:22,  4.38it/s]"
          ]
        },
        {
          "output_type": "stream",
          "name": "stdout",
          "text": [
            "Processing image: woods114.jpg\n"
          ]
        },
        {
          "output_type": "stream",
          "name": "stderr",
          "text": [
            "\r 21%|██        | 25/121 [00:04<00:23,  4.02it/s]"
          ]
        },
        {
          "output_type": "stream",
          "name": "stdout",
          "text": [
            "Processing image: woods92.jpg\n"
          ]
        },
        {
          "output_type": "stream",
          "name": "stderr",
          "text": [
            "\r 21%|██▏       | 26/121 [00:05<00:22,  4.19it/s]"
          ]
        },
        {
          "output_type": "stream",
          "name": "stdout",
          "text": [
            "Processing image: woods73.jpg\n"
          ]
        },
        {
          "output_type": "stream",
          "name": "stderr",
          "text": [
            "\r 22%|██▏       | 27/121 [00:05<00:25,  3.70it/s]"
          ]
        },
        {
          "output_type": "stream",
          "name": "stdout",
          "text": [
            "Processing image: woods23.jpg\n"
          ]
        },
        {
          "output_type": "stream",
          "name": "stderr",
          "text": [
            "\r 23%|██▎       | 28/121 [00:05<00:25,  3.70it/s]"
          ]
        },
        {
          "output_type": "stream",
          "name": "stdout",
          "text": [
            "Processing image: woods89.jpg\n"
          ]
        },
        {
          "output_type": "stream",
          "name": "stderr",
          "text": [
            "\r 24%|██▍       | 29/121 [00:05<00:25,  3.54it/s]"
          ]
        },
        {
          "output_type": "stream",
          "name": "stdout",
          "text": [
            "Processing image: woods96.jpg\n"
          ]
        },
        {
          "output_type": "stream",
          "name": "stderr",
          "text": [
            "\r 25%|██▍       | 30/121 [00:06<00:24,  3.68it/s]"
          ]
        },
        {
          "output_type": "stream",
          "name": "stdout",
          "text": [
            "Processing image: woods46.jpg\n"
          ]
        },
        {
          "output_type": "stream",
          "name": "stderr",
          "text": [
            "\r 26%|██▌       | 31/121 [00:06<00:23,  3.90it/s]"
          ]
        },
        {
          "output_type": "stream",
          "name": "stdout",
          "text": [
            "Processing image: woods27.jpg\n"
          ]
        },
        {
          "output_type": "stream",
          "name": "stderr",
          "text": [
            "\r 26%|██▋       | 32/121 [00:06<00:22,  3.95it/s]"
          ]
        },
        {
          "output_type": "stream",
          "name": "stdout",
          "text": [
            "Processing image: woods93.jpg\n"
          ]
        },
        {
          "output_type": "stream",
          "name": "stderr",
          "text": [
            "\r 27%|██▋       | 33/121 [00:06<00:21,  4.10it/s]"
          ]
        },
        {
          "output_type": "stream",
          "name": "stdout",
          "text": [
            "Processing image: woods53.jpg\n"
          ]
        },
        {
          "output_type": "stream",
          "name": "stderr",
          "text": [
            " 29%|██▉       | 35/121 [00:07<00:20,  4.17it/s]"
          ]
        },
        {
          "output_type": "stream",
          "name": "stdout",
          "text": [
            "Processing image: woods54.jpg\n",
            "Processing image: woods87.jpg\n"
          ]
        },
        {
          "output_type": "stream",
          "name": "stderr",
          "text": [
            " 31%|███       | 37/121 [00:07<00:18,  4.65it/s]"
          ]
        },
        {
          "output_type": "stream",
          "name": "stdout",
          "text": [
            "Processing image: woods119.jpg\n",
            "Processing image: woods39.jpg\n"
          ]
        },
        {
          "output_type": "stream",
          "name": "stderr",
          "text": [
            "\r 31%|███▏      | 38/121 [00:07<00:17,  4.84it/s]"
          ]
        },
        {
          "output_type": "stream",
          "name": "stdout",
          "text": [
            "Processing image: woods106.jpg\n"
          ]
        },
        {
          "output_type": "stream",
          "name": "stderr",
          "text": [
            "\r 32%|███▏      | 39/121 [00:08<00:17,  4.58it/s]"
          ]
        },
        {
          "output_type": "stream",
          "name": "stdout",
          "text": [
            "Processing image: woods110.jpg\n"
          ]
        },
        {
          "output_type": "stream",
          "name": "stderr",
          "text": [
            " 34%|███▍      | 41/121 [00:08<00:16,  4.89it/s]"
          ]
        },
        {
          "output_type": "stream",
          "name": "stdout",
          "text": [
            "Processing image: woods77.jpg\n",
            "Processing image: woods115.jpg\n"
          ]
        },
        {
          "output_type": "stream",
          "name": "stderr",
          "text": [
            "\r 35%|███▍      | 42/121 [00:08<00:15,  5.07it/s]"
          ]
        },
        {
          "output_type": "stream",
          "name": "stdout",
          "text": [
            "Processing image: woods16.jpg\n"
          ]
        },
        {
          "output_type": "stream",
          "name": "stderr",
          "text": [
            " 36%|███▋      | 44/121 [00:09<00:14,  5.32it/s]"
          ]
        },
        {
          "output_type": "stream",
          "name": "stdout",
          "text": [
            "Processing image: woods75.jpg\n",
            "Processing image: woods65.jpg\n"
          ]
        },
        {
          "output_type": "stream",
          "name": "stderr",
          "text": [
            " 38%|███▊      | 46/121 [00:09<00:14,  5.18it/s]"
          ]
        },
        {
          "output_type": "stream",
          "name": "stdout",
          "text": [
            "Processing image: woods64.jpg\n",
            "Processing image: woods71.jpg\n",
            "Face not detected in woods71.jpg\n",
            "Processing image: woods68.jpg\n"
          ]
        },
        {
          "output_type": "stream",
          "name": "stderr",
          "text": [
            " 40%|████      | 49/121 [00:09<00:11,  6.47it/s]"
          ]
        },
        {
          "output_type": "stream",
          "name": "stdout",
          "text": [
            "Processing image: woods55.jpg\n",
            "Processing image: woods62.jpg\n",
            "Face not detected in woods62.jpg\n",
            "Processing image: woods95.jpg\n"
          ]
        },
        {
          "output_type": "stream",
          "name": "stderr",
          "text": [
            "\r 42%|████▏     | 51/121 [00:10<00:09,  7.15it/s]"
          ]
        },
        {
          "output_type": "stream",
          "name": "stdout",
          "text": [
            "Processing image: woods19.jpg\n"
          ]
        },
        {
          "output_type": "stream",
          "name": "stderr",
          "text": [
            " 45%|████▍     | 54/121 [00:10<00:09,  7.33it/s]"
          ]
        },
        {
          "output_type": "stream",
          "name": "stdout",
          "text": [
            "Processing image: woods66.jpg\n",
            "Face not detected in woods66.jpg\n",
            "Processing image: woods48.jpg\n",
            "Processing image: woods12.jpg\n"
          ]
        },
        {
          "output_type": "stream",
          "name": "stderr",
          "text": [
            " 46%|████▋     | 56/121 [00:10<00:09,  6.73it/s]"
          ]
        },
        {
          "output_type": "stream",
          "name": "stdout",
          "text": [
            "Processing image: woods15.jpg\n",
            "Processing image: woods102.jpg\n"
          ]
        },
        {
          "output_type": "stream",
          "name": "stderr",
          "text": [
            "\r 47%|████▋     | 57/121 [00:11<00:09,  6.48it/s]"
          ]
        },
        {
          "output_type": "stream",
          "name": "stdout",
          "text": [
            "Processing image: woods103.jpg\n"
          ]
        },
        {
          "output_type": "stream",
          "name": "stderr",
          "text": [
            "\r 48%|████▊     | 58/121 [00:11<00:10,  5.80it/s]"
          ]
        },
        {
          "output_type": "stream",
          "name": "stdout",
          "text": [
            "Processing image: woods78.jpg\n"
          ]
        },
        {
          "output_type": "stream",
          "name": "stderr",
          "text": [
            " 50%|████▉     | 60/121 [00:11<00:11,  5.17it/s]"
          ]
        },
        {
          "output_type": "stream",
          "name": "stdout",
          "text": [
            "Processing image: woods31.jpg\n",
            "Processing image: woods60.jpg\n"
          ]
        },
        {
          "output_type": "stream",
          "name": "stderr",
          "text": [
            "\r 50%|█████     | 61/121 [00:11<00:11,  5.38it/s]"
          ]
        },
        {
          "output_type": "stream",
          "name": "stdout",
          "text": [
            "Processing image: woods58.jpg\n"
          ]
        },
        {
          "output_type": "stream",
          "name": "stderr",
          "text": [
            " 53%|█████▎    | 64/121 [00:12<00:09,  6.13it/s]"
          ]
        },
        {
          "output_type": "stream",
          "name": "stdout",
          "text": [
            "Processing image: woods3.jpg\n",
            "Face not detected in woods3.jpg\n",
            "Processing image: woods1.jpg\n",
            "Face not detected in woods1.jpg\n",
            "Processing image: woods76.jpg\n"
          ]
        },
        {
          "output_type": "stream",
          "name": "stderr",
          "text": [
            " 55%|█████▍    | 66/121 [00:12<00:09,  5.81it/s]"
          ]
        },
        {
          "output_type": "stream",
          "name": "stdout",
          "text": [
            "Processing image: woods52.jpg\n",
            "Processing image: woods90.jpg\n"
          ]
        },
        {
          "output_type": "stream",
          "name": "stderr",
          "text": [
            " 56%|█████▌    | 68/121 [00:13<00:10,  5.11it/s]"
          ]
        },
        {
          "output_type": "stream",
          "name": "stdout",
          "text": [
            "Processing image: woods99.jpg\n",
            "Processing image: woods121.jpg\n"
          ]
        },
        {
          "output_type": "stream",
          "name": "stderr",
          "text": [
            "\r 57%|█████▋    | 69/121 [00:13<00:10,  5.05it/s]"
          ]
        },
        {
          "output_type": "stream",
          "name": "stdout",
          "text": [
            "Processing image: woods98.jpg\n"
          ]
        },
        {
          "output_type": "stream",
          "name": "stderr",
          "text": [
            "\r 58%|█████▊    | 70/121 [00:13<00:10,  4.93it/s]"
          ]
        },
        {
          "output_type": "stream",
          "name": "stdout",
          "text": [
            "Processing image: woods35.jpg\n"
          ]
        },
        {
          "output_type": "stream",
          "name": "stderr",
          "text": [
            "\r 59%|█████▊    | 71/121 [00:13<00:10,  4.80it/s]"
          ]
        },
        {
          "output_type": "stream",
          "name": "stdout",
          "text": [
            "Processing image: woods82.jpg\n"
          ]
        },
        {
          "output_type": "stream",
          "name": "stderr",
          "text": [
            "\r 60%|█████▉    | 72/121 [00:14<00:10,  4.50it/s]"
          ]
        },
        {
          "output_type": "stream",
          "name": "stdout",
          "text": [
            "Processing image: woods8.jpg\n"
          ]
        },
        {
          "output_type": "stream",
          "name": "stderr",
          "text": [
            " 61%|██████    | 74/121 [00:14<00:09,  4.74it/s]"
          ]
        },
        {
          "output_type": "stream",
          "name": "stdout",
          "text": [
            "Processing image: woods105.jpg\n",
            "Processing image: woods83.jpg\n"
          ]
        },
        {
          "output_type": "stream",
          "name": "stderr",
          "text": [
            "\r 63%|██████▎   | 76/121 [00:14<00:07,  5.99it/s]"
          ]
        },
        {
          "output_type": "stream",
          "name": "stdout",
          "text": [
            "Face not detected in woods83.jpg\n",
            "Processing image: woods6.jpg\n",
            "Processing image: woods18.jpg\n"
          ]
        },
        {
          "output_type": "stream",
          "name": "stderr",
          "text": [
            " 64%|██████▍   | 78/121 [00:15<00:07,  5.52it/s]"
          ]
        },
        {
          "output_type": "stream",
          "name": "stdout",
          "text": [
            "Processing image: woods120.jpg\n",
            "Processing image: woods21.jpg\n"
          ]
        },
        {
          "output_type": "stream",
          "name": "stderr",
          "text": [
            " 66%|██████▌   | 80/121 [00:15<00:07,  5.44it/s]"
          ]
        },
        {
          "output_type": "stream",
          "name": "stdout",
          "text": [
            "Processing image: woods38.jpg\n",
            "Processing image: woods5.jpg\n"
          ]
        },
        {
          "output_type": "stream",
          "name": "stderr",
          "text": [
            " 68%|██████▊   | 82/121 [00:15<00:07,  5.33it/s]"
          ]
        },
        {
          "output_type": "stream",
          "name": "stdout",
          "text": [
            "Processing image: woods118.jpg\n",
            "Processing image: woods10.jpg\n"
          ]
        },
        {
          "output_type": "stream",
          "name": "stderr",
          "text": [
            "\r 69%|██████▊   | 83/121 [00:16<00:08,  4.28it/s]"
          ]
        },
        {
          "output_type": "stream",
          "name": "stdout",
          "text": [
            "Processing image: woods17.jpg\n"
          ]
        },
        {
          "output_type": "stream",
          "name": "stderr",
          "text": [
            " 70%|███████   | 85/121 [00:16<00:07,  4.88it/s]"
          ]
        },
        {
          "output_type": "stream",
          "name": "stdout",
          "text": [
            "Processing image: woods104.jpg\n",
            "Processing image: woods97.jpg\n"
          ]
        },
        {
          "output_type": "stream",
          "name": "stderr",
          "text": [
            "\r 71%|███████   | 86/121 [00:16<00:07,  4.73it/s]"
          ]
        },
        {
          "output_type": "stream",
          "name": "stdout",
          "text": [
            "Processing image: woods86.jpg\n"
          ]
        },
        {
          "output_type": "stream",
          "name": "stderr",
          "text": [
            "\r 72%|███████▏  | 87/121 [00:17<00:07,  4.25it/s]"
          ]
        },
        {
          "output_type": "stream",
          "name": "stdout",
          "text": [
            "Processing image: woods22.jpg\n"
          ]
        },
        {
          "output_type": "stream",
          "name": "stderr",
          "text": [
            "\r 73%|███████▎  | 88/121 [00:17<00:08,  3.71it/s]"
          ]
        },
        {
          "output_type": "stream",
          "name": "stdout",
          "text": [
            "Processing image: woods41.jpg\n"
          ]
        },
        {
          "output_type": "stream",
          "name": "stderr",
          "text": [
            "\r 74%|███████▎  | 89/121 [00:17<00:08,  3.61it/s]"
          ]
        },
        {
          "output_type": "stream",
          "name": "stdout",
          "text": [
            "Processing image: woods56.jpg\n"
          ]
        },
        {
          "output_type": "stream",
          "name": "stderr",
          "text": [
            "\r 74%|███████▍  | 90/121 [00:18<00:09,  3.43it/s]"
          ]
        },
        {
          "output_type": "stream",
          "name": "stdout",
          "text": [
            "Processing image: woods45.jpg\n"
          ]
        },
        {
          "output_type": "stream",
          "name": "stderr",
          "text": [
            "\r 75%|███████▌  | 91/121 [00:18<00:07,  3.76it/s]"
          ]
        },
        {
          "output_type": "stream",
          "name": "stdout",
          "text": [
            "Processing image: woods117.jpg\n"
          ]
        },
        {
          "output_type": "stream",
          "name": "stderr",
          "text": [
            "\r 76%|███████▌  | 92/121 [00:18<00:08,  3.43it/s]"
          ]
        },
        {
          "output_type": "stream",
          "name": "stdout",
          "text": [
            "Processing image: woods40.jpg\n",
            "Face not detected in woods40.jpg\n",
            "Processing image: woods84.jpg\n"
          ]
        },
        {
          "output_type": "stream",
          "name": "stderr",
          "text": [
            "\r 78%|███████▊  | 94/121 [00:19<00:06,  4.42it/s]"
          ]
        },
        {
          "output_type": "stream",
          "name": "stdout",
          "text": [
            "Processing image: woods7.jpg\n"
          ]
        },
        {
          "output_type": "stream",
          "name": "stderr",
          "text": [
            "\r 79%|███████▊  | 95/121 [00:19<00:06,  4.20it/s]"
          ]
        },
        {
          "output_type": "stream",
          "name": "stdout",
          "text": [
            "Processing image: woods116.jpg\n"
          ]
        },
        {
          "output_type": "stream",
          "name": "stderr",
          "text": [
            "\r 79%|███████▉  | 96/121 [00:19<00:06,  4.11it/s]"
          ]
        },
        {
          "output_type": "stream",
          "name": "stdout",
          "text": [
            "Processing image: woods79.jpg\n"
          ]
        },
        {
          "output_type": "stream",
          "name": "stderr",
          "text": [
            "\r 80%|████████  | 97/121 [00:19<00:06,  3.98it/s]"
          ]
        },
        {
          "output_type": "stream",
          "name": "stdout",
          "text": [
            "Processing image: woods51.jpg\n"
          ]
        },
        {
          "output_type": "stream",
          "name": "stderr",
          "text": [
            " 82%|████████▏ | 99/121 [00:20<00:05,  4.26it/s]"
          ]
        },
        {
          "output_type": "stream",
          "name": "stdout",
          "text": [
            "Processing image: woods28.jpg\n",
            "Processing image: woods80.jpg\n"
          ]
        },
        {
          "output_type": "stream",
          "name": "stderr",
          "text": [
            " 83%|████████▎ | 101/121 [00:20<00:04,  4.64it/s]"
          ]
        },
        {
          "output_type": "stream",
          "name": "stdout",
          "text": [
            "Processing image: woods50.jpg\n",
            "Processing image: woods94.jpg\n"
          ]
        },
        {
          "output_type": "stream",
          "name": "stderr",
          "text": [
            " 85%|████████▌ | 103/121 [00:21<00:03,  4.89it/s]"
          ]
        },
        {
          "output_type": "stream",
          "name": "stdout",
          "text": [
            "Processing image: woods88.jpg\n",
            "Processing image: woods57.jpg\n"
          ]
        },
        {
          "output_type": "stream",
          "name": "stderr",
          "text": [
            " 87%|████████▋ | 105/121 [00:21<00:03,  5.05it/s]"
          ]
        },
        {
          "output_type": "stream",
          "name": "stdout",
          "text": [
            "Processing image: woods33.jpg\n",
            "Processing image: woods11.jpg\n"
          ]
        },
        {
          "output_type": "stream",
          "name": "stderr",
          "text": [
            " 88%|████████▊ | 107/121 [00:21<00:02,  5.75it/s]"
          ]
        },
        {
          "output_type": "stream",
          "name": "stdout",
          "text": [
            "Processing image: woods36.jpg\n",
            "Processing image: woods72.jpg\n"
          ]
        },
        {
          "output_type": "stream",
          "name": "stderr",
          "text": [
            "\r 89%|████████▉ | 108/121 [00:21<00:02,  5.74it/s]"
          ]
        },
        {
          "output_type": "stream",
          "name": "stdout",
          "text": [
            "Processing image: woods37.jpg\n"
          ]
        },
        {
          "output_type": "stream",
          "name": "stderr",
          "text": [
            " 91%|█████████ | 110/121 [00:22<00:01,  5.84it/s]"
          ]
        },
        {
          "output_type": "stream",
          "name": "stdout",
          "text": [
            "Processing image: woods44.jpg\n",
            "Processing image: woods109.jpg\n"
          ]
        },
        {
          "output_type": "stream",
          "name": "stderr",
          "text": [
            "\r 92%|█████████▏| 111/121 [00:22<00:01,  5.73it/s]"
          ]
        },
        {
          "output_type": "stream",
          "name": "stdout",
          "text": [
            "Processing image: woods30.jpg\n"
          ]
        },
        {
          "output_type": "stream",
          "name": "stderr",
          "text": [
            " 93%|█████████▎| 113/121 [00:22<00:01,  5.37it/s]"
          ]
        },
        {
          "output_type": "stream",
          "name": "stdout",
          "text": [
            "Processing image: woods111.jpg\n",
            "Processing image: woods113.jpg\n"
          ]
        },
        {
          "output_type": "stream",
          "name": "stderr",
          "text": [
            " 95%|█████████▌| 115/121 [00:23<00:01,  5.53it/s]"
          ]
        },
        {
          "output_type": "stream",
          "name": "stdout",
          "text": [
            "Processing image: woods2.jpg\n",
            "Processing image: woods59.jpg\n"
          ]
        },
        {
          "output_type": "stream",
          "name": "stderr",
          "text": [
            " 97%|█████████▋| 117/121 [00:23<00:00,  5.61it/s]"
          ]
        },
        {
          "output_type": "stream",
          "name": "stdout",
          "text": [
            "Processing image: woods101.jpg\n",
            "Processing image: woods43.jpg\n"
          ]
        },
        {
          "output_type": "stream",
          "name": "stderr",
          "text": [
            " 98%|█████████▊| 119/121 [00:23<00:00,  6.18it/s]"
          ]
        },
        {
          "output_type": "stream",
          "name": "stdout",
          "text": [
            "Processing image: woods42.jpg\n",
            "Processing image: woods81.jpg\n"
          ]
        },
        {
          "output_type": "stream",
          "name": "stderr",
          "text": [
            "100%|██████████| 121/121 [00:24<00:00,  5.54it/s]"
          ]
        },
        {
          "output_type": "stream",
          "name": "stdout",
          "text": [
            "Processing image: woods26.jpg\n"
          ]
        },
        {
          "output_type": "stream",
          "name": "stderr",
          "text": [
            "\r100%|██████████| 121/121 [00:24<00:00,  4.99it/s]\n"
          ]
        },
        {
          "output_type": "stream",
          "name": "stdout",
          "text": [
            "\n",
            "Processing: cristiano\n"
          ]
        },
        {
          "output_type": "stream",
          "name": "stderr",
          "text": [
            "  1%|          | 1/124 [00:00<00:21,  5.60it/s]"
          ]
        },
        {
          "output_type": "stream",
          "name": "stdout",
          "text": [
            "Processing image: woods29.jpg\n",
            "Processing image: woods100.jpg\n"
          ]
        },
        {
          "output_type": "stream",
          "name": "stderr",
          "text": [
            "\r  2%|▏         | 3/124 [00:00<00:15,  7.98it/s]"
          ]
        },
        {
          "output_type": "stream",
          "name": "stdout",
          "text": [
            "Face not detected in woods100.jpg\n",
            "Processing image: woods20.jpg\n",
            "Processing image: woods34.jpg\n"
          ]
        },
        {
          "output_type": "stream",
          "name": "stderr",
          "text": [
            "\r  3%|▎         | 4/124 [00:00<00:19,  6.14it/s]"
          ]
        },
        {
          "output_type": "stream",
          "name": "stdout",
          "text": [
            "Processing image: woods14.jpg\n"
          ]
        },
        {
          "output_type": "stream",
          "name": "stderr",
          "text": [
            "  5%|▍         | 6/124 [00:01<00:21,  5.61it/s]"
          ]
        },
        {
          "output_type": "stream",
          "name": "stdout",
          "text": [
            "Processing image: woods74.jpg\n",
            "Processing image: woods61.jpg\n"
          ]
        },
        {
          "output_type": "stream",
          "name": "stderr",
          "text": [
            "  6%|▋         | 8/124 [00:01<00:20,  5.73it/s]"
          ]
        },
        {
          "output_type": "stream",
          "name": "stdout",
          "text": [
            "Processing image: woods70.jpg\n",
            "Processing image: woods69.jpg\n"
          ]
        },
        {
          "output_type": "stream",
          "name": "stderr",
          "text": [
            "  8%|▊         | 10/124 [00:01<00:21,  5.41it/s]"
          ]
        },
        {
          "output_type": "stream",
          "name": "stdout",
          "text": [
            "Processing image: woods4.jpg\n",
            "Processing image: woods9.jpg\n"
          ]
        },
        {
          "output_type": "stream",
          "name": "stderr",
          "text": [
            "\r  9%|▉         | 11/124 [00:01<00:20,  5.41it/s]"
          ]
        },
        {
          "output_type": "stream",
          "name": "stdout",
          "text": [
            "Processing image: woods13.jpg\n"
          ]
        },
        {
          "output_type": "stream",
          "name": "stderr",
          "text": [
            " 10%|█         | 13/124 [00:02<00:21,  5.12it/s]"
          ]
        },
        {
          "output_type": "stream",
          "name": "stdout",
          "text": [
            "Processing image: woods63.jpg\n",
            "Processing image: woods24.jpg\n"
          ]
        },
        {
          "output_type": "stream",
          "name": "stderr",
          "text": [
            " 12%|█▏        | 15/124 [00:02<00:20,  5.29it/s]"
          ]
        },
        {
          "output_type": "stream",
          "name": "stdout",
          "text": [
            "Processing image: woods85.jpg\n",
            "Processing image: woods49.jpg\n"
          ]
        },
        {
          "output_type": "stream",
          "name": "stderr",
          "text": [
            "\r 13%|█▎        | 16/124 [00:02<00:19,  5.46it/s]"
          ]
        },
        {
          "output_type": "stream",
          "name": "stdout",
          "text": [
            "Processing image: woods112.jpg\n",
            "Face not detected in woods112.jpg\n",
            "Processing image: woods32.jpg\n"
          ]
        },
        {
          "output_type": "stream",
          "name": "stderr",
          "text": [
            " 15%|█▌        | 19/124 [00:03<00:16,  6.44it/s]"
          ]
        },
        {
          "output_type": "stream",
          "name": "stdout",
          "text": [
            "Processing image: woods47.jpg\n",
            "Processing image: woods91.jpg\n"
          ]
        },
        {
          "output_type": "stream",
          "name": "stderr",
          "text": [
            " 17%|█▋        | 21/124 [00:03<00:16,  6.28it/s]"
          ]
        },
        {
          "output_type": "stream",
          "name": "stdout",
          "text": [
            "Processing image: woods108.jpg\n",
            "Processing image: woods67.jpg\n"
          ]
        },
        {
          "output_type": "stream",
          "name": "stderr",
          "text": [
            " 19%|█▊        | 23/124 [00:03<00:16,  6.23it/s]"
          ]
        },
        {
          "output_type": "stream",
          "name": "stdout",
          "text": [
            "Processing image: woods107.jpg\n",
            "Processing image: woods25.jpg\n"
          ]
        },
        {
          "output_type": "stream",
          "name": "stderr",
          "text": [
            " 20%|██        | 25/124 [00:04<00:15,  6.31it/s]"
          ]
        },
        {
          "output_type": "stream",
          "name": "stdout",
          "text": [
            "Processing image: woods114.jpg\n",
            "Processing image: woods92.jpg\n"
          ]
        },
        {
          "output_type": "stream",
          "name": "stderr",
          "text": [
            "\r 21%|██        | 26/124 [00:04<00:15,  6.21it/s]"
          ]
        },
        {
          "output_type": "stream",
          "name": "stdout",
          "text": [
            "Processing image: woods73.jpg\n"
          ]
        },
        {
          "output_type": "stream",
          "name": "stderr",
          "text": [
            " 23%|██▎       | 28/124 [00:04<00:18,  5.33it/s]"
          ]
        },
        {
          "output_type": "stream",
          "name": "stdout",
          "text": [
            "Processing image: woods23.jpg\n",
            "Processing image: woods89.jpg\n"
          ]
        },
        {
          "output_type": "stream",
          "name": "stderr",
          "text": [
            " 24%|██▍       | 30/124 [00:05<00:16,  5.68it/s]"
          ]
        },
        {
          "output_type": "stream",
          "name": "stdout",
          "text": [
            "Processing image: woods96.jpg\n",
            "Processing image: woods46.jpg\n"
          ]
        },
        {
          "output_type": "stream",
          "name": "stderr",
          "text": [
            " 26%|██▌       | 32/124 [00:05<00:16,  5.44it/s]"
          ]
        },
        {
          "output_type": "stream",
          "name": "stdout",
          "text": [
            "Processing image: woods27.jpg\n",
            "Processing image: woods93.jpg\n"
          ]
        },
        {
          "output_type": "stream",
          "name": "stderr",
          "text": [
            " 27%|██▋       | 34/124 [00:05<00:16,  5.32it/s]"
          ]
        },
        {
          "output_type": "stream",
          "name": "stdout",
          "text": [
            "Processing image: woods53.jpg\n",
            "Processing image: woods54.jpg\n"
          ]
        },
        {
          "output_type": "stream",
          "name": "stderr",
          "text": [
            "\r 28%|██▊       | 35/124 [00:06<00:18,  4.82it/s]"
          ]
        },
        {
          "output_type": "stream",
          "name": "stdout",
          "text": [
            "Processing image: woods87.jpg\n"
          ]
        },
        {
          "output_type": "stream",
          "name": "stderr",
          "text": [
            "\r 29%|██▉       | 36/124 [00:06<00:22,  3.88it/s]"
          ]
        },
        {
          "output_type": "stream",
          "name": "stdout",
          "text": [
            "Processing image: woods119.jpg\n"
          ]
        },
        {
          "output_type": "stream",
          "name": "stderr",
          "text": [
            "\r 30%|██▉       | 37/124 [00:06<00:21,  3.98it/s]"
          ]
        },
        {
          "output_type": "stream",
          "name": "stdout",
          "text": [
            "Processing image: woods39.jpg\n"
          ]
        },
        {
          "output_type": "stream",
          "name": "stderr",
          "text": [
            " 31%|███▏      | 39/124 [00:07<00:19,  4.27it/s]"
          ]
        },
        {
          "output_type": "stream",
          "name": "stdout",
          "text": [
            "Processing image: woods106.jpg\n",
            "Processing image: woods110.jpg\n"
          ]
        },
        {
          "output_type": "stream",
          "name": "stderr",
          "text": [
            "\r 32%|███▏      | 40/124 [00:07<00:18,  4.43it/s]"
          ]
        },
        {
          "output_type": "stream",
          "name": "stdout",
          "text": [
            "Processing image: woods77.jpg\n"
          ]
        },
        {
          "output_type": "stream",
          "name": "stderr",
          "text": [
            "\r 33%|███▎      | 41/124 [00:07<00:19,  4.32it/s]"
          ]
        },
        {
          "output_type": "stream",
          "name": "stdout",
          "text": [
            "Processing image: woods115.jpg\n"
          ]
        },
        {
          "output_type": "stream",
          "name": "stderr",
          "text": [
            "\r 34%|███▍      | 42/124 [00:07<00:19,  4.30it/s]"
          ]
        },
        {
          "output_type": "stream",
          "name": "stdout",
          "text": [
            "Processing image: woods16.jpg\n"
          ]
        },
        {
          "output_type": "stream",
          "name": "stderr",
          "text": [
            "\r 35%|███▍      | 43/124 [00:08<00:19,  4.23it/s]"
          ]
        },
        {
          "output_type": "stream",
          "name": "stdout",
          "text": [
            "Processing image: woods75.jpg\n"
          ]
        },
        {
          "output_type": "stream",
          "name": "stderr",
          "text": [
            "\r 35%|███▌      | 44/124 [00:08<00:20,  3.90it/s]"
          ]
        },
        {
          "output_type": "stream",
          "name": "stdout",
          "text": [
            "Processing image: woods65.jpg\n"
          ]
        },
        {
          "output_type": "stream",
          "name": "stderr",
          "text": [
            " 37%|███▋      | 46/124 [00:08<00:18,  4.27it/s]"
          ]
        },
        {
          "output_type": "stream",
          "name": "stdout",
          "text": [
            "Processing image: woods64.jpg\n",
            "Processing image: woods71.jpg\n"
          ]
        },
        {
          "output_type": "stream",
          "name": "stderr",
          "text": [
            " 39%|███▊      | 48/124 [00:09<00:15,  4.91it/s]"
          ]
        },
        {
          "output_type": "stream",
          "name": "stdout",
          "text": [
            "Processing image: woods68.jpg\n",
            "Processing image: woods55.jpg\n"
          ]
        },
        {
          "output_type": "stream",
          "name": "stderr",
          "text": [
            "\r 40%|███▉      | 49/124 [00:09<00:14,  5.02it/s]"
          ]
        },
        {
          "output_type": "stream",
          "name": "stdout",
          "text": [
            "Processing image: woods62.jpg\n"
          ]
        },
        {
          "output_type": "stream",
          "name": "stderr",
          "text": [
            " 41%|████      | 51/124 [00:09<00:14,  5.14it/s]"
          ]
        },
        {
          "output_type": "stream",
          "name": "stdout",
          "text": [
            "Processing image: woods95.jpg\n",
            "Processing image: woods19.jpg\n"
          ]
        },
        {
          "output_type": "stream",
          "name": "stderr",
          "text": [
            "\r 42%|████▏     | 52/124 [00:10<00:13,  5.17it/s]"
          ]
        },
        {
          "output_type": "stream",
          "name": "stdout",
          "text": [
            "Processing image: woods66.jpg\n"
          ]
        },
        {
          "output_type": "stream",
          "name": "stderr",
          "text": [
            " 44%|████▎     | 54/124 [00:10<00:13,  5.07it/s]"
          ]
        },
        {
          "output_type": "stream",
          "name": "stdout",
          "text": [
            "Processing image: woods48.jpg\n",
            "Processing image: woods12.jpg\n"
          ]
        },
        {
          "output_type": "stream",
          "name": "stderr",
          "text": [
            " 45%|████▌     | 56/124 [00:10<00:12,  5.38it/s]"
          ]
        },
        {
          "output_type": "stream",
          "name": "stdout",
          "text": [
            "Processing image: woods15.jpg\n",
            "Processing image: woods102.jpg\n"
          ]
        },
        {
          "output_type": "stream",
          "name": "stderr",
          "text": [
            " 47%|████▋     | 58/124 [00:11<00:10,  6.18it/s]"
          ]
        },
        {
          "output_type": "stream",
          "name": "stdout",
          "text": [
            "Processing image: woods103.jpg\n",
            "Processing image: woods78.jpg\n"
          ]
        },
        {
          "output_type": "stream",
          "name": "stderr",
          "text": [
            " 48%|████▊     | 60/124 [00:11<00:10,  5.94it/s]"
          ]
        },
        {
          "output_type": "stream",
          "name": "stdout",
          "text": [
            "Processing image: woods31.jpg\n",
            "Processing image: woods124.jpg\n"
          ]
        },
        {
          "output_type": "stream",
          "name": "stderr",
          "text": [
            " 50%|█████     | 62/124 [00:11<00:10,  5.95it/s]"
          ]
        },
        {
          "output_type": "stream",
          "name": "stdout",
          "text": [
            "Processing image: woods60.jpg\n",
            "Processing image: woods58.jpg\n"
          ]
        },
        {
          "output_type": "stream",
          "name": "stderr",
          "text": [
            " 52%|█████▏    | 64/124 [00:12<00:10,  5.60it/s]"
          ]
        },
        {
          "output_type": "stream",
          "name": "stdout",
          "text": [
            "Processing image: woods3.jpg\n",
            "Processing image: woods1.jpg\n"
          ]
        },
        {
          "output_type": "stream",
          "name": "stderr",
          "text": [
            " 53%|█████▎    | 66/124 [00:12<00:09,  5.90it/s]"
          ]
        },
        {
          "output_type": "stream",
          "name": "stdout",
          "text": [
            "Face not detected in woods1.jpg\n",
            "Processing image: woods76.jpg\n",
            "Processing image: woods52.jpg\n"
          ]
        },
        {
          "output_type": "stream",
          "name": "stderr",
          "text": [
            " 55%|█████▍    | 68/124 [00:12<00:09,  5.92it/s]"
          ]
        },
        {
          "output_type": "stream",
          "name": "stdout",
          "text": [
            "Processing image: woods90.jpg\n",
            "Processing image: woods99.jpg\n"
          ]
        },
        {
          "output_type": "stream",
          "name": "stderr",
          "text": [
            " 56%|█████▋    | 70/124 [00:13<00:08,  6.39it/s]"
          ]
        },
        {
          "output_type": "stream",
          "name": "stdout",
          "text": [
            "Processing image: woods121.jpg\n",
            "Processing image: woods98.jpg\n"
          ]
        },
        {
          "output_type": "stream",
          "name": "stderr",
          "text": [
            " 58%|█████▊    | 72/124 [00:13<00:08,  5.81it/s]"
          ]
        },
        {
          "output_type": "stream",
          "name": "stdout",
          "text": [
            "Processing image: woods35.jpg\n"
          ]
        },
        {
          "output_type": "stream",
          "name": "stderr",
          "text": [
            "\r 59%|█████▉    | 73/124 [00:13<00:08,  5.80it/s]"
          ]
        },
        {
          "output_type": "stream",
          "name": "stdout",
          "text": [
            "Processing image: woods82.jpg\n",
            "Processing image: woods123.jpg\n"
          ]
        },
        {
          "output_type": "stream",
          "name": "stderr",
          "text": [
            " 60%|██████    | 75/124 [00:13<00:08,  6.01it/s]"
          ]
        },
        {
          "output_type": "stream",
          "name": "stdout",
          "text": [
            "Processing image: woods8.jpg\n",
            "Processing image: woods105.jpg\n"
          ]
        },
        {
          "output_type": "stream",
          "name": "stderr",
          "text": [
            " 62%|██████▏   | 77/124 [00:14<00:07,  5.92it/s]"
          ]
        },
        {
          "output_type": "stream",
          "name": "stdout",
          "text": [
            "Processing image: woods83.jpg\n",
            "Processing image: woods6.jpg\n"
          ]
        },
        {
          "output_type": "stream",
          "name": "stderr",
          "text": [
            " 64%|██████▎   | 79/124 [00:14<00:07,  5.78it/s]"
          ]
        },
        {
          "output_type": "stream",
          "name": "stdout",
          "text": [
            "Processing image: woods18.jpg\n",
            "Processing image: woods120.jpg\n"
          ]
        },
        {
          "output_type": "stream",
          "name": "stderr",
          "text": [
            " 65%|██████▌   | 81/124 [00:15<00:07,  5.78it/s]"
          ]
        },
        {
          "output_type": "stream",
          "name": "stdout",
          "text": [
            "Processing image: woods21.jpg\n",
            "Processing image: woods122.jpg\n"
          ]
        },
        {
          "output_type": "stream",
          "name": "stderr",
          "text": [
            "\r 66%|██████▌   | 82/124 [00:15<00:07,  5.85it/s]"
          ]
        },
        {
          "output_type": "stream",
          "name": "stdout",
          "text": [
            "Processing image: woods38.jpg\n"
          ]
        },
        {
          "output_type": "stream",
          "name": "stderr",
          "text": [
            " 68%|██████▊   | 84/124 [00:15<00:07,  5.15it/s]"
          ]
        },
        {
          "output_type": "stream",
          "name": "stdout",
          "text": [
            "Processing image: woods5.jpg\n",
            "Processing image: woods118.jpg\n"
          ]
        },
        {
          "output_type": "stream",
          "name": "stderr",
          "text": [
            " 69%|██████▉   | 86/124 [00:15<00:06,  5.68it/s]"
          ]
        },
        {
          "output_type": "stream",
          "name": "stdout",
          "text": [
            "Processing image: woods10.jpg\n",
            "Processing image: woods17.jpg\n"
          ]
        },
        {
          "output_type": "stream",
          "name": "stderr",
          "text": [
            " 71%|███████   | 88/124 [00:16<00:06,  5.74it/s]"
          ]
        },
        {
          "output_type": "stream",
          "name": "stdout",
          "text": [
            "Processing image: woods104.jpg\n",
            "Processing image: woods97.jpg\n"
          ]
        },
        {
          "output_type": "stream",
          "name": "stderr",
          "text": [
            " 73%|███████▎  | 90/124 [00:16<00:06,  5.39it/s]"
          ]
        },
        {
          "output_type": "stream",
          "name": "stdout",
          "text": [
            "Processing image: woods86.jpg\n",
            "Processing image: woods22.jpg\n"
          ]
        },
        {
          "output_type": "stream",
          "name": "stderr",
          "text": [
            " 74%|███████▍  | 92/124 [00:17<00:05,  5.40it/s]"
          ]
        },
        {
          "output_type": "stream",
          "name": "stdout",
          "text": [
            "Processing image: woods41.jpg\n",
            "Processing image: woods56.jpg\n"
          ]
        },
        {
          "output_type": "stream",
          "name": "stderr",
          "text": [
            " 76%|███████▌  | 94/124 [00:17<00:05,  5.74it/s]"
          ]
        },
        {
          "output_type": "stream",
          "name": "stdout",
          "text": [
            "Processing image: woods45.jpg\n",
            "Processing image: woods117.jpg\n"
          ]
        },
        {
          "output_type": "stream",
          "name": "stderr",
          "text": [
            " 77%|███████▋  | 96/124 [00:17<00:04,  5.63it/s]"
          ]
        },
        {
          "output_type": "stream",
          "name": "stdout",
          "text": [
            "Processing image: woods40.jpg\n",
            "Processing image: woods84.jpg\n"
          ]
        },
        {
          "output_type": "stream",
          "name": "stderr",
          "text": [
            " 79%|███████▉  | 98/124 [00:18<00:04,  5.61it/s]"
          ]
        },
        {
          "output_type": "stream",
          "name": "stdout",
          "text": [
            "Processing image: woods7.jpg\n",
            "Processing image: woods116.jpg\n"
          ]
        },
        {
          "output_type": "stream",
          "name": "stderr",
          "text": [
            " 81%|████████  | 100/124 [00:18<00:03,  6.04it/s]"
          ]
        },
        {
          "output_type": "stream",
          "name": "stdout",
          "text": [
            "Processing image: woods79.jpg\n",
            "Processing image: woods51.jpg\n"
          ]
        },
        {
          "output_type": "stream",
          "name": "stderr",
          "text": [
            " 82%|████████▏ | 102/124 [00:18<00:03,  6.06it/s]"
          ]
        },
        {
          "output_type": "stream",
          "name": "stdout",
          "text": [
            "Processing image: woods28.jpg\n",
            "Processing image: woods80.jpg\n"
          ]
        },
        {
          "output_type": "stream",
          "name": "stderr",
          "text": [
            "\r 83%|████████▎ | 103/124 [00:18<00:03,  5.36it/s]"
          ]
        },
        {
          "output_type": "stream",
          "name": "stdout",
          "text": [
            "Processing image: woods50.jpg\n"
          ]
        },
        {
          "output_type": "stream",
          "name": "stderr",
          "text": [
            "\r 84%|████████▍ | 104/124 [00:19<00:04,  4.93it/s]"
          ]
        },
        {
          "output_type": "stream",
          "name": "stdout",
          "text": [
            "Processing image: woods94.jpg\n"
          ]
        },
        {
          "output_type": "stream",
          "name": "stderr",
          "text": [
            "\r 85%|████████▍ | 105/124 [00:19<00:04,  4.71it/s]"
          ]
        },
        {
          "output_type": "stream",
          "name": "stdout",
          "text": [
            "Processing image: woods88.jpg\n"
          ]
        },
        {
          "output_type": "stream",
          "name": "stderr",
          "text": [
            "\r 85%|████████▌ | 106/124 [00:19<00:04,  4.26it/s]"
          ]
        },
        {
          "output_type": "stream",
          "name": "stdout",
          "text": [
            "Processing image: woods57.jpg\n"
          ]
        },
        {
          "output_type": "stream",
          "name": "stderr",
          "text": [
            "\r 86%|████████▋ | 107/124 [00:19<00:03,  4.30it/s]"
          ]
        },
        {
          "output_type": "stream",
          "name": "stdout",
          "text": [
            "Processing image: woods33.jpg\n"
          ]
        },
        {
          "output_type": "stream",
          "name": "stderr",
          "text": [
            "\r 87%|████████▋ | 108/124 [00:20<00:03,  4.33it/s]"
          ]
        },
        {
          "output_type": "stream",
          "name": "stdout",
          "text": [
            "Processing image: woods11.jpg\n"
          ]
        },
        {
          "output_type": "stream",
          "name": "stderr",
          "text": [
            "\r 88%|████████▊ | 109/124 [00:20<00:03,  4.05it/s]"
          ]
        },
        {
          "output_type": "stream",
          "name": "stdout",
          "text": [
            "Processing image: woods36.jpg\n"
          ]
        },
        {
          "output_type": "stream",
          "name": "stderr",
          "text": [
            "\r 89%|████████▊ | 110/124 [00:20<00:03,  3.94it/s]"
          ]
        },
        {
          "output_type": "stream",
          "name": "stdout",
          "text": [
            "Processing image: woods72.jpg\n"
          ]
        },
        {
          "output_type": "stream",
          "name": "stderr",
          "text": [
            "\r 90%|████████▉ | 111/124 [00:21<00:03,  3.88it/s]"
          ]
        },
        {
          "output_type": "stream",
          "name": "stdout",
          "text": [
            "Processing image: woods37.jpg\n"
          ]
        },
        {
          "output_type": "stream",
          "name": "stderr",
          "text": [
            "\r 90%|█████████ | 112/124 [00:21<00:03,  3.90it/s]"
          ]
        },
        {
          "output_type": "stream",
          "name": "stdout",
          "text": [
            "Processing image: woods44.jpg\n"
          ]
        },
        {
          "output_type": "stream",
          "name": "stderr",
          "text": [
            "\r 91%|█████████ | 113/124 [00:21<00:03,  3.61it/s]"
          ]
        },
        {
          "output_type": "stream",
          "name": "stdout",
          "text": [
            "Processing image: woods109.jpg\n"
          ]
        },
        {
          "output_type": "stream",
          "name": "stderr",
          "text": [
            " 93%|█████████▎| 115/124 [00:21<00:02,  4.36it/s]"
          ]
        },
        {
          "output_type": "stream",
          "name": "stdout",
          "text": [
            "Processing image: woods30.jpg\n",
            "Processing image: woods111.jpg\n"
          ]
        },
        {
          "output_type": "stream",
          "name": "stderr",
          "text": [
            " 94%|█████████▍| 117/124 [00:22<00:01,  5.33it/s]"
          ]
        },
        {
          "output_type": "stream",
          "name": "stdout",
          "text": [
            "Processing image: woods113.jpg\n",
            "Processing image: woods2.jpg\n"
          ]
        },
        {
          "output_type": "stream",
          "name": "stderr",
          "text": [
            " 96%|█████████▌| 119/124 [00:22<00:00,  5.50it/s]"
          ]
        },
        {
          "output_type": "stream",
          "name": "stdout",
          "text": [
            "Processing image: woods59.jpg\n",
            "Processing image: woods101.jpg\n"
          ]
        },
        {
          "output_type": "stream",
          "name": "stderr",
          "text": [
            " 98%|█████████▊| 121/124 [00:22<00:00,  5.69it/s]"
          ]
        },
        {
          "output_type": "stream",
          "name": "stdout",
          "text": [
            "Processing image: woods43.jpg\n",
            "Processing image: woods42.jpg\n"
          ]
        },
        {
          "output_type": "stream",
          "name": "stderr",
          "text": [
            "\r 98%|█████████▊| 122/124 [00:23<00:00,  5.59it/s]"
          ]
        },
        {
          "output_type": "stream",
          "name": "stdout",
          "text": [
            "Processing image: woods81.jpg\n"
          ]
        },
        {
          "output_type": "stream",
          "name": "stderr",
          "text": [
            "100%|██████████| 124/124 [00:23<00:00,  5.26it/s]"
          ]
        },
        {
          "output_type": "stream",
          "name": "stdout",
          "text": [
            "Processing image: woods26.jpg\n"
          ]
        },
        {
          "output_type": "stream",
          "name": "stderr",
          "text": [
            "\n"
          ]
        }
      ]
    },
    {
      "cell_type": "code",
      "source": [
        "\n",
        "# ------------------------\n",
        "# Step 4: Save Embeddings and Labels\n",
        "# ------------------------\n",
        "\n",
        "# Convert to numpy arrays\n",
        "embedding_array = np.array(embedding_list)\n",
        "name_array = np.array(name_list)\n",
        "\n",
        "# Save to disk\n",
        "np.save('embeddings.npy', embedding_array)\n",
        "np.save('names.npy', name_array)\n",
        "\n",
        "\n",
        "\n",
        "# Debugging: Print the first few images and their corresponding labels\n",
        "print(\"\\nFirst few labels and corresponding image names:\")\n",
        "if len(name_list) > 0:\n",
        "    for i in range(min(800, len(name_list))):  # Print the first 10 or all if less\n",
        "        print(f\"Image: {name_list[i]}, Label: {name_list[i]}\")\n",
        "else:\n",
        "    print(\"No faces detected or images processed.\")"
      ],
      "metadata": {
        "colab": {
          "base_uri": "https://localhost:8080/"
        },
        "collapsed": true,
        "id": "dIizlwYSeIm2",
        "outputId": "8c545c74-af4b-4857-f16a-44b335bc0231"
      },
      "execution_count": null,
      "outputs": [
        {
          "output_type": "stream",
          "name": "stdout",
          "text": [
            "\n",
            "First few labels and corresponding image names:\n",
            "Image: john cena, Label: john cena\n",
            "Image: john cena, Label: john cena\n",
            "Image: john cena, Label: john cena\n",
            "Image: john cena, Label: john cena\n",
            "Image: john cena, Label: john cena\n",
            "Image: john cena, Label: john cena\n",
            "Image: john cena, Label: john cena\n",
            "Image: john cena, Label: john cena\n",
            "Image: john cena, Label: john cena\n",
            "Image: john cena, Label: john cena\n",
            "Image: john cena, Label: john cena\n",
            "Image: john cena, Label: john cena\n",
            "Image: john cena, Label: john cena\n",
            "Image: john cena, Label: john cena\n",
            "Image: john cena, Label: john cena\n",
            "Image: john cena, Label: john cena\n",
            "Image: john cena, Label: john cena\n",
            "Image: john cena, Label: john cena\n",
            "Image: john cena, Label: john cena\n",
            "Image: john cena, Label: john cena\n",
            "Image: john cena, Label: john cena\n",
            "Image: john cena, Label: john cena\n",
            "Image: john cena, Label: john cena\n",
            "Image: john cena, Label: john cena\n",
            "Image: john cena, Label: john cena\n",
            "Image: john cena, Label: john cena\n",
            "Image: john cena, Label: john cena\n",
            "Image: john cena, Label: john cena\n",
            "Image: john cena, Label: john cena\n",
            "Image: john cena, Label: john cena\n",
            "Image: john cena, Label: john cena\n",
            "Image: john cena, Label: john cena\n",
            "Image: john cena, Label: john cena\n",
            "Image: john cena, Label: john cena\n",
            "Image: john cena, Label: john cena\n",
            "Image: john cena, Label: john cena\n",
            "Image: john cena, Label: john cena\n",
            "Image: john cena, Label: john cena\n",
            "Image: john cena, Label: john cena\n",
            "Image: john cena, Label: john cena\n",
            "Image: john cena, Label: john cena\n",
            "Image: john cena, Label: john cena\n",
            "Image: john cena, Label: john cena\n",
            "Image: john cena, Label: john cena\n",
            "Image: john cena, Label: john cena\n",
            "Image: john cena, Label: john cena\n",
            "Image: john cena, Label: john cena\n",
            "Image: john cena, Label: john cena\n",
            "Image: john cena, Label: john cena\n",
            "Image: john cena, Label: john cena\n",
            "Image: john cena, Label: john cena\n",
            "Image: john cena, Label: john cena\n",
            "Image: john cena, Label: john cena\n",
            "Image: john cena, Label: john cena\n",
            "Image: john cena, Label: john cena\n",
            "Image: john cena, Label: john cena\n",
            "Image: john cena, Label: john cena\n",
            "Image: john cena, Label: john cena\n",
            "Image: john cena, Label: john cena\n",
            "Image: john cena, Label: john cena\n",
            "Image: john cena, Label: john cena\n",
            "Image: john cena, Label: john cena\n",
            "Image: john cena, Label: john cena\n",
            "Image: john cena, Label: john cena\n",
            "Image: john cena, Label: john cena\n",
            "Image: john cena, Label: john cena\n",
            "Image: john cena, Label: john cena\n",
            "Image: john cena, Label: john cena\n",
            "Image: john cena, Label: john cena\n",
            "Image: john cena, Label: john cena\n",
            "Image: john cena, Label: john cena\n",
            "Image: john cena, Label: john cena\n",
            "Image: john cena, Label: john cena\n",
            "Image: john cena, Label: john cena\n",
            "Image: john cena, Label: john cena\n",
            "Image: john cena, Label: john cena\n",
            "Image: john cena, Label: john cena\n",
            "Image: john cena, Label: john cena\n",
            "Image: john cena, Label: john cena\n",
            "Image: john cena, Label: john cena\n",
            "Image: john cena, Label: john cena\n",
            "Image: john cena, Label: john cena\n",
            "Image: john cena, Label: john cena\n",
            "Image: john cena, Label: john cena\n",
            "Image: john cena, Label: john cena\n",
            "Image: john cena, Label: john cena\n",
            "Image: john cena, Label: john cena\n",
            "Image: john cena, Label: john cena\n",
            "Image: john cena, Label: john cena\n",
            "Image: john cena, Label: john cena\n",
            "Image: john cena, Label: john cena\n",
            "Image: john cena, Label: john cena\n",
            "Image: john cena, Label: john cena\n",
            "Image: john cena, Label: john cena\n",
            "Image: john cena, Label: john cena\n",
            "Image: john cena, Label: john cena\n",
            "Image: john cena, Label: john cena\n",
            "Image: john cena, Label: john cena\n",
            "Image: john cena, Label: john cena\n",
            "Image: john cena, Label: john cena\n",
            "Image: john cena, Label: john cena\n",
            "Image: john cena, Label: john cena\n",
            "Image: john cena, Label: john cena\n",
            "Image: john cena, Label: john cena\n",
            "Image: john cena, Label: john cena\n",
            "Image: john cena, Label: john cena\n",
            "Image: kobe, Label: kobe\n",
            "Image: kobe, Label: kobe\n",
            "Image: kobe, Label: kobe\n",
            "Image: kobe, Label: kobe\n",
            "Image: kobe, Label: kobe\n",
            "Image: kobe, Label: kobe\n",
            "Image: kobe, Label: kobe\n",
            "Image: kobe, Label: kobe\n",
            "Image: kobe, Label: kobe\n",
            "Image: kobe, Label: kobe\n",
            "Image: kobe, Label: kobe\n",
            "Image: kobe, Label: kobe\n",
            "Image: kobe, Label: kobe\n",
            "Image: kobe, Label: kobe\n",
            "Image: kobe, Label: kobe\n",
            "Image: kobe, Label: kobe\n",
            "Image: kobe, Label: kobe\n",
            "Image: kobe, Label: kobe\n",
            "Image: kobe, Label: kobe\n",
            "Image: kobe, Label: kobe\n",
            "Image: kobe, Label: kobe\n",
            "Image: kobe, Label: kobe\n",
            "Image: kobe, Label: kobe\n",
            "Image: kobe, Label: kobe\n",
            "Image: kobe, Label: kobe\n",
            "Image: kobe, Label: kobe\n",
            "Image: kobe, Label: kobe\n",
            "Image: kobe, Label: kobe\n",
            "Image: kobe, Label: kobe\n",
            "Image: kobe, Label: kobe\n",
            "Image: kobe, Label: kobe\n",
            "Image: kobe, Label: kobe\n",
            "Image: kobe, Label: kobe\n",
            "Image: kobe, Label: kobe\n",
            "Image: kobe, Label: kobe\n",
            "Image: kobe, Label: kobe\n",
            "Image: kobe, Label: kobe\n",
            "Image: kobe, Label: kobe\n",
            "Image: kobe, Label: kobe\n",
            "Image: kobe, Label: kobe\n",
            "Image: kobe, Label: kobe\n",
            "Image: kobe, Label: kobe\n",
            "Image: kobe, Label: kobe\n",
            "Image: kobe, Label: kobe\n",
            "Image: kobe, Label: kobe\n",
            "Image: kobe, Label: kobe\n",
            "Image: kobe, Label: kobe\n",
            "Image: kobe, Label: kobe\n",
            "Image: kobe, Label: kobe\n",
            "Image: kobe, Label: kobe\n",
            "Image: kobe, Label: kobe\n",
            "Image: kobe, Label: kobe\n",
            "Image: kobe, Label: kobe\n",
            "Image: kobe, Label: kobe\n",
            "Image: kobe, Label: kobe\n",
            "Image: kobe, Label: kobe\n",
            "Image: kobe, Label: kobe\n",
            "Image: kobe, Label: kobe\n",
            "Image: kobe, Label: kobe\n",
            "Image: kobe, Label: kobe\n",
            "Image: kobe, Label: kobe\n",
            "Image: kobe, Label: kobe\n",
            "Image: kobe, Label: kobe\n",
            "Image: kobe, Label: kobe\n",
            "Image: kobe, Label: kobe\n",
            "Image: kobe, Label: kobe\n",
            "Image: kobe, Label: kobe\n",
            "Image: kobe, Label: kobe\n",
            "Image: kobe, Label: kobe\n",
            "Image: kobe, Label: kobe\n",
            "Image: kobe, Label: kobe\n",
            "Image: kobe, Label: kobe\n",
            "Image: kobe, Label: kobe\n",
            "Image: kobe, Label: kobe\n",
            "Image: kobe, Label: kobe\n",
            "Image: kobe, Label: kobe\n",
            "Image: kobe, Label: kobe\n",
            "Image: kobe, Label: kobe\n",
            "Image: kobe, Label: kobe\n",
            "Image: kobe, Label: kobe\n",
            "Image: kobe, Label: kobe\n",
            "Image: kobe, Label: kobe\n",
            "Image: kobe, Label: kobe\n",
            "Image: kobe, Label: kobe\n",
            "Image: kobe, Label: kobe\n",
            "Image: kobe, Label: kobe\n",
            "Image: kobe, Label: kobe\n",
            "Image: kobe, Label: kobe\n",
            "Image: kobe, Label: kobe\n",
            "Image: kobe, Label: kobe\n",
            "Image: kobe, Label: kobe\n",
            "Image: kobe, Label: kobe\n",
            "Image: kobe, Label: kobe\n",
            "Image: kobe, Label: kobe\n",
            "Image: kobe, Label: kobe\n",
            "Image: kobe, Label: kobe\n",
            "Image: kobe, Label: kobe\n",
            "Image: kobe, Label: kobe\n",
            "Image: kobe, Label: kobe\n",
            "Image: kobe, Label: kobe\n",
            "Image: kobe, Label: kobe\n",
            "Image: kobe, Label: kobe\n",
            "Image: kobe, Label: kobe\n",
            "Image: kobe, Label: kobe\n",
            "Image: kobe, Label: kobe\n",
            "Image: kobe, Label: kobe\n",
            "Image: kobe, Label: kobe\n",
            "Image: kobe, Label: kobe\n",
            "Image: kobe, Label: kobe\n",
            "Image: kobe, Label: kobe\n",
            "Image: kobe, Label: kobe\n",
            "Image: kobe, Label: kobe\n",
            "Image: kobe, Label: kobe\n",
            "Image: kobe, Label: kobe\n",
            "Image: kobe, Label: kobe\n",
            "Image: kobe, Label: kobe\n",
            "Image: kobe, Label: kobe\n",
            "Image: kobe, Label: kobe\n",
            "Image: kobe, Label: kobe\n",
            "Image: kobe, Label: kobe\n",
            "Image: kobe, Label: kobe\n",
            "Image: kobe, Label: kobe\n",
            "Image: kobe, Label: kobe\n",
            "Image: kobe, Label: kobe\n",
            "Image: kobe, Label: kobe\n",
            "Image: kobe, Label: kobe\n",
            "Image: kobe, Label: kobe\n",
            "Image: kobe, Label: kobe\n",
            "Image: kobe, Label: kobe\n",
            "Image: kobe, Label: kobe\n",
            "Image: kobe, Label: kobe\n",
            "Image: kobe, Label: kobe\n",
            "Image: kobe, Label: kobe\n",
            "Image: kobe, Label: kobe\n",
            "Image: kobe, Label: kobe\n",
            "Image: kobe, Label: kobe\n",
            "Image: kobe, Label: kobe\n",
            "Image: kobe, Label: kobe\n",
            "Image: kobe, Label: kobe\n",
            "Image: kobe, Label: kobe\n",
            "Image: kobe, Label: kobe\n",
            "Image: kobe, Label: kobe\n",
            "Image: kobe, Label: kobe\n",
            "Image: kobe, Label: kobe\n",
            "Image: kobe, Label: kobe\n",
            "Image: kobe, Label: kobe\n",
            "Image: kobe, Label: kobe\n",
            "Image: kobe, Label: kobe\n",
            "Image: kobe, Label: kobe\n",
            "Image: kobe, Label: kobe\n",
            "Image: kobe, Label: kobe\n",
            "Image: kobe, Label: kobe\n",
            "Image: kobe, Label: kobe\n",
            "Image: kobe, Label: kobe\n",
            "Image: maria, Label: maria\n",
            "Image: maria, Label: maria\n",
            "Image: maria, Label: maria\n",
            "Image: maria, Label: maria\n",
            "Image: maria, Label: maria\n",
            "Image: maria, Label: maria\n",
            "Image: maria, Label: maria\n",
            "Image: maria, Label: maria\n",
            "Image: maria, Label: maria\n",
            "Image: maria, Label: maria\n",
            "Image: maria, Label: maria\n",
            "Image: maria, Label: maria\n",
            "Image: maria, Label: maria\n",
            "Image: maria, Label: maria\n",
            "Image: maria, Label: maria\n",
            "Image: maria, Label: maria\n",
            "Image: maria, Label: maria\n",
            "Image: maria, Label: maria\n",
            "Image: maria, Label: maria\n",
            "Image: maria, Label: maria\n",
            "Image: maria, Label: maria\n",
            "Image: maria, Label: maria\n",
            "Image: maria, Label: maria\n",
            "Image: maria, Label: maria\n",
            "Image: maria, Label: maria\n",
            "Image: maria, Label: maria\n",
            "Image: maria, Label: maria\n",
            "Image: maria, Label: maria\n",
            "Image: maria, Label: maria\n",
            "Image: maria, Label: maria\n",
            "Image: maria, Label: maria\n",
            "Image: maria, Label: maria\n",
            "Image: maria, Label: maria\n",
            "Image: maria, Label: maria\n",
            "Image: maria, Label: maria\n",
            "Image: maria, Label: maria\n",
            "Image: maria, Label: maria\n",
            "Image: maria, Label: maria\n",
            "Image: maria, Label: maria\n",
            "Image: maria, Label: maria\n",
            "Image: maria, Label: maria\n",
            "Image: maria, Label: maria\n",
            "Image: maria, Label: maria\n",
            "Image: maria, Label: maria\n",
            "Image: maria, Label: maria\n",
            "Image: maria, Label: maria\n",
            "Image: maria, Label: maria\n",
            "Image: maria, Label: maria\n",
            "Image: maria, Label: maria\n",
            "Image: maria, Label: maria\n",
            "Image: maria, Label: maria\n",
            "Image: maria, Label: maria\n",
            "Image: maria, Label: maria\n",
            "Image: maria, Label: maria\n",
            "Image: maria, Label: maria\n",
            "Image: maria, Label: maria\n",
            "Image: maria, Label: maria\n",
            "Image: maria, Label: maria\n",
            "Image: maria, Label: maria\n",
            "Image: maria, Label: maria\n",
            "Image: maria, Label: maria\n",
            "Image: maria, Label: maria\n",
            "Image: maria, Label: maria\n",
            "Image: maria, Label: maria\n",
            "Image: maria, Label: maria\n",
            "Image: maria, Label: maria\n",
            "Image: maria, Label: maria\n",
            "Image: maria, Label: maria\n",
            "Image: maria, Label: maria\n",
            "Image: maria, Label: maria\n",
            "Image: maria, Label: maria\n",
            "Image: maria, Label: maria\n",
            "Image: maria, Label: maria\n",
            "Image: maria, Label: maria\n",
            "Image: maria, Label: maria\n",
            "Image: maria, Label: maria\n",
            "Image: maria, Label: maria\n",
            "Image: maria, Label: maria\n",
            "Image: maria, Label: maria\n",
            "Image: maria, Label: maria\n",
            "Image: maria, Label: maria\n",
            "Image: maria, Label: maria\n",
            "Image: maria, Label: maria\n",
            "Image: maria, Label: maria\n",
            "Image: maria, Label: maria\n",
            "Image: maria, Label: maria\n",
            "Image: maria, Label: maria\n",
            "Image: maria, Label: maria\n",
            "Image: maria, Label: maria\n",
            "Image: maria, Label: maria\n",
            "Image: maria, Label: maria\n",
            "Image: maria, Label: maria\n",
            "Image: maria, Label: maria\n",
            "Image: maria, Label: maria\n",
            "Image: maria, Label: maria\n",
            "Image: maria, Label: maria\n",
            "Image: maria, Label: maria\n",
            "Image: maria, Label: maria\n",
            "Image: maria, Label: maria\n",
            "Image: maria, Label: maria\n",
            "Image: maria, Label: maria\n",
            "Image: maria, Label: maria\n",
            "Image: maria, Label: maria\n",
            "Image: maria, Label: maria\n",
            "Image: maria, Label: maria\n",
            "Image: maria, Label: maria\n",
            "Image: maria, Label: maria\n",
            "Image: maria, Label: maria\n",
            "Image: maria, Label: maria\n",
            "Image: maria, Label: maria\n",
            "Image: kohli, Label: kohli\n",
            "Image: kohli, Label: kohli\n",
            "Image: kohli, Label: kohli\n",
            "Image: kohli, Label: kohli\n",
            "Image: kohli, Label: kohli\n",
            "Image: kohli, Label: kohli\n",
            "Image: kohli, Label: kohli\n",
            "Image: kohli, Label: kohli\n",
            "Image: kohli, Label: kohli\n",
            "Image: kohli, Label: kohli\n",
            "Image: kohli, Label: kohli\n",
            "Image: kohli, Label: kohli\n",
            "Image: kohli, Label: kohli\n",
            "Image: kohli, Label: kohli\n",
            "Image: kohli, Label: kohli\n",
            "Image: kohli, Label: kohli\n",
            "Image: kohli, Label: kohli\n",
            "Image: kohli, Label: kohli\n",
            "Image: kohli, Label: kohli\n",
            "Image: kohli, Label: kohli\n",
            "Image: kohli, Label: kohli\n",
            "Image: kohli, Label: kohli\n",
            "Image: kohli, Label: kohli\n",
            "Image: kohli, Label: kohli\n",
            "Image: kohli, Label: kohli\n",
            "Image: kohli, Label: kohli\n",
            "Image: kohli, Label: kohli\n",
            "Image: kohli, Label: kohli\n",
            "Image: kohli, Label: kohli\n",
            "Image: kohli, Label: kohli\n",
            "Image: kohli, Label: kohli\n",
            "Image: kohli, Label: kohli\n",
            "Image: kohli, Label: kohli\n",
            "Image: kohli, Label: kohli\n",
            "Image: kohli, Label: kohli\n",
            "Image: kohli, Label: kohli\n",
            "Image: kohli, Label: kohli\n",
            "Image: kohli, Label: kohli\n",
            "Image: kohli, Label: kohli\n",
            "Image: kohli, Label: kohli\n",
            "Image: kohli, Label: kohli\n",
            "Image: kohli, Label: kohli\n",
            "Image: kohli, Label: kohli\n",
            "Image: kohli, Label: kohli\n",
            "Image: kohli, Label: kohli\n",
            "Image: kohli, Label: kohli\n",
            "Image: kohli, Label: kohli\n",
            "Image: kohli, Label: kohli\n",
            "Image: kohli, Label: kohli\n",
            "Image: kohli, Label: kohli\n",
            "Image: kohli, Label: kohli\n",
            "Image: kohli, Label: kohli\n",
            "Image: kohli, Label: kohli\n",
            "Image: kohli, Label: kohli\n",
            "Image: kohli, Label: kohli\n",
            "Image: kohli, Label: kohli\n",
            "Image: kohli, Label: kohli\n",
            "Image: kohli, Label: kohli\n",
            "Image: kohli, Label: kohli\n",
            "Image: kohli, Label: kohli\n",
            "Image: kohli, Label: kohli\n",
            "Image: kohli, Label: kohli\n",
            "Image: kohli, Label: kohli\n",
            "Image: kohli, Label: kohli\n",
            "Image: kohli, Label: kohli\n",
            "Image: kohli, Label: kohli\n",
            "Image: kohli, Label: kohli\n",
            "Image: kohli, Label: kohli\n",
            "Image: kohli, Label: kohli\n",
            "Image: kohli, Label: kohli\n",
            "Image: kohli, Label: kohli\n",
            "Image: kohli, Label: kohli\n",
            "Image: kohli, Label: kohli\n",
            "Image: kohli, Label: kohli\n",
            "Image: kohli, Label: kohli\n",
            "Image: kohli, Label: kohli\n",
            "Image: kohli, Label: kohli\n",
            "Image: kohli, Label: kohli\n",
            "Image: kohli, Label: kohli\n",
            "Image: kohli, Label: kohli\n",
            "Image: kohli, Label: kohli\n",
            "Image: kohli, Label: kohli\n",
            "Image: kohli, Label: kohli\n",
            "Image: kohli, Label: kohli\n",
            "Image: kohli, Label: kohli\n",
            "Image: kohli, Label: kohli\n",
            "Image: kohli, Label: kohli\n",
            "Image: kohli, Label: kohli\n",
            "Image: kohli, Label: kohli\n",
            "Image: kohli, Label: kohli\n",
            "Image: kohli, Label: kohli\n",
            "Image: kohli, Label: kohli\n",
            "Image: kohli, Label: kohli\n",
            "Image: kohli, Label: kohli\n",
            "Image: kohli, Label: kohli\n",
            "Image: kohli, Label: kohli\n",
            "Image: kohli, Label: kohli\n",
            "Image: kohli, Label: kohli\n",
            "Image: kohli, Label: kohli\n",
            "Image: kohli, Label: kohli\n",
            "Image: kohli, Label: kohli\n",
            "Image: kohli, Label: kohli\n",
            "Image: kohli, Label: kohli\n",
            "Image: kohli, Label: kohli\n",
            "Image: kohli, Label: kohli\n",
            "Image: kohli, Label: kohli\n",
            "Image: kohli, Label: kohli\n",
            "Image: kohli, Label: kohli\n",
            "Image: kohli, Label: kohli\n",
            "Image: kohli, Label: kohli\n",
            "Image: kohli, Label: kohli\n",
            "Image: kohli, Label: kohli\n",
            "Image: kohli, Label: kohli\n",
            "Image: cristiano, Label: cristiano\n",
            "Image: cristiano, Label: cristiano\n",
            "Image: cristiano, Label: cristiano\n",
            "Image: cristiano, Label: cristiano\n",
            "Image: cristiano, Label: cristiano\n",
            "Image: cristiano, Label: cristiano\n",
            "Image: cristiano, Label: cristiano\n",
            "Image: cristiano, Label: cristiano\n",
            "Image: cristiano, Label: cristiano\n",
            "Image: cristiano, Label: cristiano\n",
            "Image: cristiano, Label: cristiano\n",
            "Image: cristiano, Label: cristiano\n",
            "Image: cristiano, Label: cristiano\n",
            "Image: cristiano, Label: cristiano\n",
            "Image: cristiano, Label: cristiano\n",
            "Image: cristiano, Label: cristiano\n",
            "Image: cristiano, Label: cristiano\n",
            "Image: cristiano, Label: cristiano\n",
            "Image: cristiano, Label: cristiano\n",
            "Image: cristiano, Label: cristiano\n",
            "Image: cristiano, Label: cristiano\n",
            "Image: cristiano, Label: cristiano\n",
            "Image: cristiano, Label: cristiano\n",
            "Image: cristiano, Label: cristiano\n",
            "Image: cristiano, Label: cristiano\n",
            "Image: cristiano, Label: cristiano\n",
            "Image: cristiano, Label: cristiano\n",
            "Image: cristiano, Label: cristiano\n",
            "Image: cristiano, Label: cristiano\n",
            "Image: cristiano, Label: cristiano\n",
            "Image: cristiano, Label: cristiano\n",
            "Image: cristiano, Label: cristiano\n",
            "Image: cristiano, Label: cristiano\n",
            "Image: cristiano, Label: cristiano\n",
            "Image: cristiano, Label: cristiano\n",
            "Image: cristiano, Label: cristiano\n",
            "Image: cristiano, Label: cristiano\n",
            "Image: cristiano, Label: cristiano\n",
            "Image: cristiano, Label: cristiano\n",
            "Image: cristiano, Label: cristiano\n",
            "Image: cristiano, Label: cristiano\n",
            "Image: cristiano, Label: cristiano\n",
            "Image: cristiano, Label: cristiano\n",
            "Image: cristiano, Label: cristiano\n",
            "Image: cristiano, Label: cristiano\n",
            "Image: cristiano, Label: cristiano\n",
            "Image: cristiano, Label: cristiano\n",
            "Image: cristiano, Label: cristiano\n",
            "Image: cristiano, Label: cristiano\n",
            "Image: cristiano, Label: cristiano\n",
            "Image: cristiano, Label: cristiano\n",
            "Image: cristiano, Label: cristiano\n",
            "Image: cristiano, Label: cristiano\n",
            "Image: cristiano, Label: cristiano\n",
            "Image: cristiano, Label: cristiano\n",
            "Image: cristiano, Label: cristiano\n",
            "Image: cristiano, Label: cristiano\n",
            "Image: cristiano, Label: cristiano\n",
            "Image: cristiano, Label: cristiano\n",
            "Image: cristiano, Label: cristiano\n",
            "Image: cristiano, Label: cristiano\n",
            "Image: cristiano, Label: cristiano\n",
            "Image: cristiano, Label: cristiano\n",
            "Image: cristiano, Label: cristiano\n",
            "Image: cristiano, Label: cristiano\n",
            "Image: cristiano, Label: cristiano\n",
            "Image: cristiano, Label: cristiano\n",
            "Image: cristiano, Label: cristiano\n",
            "Image: cristiano, Label: cristiano\n",
            "Image: cristiano, Label: cristiano\n",
            "Image: cristiano, Label: cristiano\n",
            "Image: cristiano, Label: cristiano\n",
            "Image: cristiano, Label: cristiano\n",
            "Image: cristiano, Label: cristiano\n",
            "Image: cristiano, Label: cristiano\n",
            "Image: cristiano, Label: cristiano\n",
            "Image: cristiano, Label: cristiano\n",
            "Image: cristiano, Label: cristiano\n",
            "Image: cristiano, Label: cristiano\n",
            "Image: cristiano, Label: cristiano\n",
            "Image: cristiano, Label: cristiano\n",
            "Image: cristiano, Label: cristiano\n",
            "Image: cristiano, Label: cristiano\n",
            "Image: cristiano, Label: cristiano\n",
            "Image: cristiano, Label: cristiano\n",
            "Image: cristiano, Label: cristiano\n",
            "Image: cristiano, Label: cristiano\n",
            "Image: cristiano, Label: cristiano\n",
            "Image: cristiano, Label: cristiano\n",
            "Image: cristiano, Label: cristiano\n",
            "Image: cristiano, Label: cristiano\n",
            "Image: cristiano, Label: cristiano\n",
            "Image: cristiano, Label: cristiano\n",
            "Image: cristiano, Label: cristiano\n",
            "Image: cristiano, Label: cristiano\n",
            "Image: cristiano, Label: cristiano\n",
            "Image: cristiano, Label: cristiano\n",
            "Image: cristiano, Label: cristiano\n",
            "Image: cristiano, Label: cristiano\n",
            "Image: cristiano, Label: cristiano\n",
            "Image: cristiano, Label: cristiano\n",
            "Image: cristiano, Label: cristiano\n",
            "Image: cristiano, Label: cristiano\n",
            "Image: cristiano, Label: cristiano\n",
            "Image: cristiano, Label: cristiano\n",
            "Image: cristiano, Label: cristiano\n",
            "Image: cristiano, Label: cristiano\n",
            "Image: cristiano, Label: cristiano\n",
            "Image: cristiano, Label: cristiano\n",
            "Image: cristiano, Label: cristiano\n",
            "Image: cristiano, Label: cristiano\n",
            "Image: cristiano, Label: cristiano\n",
            "Image: cristiano, Label: cristiano\n",
            "Image: cristiano, Label: cristiano\n",
            "Image: cristiano, Label: cristiano\n",
            "Image: cristiano, Label: cristiano\n",
            "Image: cristiano, Label: cristiano\n",
            "Image: cristiano, Label: cristiano\n",
            "Image: cristiano, Label: cristiano\n",
            "Image: cristiano, Label: cristiano\n",
            "Image: cristiano, Label: cristiano\n"
          ]
        }
      ]
    },
    {
      "cell_type": "code",
      "source": [
        "import numpy as np\n",
        "import matplotlib.pyplot as plt\n",
        "from sklearn.decomposition import PCA\n",
        "from sklearn.manifold import TSNE\n",
        "from sklearn.preprocessing import LabelEncoder\n",
        "from matplotlib.lines import Line2D\n",
        "\n",
        "# Load embeddings and labels\n",
        "embedding_array = np.load('embeddings.npy')\n",
        "name_array = np.load('names.npy')\n",
        "\n",
        "# Encode labels\n",
        "label_encoder = LabelEncoder()\n",
        "encoded_labels = label_encoder.fit_transform(name_array)\n",
        "label_names = label_encoder.classes_\n",
        "\n",
        "# ------------------------\n",
        "# PCA Visualization (2D)\n",
        "# ------------------------\n",
        "\n",
        "pca = PCA(n_components=2)\n",
        "pca_result = pca.fit_transform(embedding_array)\n",
        "\n",
        "plt.figure(figsize=(10, 6))\n",
        "scatter = plt.scatter(pca_result[:, 0], pca_result[:, 1], c=encoded_labels, cmap='tab10', alpha=0.7)\n",
        "plt.title('PCA of Face Embeddings')\n",
        "plt.xlabel('PC 1')\n",
        "plt.ylabel('PC 2')\n",
        "\n",
        "# Create legend manually\n",
        "legend_elements = [Line2D([0], [0], marker='o', color='w', markerfacecolor=scatter.cmap(i / len(label_names)), markersize=10, label=label)\n",
        "                   for i, label in enumerate(label_names)]\n",
        "plt.legend(handles=legend_elements, bbox_to_anchor=(1.05, 1), loc='upper left')\n",
        "\n",
        "plt.grid(True)\n",
        "plt.tight_layout()\n",
        "plt.show()\n",
        "\n",
        "\n",
        "# ------------------------\n",
        "# t-SNE Visualization (2D)\n",
        "# ------------------------\n",
        "\n",
        "tsne = TSNE(n_components=2, random_state=42, perplexity=15, n_iter=3000)\n",
        "tsne_result = tsne.fit_transform(embedding_array)\n",
        "\n",
        "plt.figure(figsize=(10, 6))\n",
        "scatter = plt.scatter(tsne_result[:, 0], tsne_result[:, 1], c=encoded_labels, cmap='tab10', alpha=0.7)\n",
        "plt.title('t-SNE of Face Embeddings')\n",
        "plt.xlabel('Dimension 1')\n",
        "plt.ylabel('Dimension 2')\n",
        "\n",
        "# Create legend manually\n",
        "legend_elements = [Line2D([0], [0], marker='o', color='w', markerfacecolor=scatter.cmap(i / len(label_names)), markersize=10, label=label)\n",
        "                   for i, label in enumerate(label_names)]\n",
        "plt.legend(handles=legend_elements, bbox_to_anchor=(1.05, 1), loc='upper left')\n",
        "\n",
        "plt.grid(True)\n",
        "plt.tight_layout()\n",
        "plt.show()\n"
      ],
      "metadata": {
        "id": "AOHm4VlnzfxY",
        "colab": {
          "base_uri": "https://localhost:8080/",
          "height": 1000
        },
        "outputId": "c3543ea8-3c86-4fe6-a830-c1802ef07343"
      },
      "execution_count": null,
      "outputs": [
        {
          "output_type": "display_data",
          "data": {
            "text/plain": [
              "<Figure size 1000x600 with 1 Axes>"
            ],
            "image/png": "[encoded data removed]"
          },
          "metadata": {}
        },
        {
          "output_type": "stream",
          "name": "stderr",
          "text": [
            "/usr/local/lib/python3.11/dist-packages/sklearn/manifold/_t_sne.py:1164: FutureWarning: 'n_iter' was renamed to 'max_iter' in version 1.5 and will be removed in 1.7.\n",
            "  warnings.warn(\n"
          ]
        },
        {
          "output_type": "display_data",
          "data": {
            "text/plain": [
              "<Figure size 1000x600 with 1 Axes>"
            ],
            "image/png": "[encoded data removed]"
          },
          "metadata": {}
        }
      ]
    },
    {
      "cell_type": "code",
      "source": [
        "import numpy as np\n",
        "from sklearn.preprocessing import LabelEncoder\n",
        "from sklearn.neighbors import KNeighborsClassifier\n",
        "import torch\n",
        "from facenet_pytorch import InceptionResnetV1, MTCNN\n",
        "from tqdm import tqdm\n",
        "from PIL import Image\n",
        "import os\n",
        "\n",
        "# ------------------------\n",
        "# Step 1: Load Preprocessed Embeddings and Labels\n",
        "# ------------------------\n",
        "\n",
        "# Load the embeddings and labels from the saved .npy files\n",
        "embedding_array = np.load('embeddings.npy')\n",
        "name_array = np.load('names.npy')\n",
        "\n",
        "# Check the shape of the embeddings and labels\n",
        "print(f\"Embeddings shape: {embedding_array.shape}\")\n",
        "print(f\"Labels shape: {name_array.shape}\")\n",
        "\n",
        "# ------------------------\n",
        "# Step 2: Train a Classifier KNN for Recognition\n",
        "# ------------------------\n",
        "\n",
        "# Encode the labels to numerical values using LabelEncoder\n",
        "label_encoder = LabelEncoder()\n",
        "encoded_labels = label_encoder.fit_transform(name_array)\n",
        "\n",
        "# Create and train a KNN classifier\n",
        "knn = KNeighborsClassifier(n_neighbors=1, metric='cosine')\n",
        "knn.fit(embedding_array, encoded_labels)\n",
        "\n",
        "# ------------------------\n",
        "# Step 3: Save Classifier for Later Use\n",
        "# ------------------------\n",
        "\n",
        "# Save the trained classifier and label encoder for future use\n",
        "import joblib\n",
        "joblib.dump(knn, 'knn_classifier.pkl')\n",
        "joblib.dump(label_encoder, 'label_encoder.pkl')\n"
      ],
      "metadata": {
        "colab": {
          "base_uri": "https://localhost:8080/"
        },
        "id": "Kkx6dPVQv4Cs",
        "outputId": "44980c73-0555-413d-a983-d02bbadb8307"
      },
      "execution_count": null,
      "outputs": [
        {
          "output_type": "stream",
          "name": "stdout",
          "text": [
            "Embeddings shape: (604, 512)\n",
            "Labels shape: (604,)\n"
          ]
        },
        {
          "output_type": "execute_result",
          "data": {
            "text/plain": [
              "['label_encoder.pkl']"
            ]
          },
          "metadata": {},
          "execution_count": 13
        }
      ]
    },
    {
      "cell_type": "code",
      "source": [
        "# Initialize MTCNN and ResNet for face detection and embeddings\n",
        "mtcnn = MTCNN(keep_all=True, device='cuda' if torch.cuda.is_available() else 'cpu')\n",
        "resnet = InceptionResnetV1(pretrained='vggface2').eval()\n",
        "from sklearn.metrics.pairwise import cosine_similarity\n",
        "import numpy as np\n",
        "def predict_identity_with_threshold(image, knn, label_encoder, threshold=0.4):\n",
        "    image = image.convert('RGB')  # Ensure image is in RGB format\n",
        "\n",
        "    faces, probs = mtcnn(image, return_prob=True)\n",
        "\n",
        "    if faces is not None:\n",
        "        for face in faces:\n",
        "            with torch.no_grad():\n",
        "                embedding = resnet(face.unsqueeze(0))\n",
        "            embedding_np = embedding.detach().cpu().numpy()\n",
        "\n",
        "            # Adjust distance calculation and prediction logic\n",
        "            distances, indices = knn.kneighbors(embedding_np, n_neighbors=5)  # Using 5 neighbors\n",
        "            average_distance = np.mean(distances)  # Use average distance instead of min distance\n",
        "\n",
        "            if average_distance < threshold:\n",
        "                predicted_label = knn.predict(embedding_np)\n",
        "                name = label_encoder.inverse_transform(predicted_label)[0]\n",
        "                print(f\"✅ Predicted Name: {name} (Average Distance: {average_distance:.3f})\")\n",
        "            else:\n",
        "                print(f\"❌ Unknown Face (Average Distance: {average_distance:.3f})\")\n",
        "    else:\n",
        "        print(\"❌ No face detected in the image.\")\n"
      ],
      "metadata": {
        "id": "-NL0QgFJyUiU"
      },
      "execution_count": null,
      "outputs": []
    },
    {
      "cell_type": "code",
      "source": [
        "from google.colab import files\n",
        "from PIL import Image\n",
        "import io\n",
        "\n",
        "uploaded = files.upload()\n",
        "\n",
        "for filename in uploaded.keys():\n",
        "    image = Image.open(io.BytesIO(uploaded[filename]))\n",
        "    predict_identity_with_threshold(image, knn, label_encoder)\n"
      ],
      "metadata": {
        "colab": {
          "base_uri": "https://localhost:8080/",
          "height": 90
        },
        "id": "l7zRlvQoF1Rc",
        "outputId": "c69d22e5-061a-4dd8-bda2-e6076616a971"
      },
      "execution_count": null,
      "outputs": [
        {
          "output_type": "display_data",
          "data": {
            "text/plain": [
              "<IPython.core.display.HTML object>"
            ],
            "text/html": [
              "\n",
              "     <input type=\"file\" id=\"files-d460a365-0a4f-4395-beee-d5bab7830606\" name=\"files[]\" multiple disabled\n",
              "        style=\"border:none\" />\n",
              "     <output id=\"result-d460a365-0a4f-4395-beee-d5bab7830606\">\n",
              "      Upload widget is only available when the cell has been executed in the\n",
              "      current browser session. Please rerun this cell to enable.\n",
              "      </output>\n",
              "      <script>// Copyright 2017 Google LLC\n",
              "//\n",
              "// Licensed under the Apache License, Version 2.0 (the \"License\");\n",
              "// you may not use this file except in compliance with the License.\n",
              "// You may obtain a copy of the License at\n",
              "//\n",
              "//      http://www.apache.org/licenses/LICENSE-2.0\n",
              "//\n",
              "// Unless required by applicable law or agreed to in writing, software\n",
              "// distributed under the License is distributed on an \"AS IS\" BASIS,\n",
              "// WITHOUT WARRANTIES OR CONDITIONS OF ANY KIND, either express or implied.\n",
              "// See the License for the specific language governing permissions and\n",
              "// limitations under the License.\n",
              "\n",
              "/**\n",
              " * @fileoverview Helpers for google.colab Python module.\n",
              " */\n",
              "(function(scope) {\n",
              "function span(text, styleAttributes = {}) {\n",
              "  const element = document.createElement('span');\n",
              "  element.textContent = text;\n",
              "  for (const key of Object.keys(styleAttributes)) {\n",
              "    element.style[key] = styleAttributes[key];\n",
              "  }\n",
              "  return element;\n",
              "}\n",
              "\n",
              "// Max number of bytes which will be uploaded at a time.\n",
              "const MAX_PAYLOAD_SIZE = 100 * 1024;\n",
              "\n",
              "function _uploadFiles(inputId, outputId) {\n",
              "  const steps = uploadFilesStep(inputId, outputId);\n",
              "  const outputElement = document.getElementById(outputId);\n",
              "  // Cache steps on the outputElement to make it available for the next call\n",
              "  // to uploadFilesContinue from Python.\n",
              "  outputElement.steps = steps;\n",
              "\n",
              "  return _uploadFilesContinue(outputId);\n",
              "}\n",
              "\n",
              "// This is roughly an async generator (not supported in the browser yet),\n",
              "// where there are multiple asynchronous steps and the Python side is going\n",
              "// to poll for completion of each step.\n",
              "// This uses a Promise to block the python side on completion of each step,\n",
              "// then passes the result of the previous step as the input to the next step.\n",
              "function _uploadFilesContinue(outputId) {\n",
              "  const outputElement = document.getElementById(outputId);\n",
              "  const steps = outputElement.steps;\n",
              "\n",
              "  const next = steps.next(outputElement.lastPromiseValue);\n",
              "  return Promise.resolve(next.value.promise).then((value) => {\n",
              "    // Cache the last promise value to make it available to the next\n",
              "    // step of the generator.\n",
              "    outputElement.lastPromiseValue = value;\n",
              "    return next.value.response;\n",
              "  });\n",
              "}\n",
              "\n",
              "/**\n",
              " * Generator function which is called between each async step of the upload\n",
              " * process.\n",
              " * @param {string} inputId Element ID of the input file picker element.\n",
              " * @param {string} outputId Element ID of the output display.\n",
              " * @return {!Iterable<!Object>} Iterable of next steps.\n",
              " */\n",
              "function* uploadFilesStep(inputId, outputId) {\n",
              "  const inputElement = document.getElementById(inputId);\n",
              "  inputElement.disabled = false;\n",
              "\n",
              "  const outputElement = document.getElementById(outputId);\n",
              "  outputElement.innerHTML = '';\n",
              "\n",
              "  const pickedPromise = new Promise((resolve) => {\n",
              "    inputElement.addEventListener('change', (e) => {\n",
              "      resolve(e.target.files);\n",
              "    });\n",
              "  });\n",
              "\n",
              "  const cancel = document.createElement('button');\n",
              "  inputElement.parentElement.appendChild(cancel);\n",
              "  cancel.textContent = 'Cancel upload';\n",
              "  const cancelPromise = new Promise((resolve) => {\n",
              "    cancel.onclick = () => {\n",
              "      resolve(null);\n",
              "    };\n",
              "  });\n",
              "\n",
              "  // Wait for the user to pick the files.\n",
              "  const files = yield {\n",
              "    promise: Promise.race([pickedPromise, cancelPromise]),\n",
              "    response: {\n",
              "      action: 'starting',\n",
              "    }\n",
              "  };\n",
              "\n",
              "  cancel.remove();\n",
              "\n",
              "  // Disable the input element since further picks are not allowed.\n",
              "  inputElement.disabled = true;\n",
              "\n",
              "  if (!files) {\n",
              "    return {\n",
              "      response: {\n",
              "        action: 'complete',\n",
              "      }\n",
              "    };\n",
              "  }\n",
              "\n",
              "  for (const file of files) {\n",
              "    const li = document.createElement('li');\n",
              "    li.append(span(file.name, {fontWeight: 'bold'}));\n",
              "    li.append(span(\n",
              "        `(${file.type || 'n/a'}) - ${file.size} bytes, ` +\n",
              "        `last modified: ${\n",
              "            file.lastModifiedDate ? file.lastModifiedDate.toLocaleDateString() :\n",
              "                                    'n/a'} - `));\n",
              "    const percent = span('0% done');\n",
              "    li.appendChild(percent);\n",
              "\n",
              "    outputElement.appendChild(li);\n",
              "\n",
              "    const fileDataPromise = new Promise((resolve) => {\n",
              "      const reader = new FileReader();\n",
              "      reader.onload = (e) => {\n",
              "        resolve(e.target.result);\n",
              "      };\n",
              "      reader.readAsArrayBuffer(file);\n",
              "    });\n",
              "    // Wait for the data to be ready.\n",
              "    let fileData = yield {\n",
              "      promise: fileDataPromise,\n",
              "      response: {\n",
              "        action: 'continue',\n",
              "      }\n",
              "    };\n",
              "\n",
              "    // Use a chunked sending to avoid message size limits. See b/62115660.\n",
              "    let position = 0;\n",
              "    do {\n",
              "      const length = Math.min(fileData.byteLength - position, MAX_PAYLOAD_SIZE);\n",
              "      const chunk = new Uint8Array(fileData, position, length);\n",
              "      position += length;\n",
              "\n",
              "      const base64 = btoa(String.fromCharCode.apply(null, chunk));\n",
              "      yield {\n",
              "        response: {\n",
              "          action: 'append',\n",
              "          file: file.name,\n",
              "          data: base64,\n",
              "        },\n",
              "      };\n",
              "\n",
              "      let percentDone = fileData.byteLength === 0 ?\n",
              "          100 :\n",
              "          Math.round((position / fileData.byteLength) * 100);\n",
              "      percent.textContent = `${percentDone}% done`;\n",
              "\n",
              "    } while (position < fileData.byteLength);\n",
              "  }\n",
              "\n",
              "  // All done.\n",
              "  yield {\n",
              "    response: {\n",
              "      action: 'complete',\n",
              "    }\n",
              "  };\n",
              "}\n",
              "\n",
              "scope.google = scope.google || {};\n",
              "scope.google.colab = scope.google.colab || {};\n",
              "scope.google.colab._files = {\n",
              "  _uploadFiles,\n",
              "  _uploadFilesContinue,\n",
              "};\n",
              "})(self);\n",
              "</script> "
            ]
          },
          "metadata": {}
        },
        {
          "output_type": "stream",
          "name": "stdout",
          "text": [
            "Saving download.jpeg to download.jpeg\n",
            "❌ Unknown Face (Average Distance: 0.620)\n"
          ]
        }
      ]
    },
    {
      "cell_type": "code",
      "source": [],
      "metadata": {
        "id": "0hQ98UwTIUuM"
      },
      "execution_count": null,
      "outputs": []
    }
  ]
}